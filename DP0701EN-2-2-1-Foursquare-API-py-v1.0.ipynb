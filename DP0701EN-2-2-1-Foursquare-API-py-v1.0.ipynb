{
 "cells": [
  {
   "cell_type": "markdown",
   "metadata": {
    "button": false,
    "new_sheet": false,
    "run_control": {
     "read_only": false
    }
   },
   "source": [
    "<a href=\"https://cognitiveclass.ai\"><img src = \"https://ibm.box.com/shared/static/9gegpsmnsoo25ikkbl4qzlvlyjbgxs5x.png\" width = 400> </a>\n",
    "\n",
    "<h1 align=center><font size = 5>Learning FourSquare API with Python</font></h1>"
   ]
  },
  {
   "cell_type": "markdown",
   "metadata": {
    "button": false,
    "new_sheet": false,
    "run_control": {
     "read_only": false
    }
   },
   "source": [
    "   "
   ]
  },
  {
   "cell_type": "markdown",
   "metadata": {
    "button": false,
    "new_sheet": false,
    "run_control": {
     "read_only": false
    }
   },
   "source": [
    "## Introduction\n",
    "\n",
    "In this lab, you will learn in details how to make calls to the Foursquare API for different purposes. You will learn how to construct a URL to send a request to the API to search for a specific type of venues, to explore a particular venue, to explore a Foursquare user, to explore a geographical location, and to get trending venues around a location. Also, you will learn how to use the visualization library, Folium, to visualize the results."
   ]
  },
  {
   "cell_type": "markdown",
   "metadata": {
    "button": false,
    "new_sheet": false,
    "run_control": {
     "read_only": false
    }
   },
   "source": [
    "## Table of Contents\n",
    "\n",
    "1. <a href=\"#item1\">Foursquare API Search Function</a>\n",
    "2. <a href=\"#item2\">Explore a Given Venue</a>  \n",
    "3. <a href=\"#item3\">Explore a User</a>  \n",
    "4. <a href=\"#item4\">Foursquare API Explore Function</a>  \n",
    "5. <a href=\"#item5\">Get Trending Venues</a>  "
   ]
  },
  {
   "cell_type": "markdown",
   "metadata": {
    "button": false,
    "new_sheet": false,
    "run_control": {
     "read_only": false
    }
   },
   "source": [
    "### Import necessary Libraries"
   ]
  },
  {
   "cell_type": "code",
   "execution_count": 1,
   "metadata": {
    "button": false,
    "new_sheet": false,
    "run_control": {
     "read_only": false
    }
   },
   "outputs": [
    {
     "name": "stdout",
     "output_type": "stream",
     "text": [
      "Collecting package metadata (current_repodata.json): done\n",
      "Solving environment: done\n",
      "\n",
      "## Package Plan ##\n",
      "\n",
      "  environment location: /Users/andy/opt/anaconda3\n",
      "\n",
      "  added / updated specs:\n",
      "    - geopy\n",
      "\n",
      "\n",
      "The following packages will be downloaded:\n",
      "\n",
      "    package                    |            build\n",
      "    ---------------------------|-----------------\n",
      "    geographiclib-1.50         |             py_0          34 KB  conda-forge\n",
      "    geopy-2.0.0                |     pyh9f0ad1d_0          63 KB  conda-forge\n",
      "    ------------------------------------------------------------\n",
      "                                           Total:          97 KB\n",
      "\n",
      "The following NEW packages will be INSTALLED:\n",
      "\n",
      "  geographiclib      conda-forge/noarch::geographiclib-1.50-py_0\n",
      "  geopy              conda-forge/noarch::geopy-2.0.0-pyh9f0ad1d_0\n",
      "\n",
      "The following packages will be UPDATED:\n",
      "\n",
      "  conda                       pkgs/main::conda-4.8.3-py37_0 --> conda-forge::conda-4.8.3-py37hc8dfbb8_1\n",
      "\n",
      "\n",
      "\n",
      "Downloading and Extracting Packages\n",
      "geographiclib-1.50   | 34 KB     | ##################################### | 100% \n",
      "geopy-2.0.0          | 63 KB     | ##################################### | 100% \n",
      "Preparing transaction: done\n",
      "Verifying transaction: done\n",
      "Executing transaction: done\n",
      "Collecting package metadata (current_repodata.json): done\n",
      "Solving environment: done\n",
      "\n",
      "# All requested packages already installed.\n",
      "\n",
      "Folium installed\n",
      "Libraries imported.\n"
     ]
    }
   ],
   "source": [
    "import requests # library to handle requests\n",
    "import pandas as pd # library for data analsysis\n",
    "import numpy as np # library to handle data in a vectorized manner\n",
    "import random # library for random number generation\n",
    "\n",
    "!conda install -c conda-forge geopy --yes \n",
    "from geopy.geocoders import Nominatim # module to convert an address into latitude and longitude values\n",
    "\n",
    "# libraries for displaying images\n",
    "from IPython.display import Image \n",
    "from IPython.core.display import HTML \n",
    "    \n",
    "# tranforming json file into a pandas dataframe library\n",
    "from pandas.io.json import json_normalize\n",
    "\n",
    "!conda install -c conda-forge folium=0.5.0 --yes\n",
    "import folium # plotting library\n",
    "\n",
    "print('Folium installed')\n",
    "print('Libraries imported.')"
   ]
  },
  {
   "cell_type": "code",
   "execution_count": null,
   "metadata": {},
   "outputs": [],
   "source": []
  },
  {
   "cell_type": "code",
   "execution_count": null,
   "metadata": {},
   "outputs": [],
   "source": []
  },
  {
   "cell_type": "markdown",
   "metadata": {
    "button": false,
    "new_sheet": false,
    "run_control": {
     "read_only": false
    }
   },
   "source": [
    "### Define Foursquare Credentials and Version"
   ]
  },
  {
   "cell_type": "markdown",
   "metadata": {
    "button": false,
    "new_sheet": false,
    "run_control": {
     "read_only": false
    }
   },
   "source": [
    "##### Make sure that you have created a Foursquare developer account and have your credentials handy"
   ]
  },
  {
   "cell_type": "code",
   "execution_count": 2,
   "metadata": {
    "button": false,
    "new_sheet": false,
    "run_control": {
     "read_only": false
    }
   },
   "outputs": [
    {
     "name": "stdout",
     "output_type": "stream",
     "text": [
      "Your credentails:\n",
      "CLIENT_ID: MAANLALQ0AREGRVQSVSVQPSZZRLCRXOODYCM3SB3MXXAZYS5\n",
      "CLIENT_SECRET:KIJZGG4BXA3P2XYVJQFYPO4LH51KUEBMEH3MADNDSCZOELHH\n"
     ]
    }
   ],
   "source": [
    "CLIENT_ID = 'MAANLALQ0AREGRVQSVSVQPSZZRLCRXOODYCM3SB3MXXAZYS5' # your Foursquare ID\n",
    "CLIENT_SECRET = 'KIJZGG4BXA3P2XYVJQFYPO4LH51KUEBMEH3MADNDSCZOELHH' # your Foursquare Secret\n",
    "VERSION = '20180604'\n",
    "LIMIT = 30\n",
    "print('Your credentails:')\n",
    "print('CLIENT_ID: ' + CLIENT_ID)\n",
    "print('CLIENT_SECRET:' + CLIENT_SECRET)"
   ]
  },
  {
   "cell_type": "code",
   "execution_count": null,
   "metadata": {},
   "outputs": [],
   "source": []
  },
  {
   "cell_type": "code",
   "execution_count": null,
   "metadata": {},
   "outputs": [],
   "source": []
  },
  {
   "cell_type": "markdown",
   "metadata": {
    "button": false,
    "new_sheet": false,
    "run_control": {
     "read_only": false
    }
   },
   "source": [
    "  "
   ]
  },
  {
   "cell_type": "markdown",
   "metadata": {
    "button": false,
    "new_sheet": false,
    "run_control": {
     "read_only": false
    }
   },
   "source": [
    "#### Let's again assume that you are staying at the Conrad hotel. So let's start by converting the Contrad Hotel's address to its latitude and longitude coordinates."
   ]
  },
  {
   "cell_type": "markdown",
   "metadata": {},
   "source": [
    "In order to define an instance of the geocoder, we need to define a user_agent. We will name our agent <em>foursquare_agent</em>, as shown below."
   ]
  },
  {
   "cell_type": "code",
   "execution_count": 3,
   "metadata": {
    "button": false,
    "new_sheet": false,
    "run_control": {
     "read_only": false
    }
   },
   "outputs": [
    {
     "name": "stdout",
     "output_type": "stream",
     "text": [
      "40.7151482 -74.0156573\n"
     ]
    }
   ],
   "source": [
    "address = '102 North End Ave, New York, NY'\n",
    "\n",
    "geolocator = Nominatim(user_agent=\"foursquare_agent\")\n",
    "location = geolocator.geocode(address)\n",
    "latitude = location.latitude\n",
    "longitude = location.longitude\n",
    "print(latitude, longitude)"
   ]
  },
  {
   "cell_type": "code",
   "execution_count": null,
   "metadata": {},
   "outputs": [],
   "source": []
  },
  {
   "cell_type": "code",
   "execution_count": null,
   "metadata": {},
   "outputs": [],
   "source": []
  },
  {
   "cell_type": "markdown",
   "metadata": {
    "button": false,
    "new_sheet": false,
    "run_control": {
     "read_only": false
    }
   },
   "source": [
    "   "
   ]
  },
  {
   "cell_type": "markdown",
   "metadata": {
    "button": false,
    "new_sheet": false,
    "run_control": {
     "read_only": false
    }
   },
   "source": [
    "<a id=\"item1\"></a>"
   ]
  },
  {
   "cell_type": "markdown",
   "metadata": {
    "button": false,
    "new_sheet": false,
    "run_control": {
     "read_only": false
    }
   },
   "source": [
    "## 1. Search for a specific venue category\n",
    "> `https://api.foursquare.com/v2/venues/`**search**`?client_id=`**CLIENT_ID**`&client_secret=`**CLIENT_SECRET**`&ll=`**LATITUDE**`,`**LONGITUDE**`&v=`**VERSION**`&query=`**QUERY**`&radius=`**RADIUS**`&limit=`**LIMIT**"
   ]
  },
  {
   "cell_type": "markdown",
   "metadata": {
    "button": false,
    "new_sheet": false,
    "run_control": {
     "read_only": false
    }
   },
   "source": [
    "#### Now, let's assume that it is lunch time, and you are craving Italian food. So, let's define a query to search for Italian food that is within 500 metres from the Conrad Hotel. "
   ]
  },
  {
   "cell_type": "code",
   "execution_count": 4,
   "metadata": {
    "button": false,
    "new_sheet": false,
    "run_control": {
     "read_only": false
    },
    "scrolled": true
   },
   "outputs": [
    {
     "name": "stdout",
     "output_type": "stream",
     "text": [
      "Italian .... OK!\n"
     ]
    }
   ],
   "source": [
    "search_query = 'Italian'\n",
    "radius = 500\n",
    "print(search_query + ' .... OK!')"
   ]
  },
  {
   "cell_type": "code",
   "execution_count": null,
   "metadata": {},
   "outputs": [],
   "source": []
  },
  {
   "cell_type": "code",
   "execution_count": null,
   "metadata": {},
   "outputs": [],
   "source": []
  },
  {
   "cell_type": "markdown",
   "metadata": {
    "button": false,
    "new_sheet": false,
    "run_control": {
     "read_only": false
    }
   },
   "source": [
    "#### Define the corresponding URL"
   ]
  },
  {
   "cell_type": "code",
   "execution_count": 5,
   "metadata": {
    "button": false,
    "new_sheet": false,
    "run_control": {
     "read_only": false
    }
   },
   "outputs": [
    {
     "data": {
      "text/plain": [
       "'https://api.foursquare.com/v2/venues/search?client_id=MAANLALQ0AREGRVQSVSVQPSZZRLCRXOODYCM3SB3MXXAZYS5&client_secret=KIJZGG4BXA3P2XYVJQFYPO4LH51KUEBMEH3MADNDSCZOELHH&ll=40.7151482,-74.0156573&v=20180604&query=Italian&radius=500&limit=30'"
      ]
     },
     "execution_count": 5,
     "metadata": {},
     "output_type": "execute_result"
    }
   ],
   "source": [
    "url = 'https://api.foursquare.com/v2/venues/search?client_id={}&client_secret={}&ll={},{}&v={}&query={}&radius={}&limit={}'.format(CLIENT_ID, CLIENT_SECRET, latitude, longitude, VERSION, search_query, radius, LIMIT)\n",
    "url"
   ]
  },
  {
   "cell_type": "code",
   "execution_count": null,
   "metadata": {},
   "outputs": [],
   "source": []
  },
  {
   "cell_type": "code",
   "execution_count": null,
   "metadata": {},
   "outputs": [],
   "source": []
  },
  {
   "cell_type": "markdown",
   "metadata": {
    "button": false,
    "new_sheet": false,
    "run_control": {
     "read_only": false
    }
   },
   "source": [
    "#### Send the GET Request and examine the results"
   ]
  },
  {
   "cell_type": "code",
   "execution_count": 6,
   "metadata": {
    "button": false,
    "new_sheet": false,
    "run_control": {
     "read_only": false
    },
    "scrolled": true
   },
   "outputs": [
    {
     "data": {
      "text/plain": [
       "{'meta': {'code': 200, 'requestId': '5f0d77bb20d13b532c7f93dc'},\n",
       " 'response': {'venues': [{'id': '4fa862b3e4b0ebff2f749f06',\n",
       "    'name': \"Harry's Italian Pizza Bar\",\n",
       "    'location': {'address': '225 Murray St',\n",
       "     'lat': 40.71521779064671,\n",
       "     'lng': -74.01473940209351,\n",
       "     'labeledLatLngs': [{'label': 'display',\n",
       "       'lat': 40.71521779064671,\n",
       "       'lng': -74.01473940209351},\n",
       "      {'label': 'entrance', 'lat': 40.715361, 'lng': -74.014975}],\n",
       "     'distance': 77,\n",
       "     'postalCode': '10282',\n",
       "     'cc': 'US',\n",
       "     'city': 'New York',\n",
       "     'state': 'NY',\n",
       "     'country': 'United States',\n",
       "     'formattedAddress': ['225 Murray St',\n",
       "      'New York, NY 10282',\n",
       "      'United States']},\n",
       "    'categories': [{'id': '4bf58dd8d48988d1ca941735',\n",
       "      'name': 'Pizza Place',\n",
       "      'pluralName': 'Pizza Places',\n",
       "      'shortName': 'Pizza',\n",
       "      'icon': {'prefix': 'https://ss3.4sqi.net/img/categories_v2/food/pizza_',\n",
       "       'suffix': '.png'},\n",
       "      'primary': True}],\n",
       "    'referralId': 'v-1594718773',\n",
       "    'hasPerk': False},\n",
       "   {'id': '4f3232e219836c91c7bfde94',\n",
       "    'name': 'Conca Cucina Italian Restaurant',\n",
       "    'location': {'address': '63 W Broadway',\n",
       "     'lat': 40.714484000000006,\n",
       "     'lng': -74.00980600000001,\n",
       "     'labeledLatLngs': [{'label': 'display',\n",
       "       'lat': 40.714484000000006,\n",
       "       'lng': -74.00980600000001}],\n",
       "     'distance': 499,\n",
       "     'postalCode': '10007',\n",
       "     'cc': 'US',\n",
       "     'city': 'New York',\n",
       "     'state': 'NY',\n",
       "     'country': 'United States',\n",
       "     'formattedAddress': ['63 W Broadway',\n",
       "      'New York, NY 10007',\n",
       "      'United States']},\n",
       "    'categories': [{'id': '4d4b7105d754a06374d81259',\n",
       "      'name': 'Food',\n",
       "      'pluralName': 'Food',\n",
       "      'shortName': 'Food',\n",
       "      'icon': {'prefix': 'https://ss3.4sqi.net/img/categories_v2/food/default_',\n",
       "       'suffix': '.png'},\n",
       "      'primary': True}],\n",
       "    'referralId': 'v-1594718773',\n",
       "    'hasPerk': False}]}}"
      ]
     },
     "execution_count": 6,
     "metadata": {},
     "output_type": "execute_result"
    }
   ],
   "source": [
    "results = requests.get(url).json()\n",
    "results"
   ]
  },
  {
   "cell_type": "code",
   "execution_count": null,
   "metadata": {},
   "outputs": [],
   "source": []
  },
  {
   "cell_type": "code",
   "execution_count": null,
   "metadata": {},
   "outputs": [],
   "source": []
  },
  {
   "cell_type": "markdown",
   "metadata": {
    "button": false,
    "new_sheet": false,
    "run_control": {
     "read_only": false
    }
   },
   "source": [
    "#### Get relevant part of JSON and transform it into a *pandas* dataframe"
   ]
  },
  {
   "cell_type": "code",
   "execution_count": 7,
   "metadata": {
    "button": false,
    "new_sheet": false,
    "run_control": {
     "read_only": false
    }
   },
   "outputs": [
    {
     "data": {
      "text/html": [
       "<div>\n",
       "<style scoped>\n",
       "    .dataframe tbody tr th:only-of-type {\n",
       "        vertical-align: middle;\n",
       "    }\n",
       "\n",
       "    .dataframe tbody tr th {\n",
       "        vertical-align: top;\n",
       "    }\n",
       "\n",
       "    .dataframe thead th {\n",
       "        text-align: right;\n",
       "    }\n",
       "</style>\n",
       "<table border=\"1\" class=\"dataframe\">\n",
       "  <thead>\n",
       "    <tr style=\"text-align: right;\">\n",
       "      <th></th>\n",
       "      <th>id</th>\n",
       "      <th>name</th>\n",
       "      <th>categories</th>\n",
       "      <th>referralId</th>\n",
       "      <th>hasPerk</th>\n",
       "      <th>location.address</th>\n",
       "      <th>location.lat</th>\n",
       "      <th>location.lng</th>\n",
       "      <th>location.labeledLatLngs</th>\n",
       "      <th>location.distance</th>\n",
       "      <th>location.postalCode</th>\n",
       "      <th>location.cc</th>\n",
       "      <th>location.city</th>\n",
       "      <th>location.state</th>\n",
       "      <th>location.country</th>\n",
       "      <th>location.formattedAddress</th>\n",
       "    </tr>\n",
       "  </thead>\n",
       "  <tbody>\n",
       "    <tr>\n",
       "      <th>0</th>\n",
       "      <td>4fa862b3e4b0ebff2f749f06</td>\n",
       "      <td>Harry's Italian Pizza Bar</td>\n",
       "      <td>[{'id': '4bf58dd8d48988d1ca941735', 'name': 'P...</td>\n",
       "      <td>v-1594718773</td>\n",
       "      <td>False</td>\n",
       "      <td>225 Murray St</td>\n",
       "      <td>40.715218</td>\n",
       "      <td>-74.014739</td>\n",
       "      <td>[{'label': 'display', 'lat': 40.71521779064671...</td>\n",
       "      <td>77</td>\n",
       "      <td>10282</td>\n",
       "      <td>US</td>\n",
       "      <td>New York</td>\n",
       "      <td>NY</td>\n",
       "      <td>United States</td>\n",
       "      <td>[225 Murray St, New York, NY 10282, United Sta...</td>\n",
       "    </tr>\n",
       "    <tr>\n",
       "      <th>1</th>\n",
       "      <td>4f3232e219836c91c7bfde94</td>\n",
       "      <td>Conca Cucina Italian Restaurant</td>\n",
       "      <td>[{'id': '4d4b7105d754a06374d81259', 'name': 'F...</td>\n",
       "      <td>v-1594718773</td>\n",
       "      <td>False</td>\n",
       "      <td>63 W Broadway</td>\n",
       "      <td>40.714484</td>\n",
       "      <td>-74.009806</td>\n",
       "      <td>[{'label': 'display', 'lat': 40.71448400000000...</td>\n",
       "      <td>499</td>\n",
       "      <td>10007</td>\n",
       "      <td>US</td>\n",
       "      <td>New York</td>\n",
       "      <td>NY</td>\n",
       "      <td>United States</td>\n",
       "      <td>[63 W Broadway, New York, NY 10007, United Sta...</td>\n",
       "    </tr>\n",
       "  </tbody>\n",
       "</table>\n",
       "</div>"
      ],
      "text/plain": [
       "                         id                             name  \\\n",
       "0  4fa862b3e4b0ebff2f749f06        Harry's Italian Pizza Bar   \n",
       "1  4f3232e219836c91c7bfde94  Conca Cucina Italian Restaurant   \n",
       "\n",
       "                                          categories    referralId  hasPerk  \\\n",
       "0  [{'id': '4bf58dd8d48988d1ca941735', 'name': 'P...  v-1594718773    False   \n",
       "1  [{'id': '4d4b7105d754a06374d81259', 'name': 'F...  v-1594718773    False   \n",
       "\n",
       "  location.address  location.lat  location.lng  \\\n",
       "0    225 Murray St     40.715218    -74.014739   \n",
       "1    63 W Broadway     40.714484    -74.009806   \n",
       "\n",
       "                             location.labeledLatLngs  location.distance  \\\n",
       "0  [{'label': 'display', 'lat': 40.71521779064671...                 77   \n",
       "1  [{'label': 'display', 'lat': 40.71448400000000...                499   \n",
       "\n",
       "  location.postalCode location.cc location.city location.state  \\\n",
       "0               10282          US      New York             NY   \n",
       "1               10007          US      New York             NY   \n",
       "\n",
       "  location.country                          location.formattedAddress  \n",
       "0    United States  [225 Murray St, New York, NY 10282, United Sta...  \n",
       "1    United States  [63 W Broadway, New York, NY 10007, United Sta...  "
      ]
     },
     "execution_count": 7,
     "metadata": {},
     "output_type": "execute_result"
    }
   ],
   "source": [
    "# assign relevant part of JSON to venues\n",
    "venues = results['response']['venues']\n",
    "\n",
    "# tranform venues into a dataframe\n",
    "dataframe = pd.json_normalize(venues)\n",
    "dataframe.head()"
   ]
  },
  {
   "cell_type": "code",
   "execution_count": null,
   "metadata": {},
   "outputs": [],
   "source": []
  },
  {
   "cell_type": "code",
   "execution_count": null,
   "metadata": {},
   "outputs": [],
   "source": []
  },
  {
   "cell_type": "code",
   "execution_count": null,
   "metadata": {},
   "outputs": [],
   "source": []
  },
  {
   "cell_type": "markdown",
   "metadata": {
    "button": false,
    "new_sheet": false,
    "run_control": {
     "read_only": false
    }
   },
   "source": [
    "#### Define information of interest and filter dataframe"
   ]
  },
  {
   "cell_type": "code",
   "execution_count": 8,
   "metadata": {
    "button": false,
    "new_sheet": false,
    "run_control": {
     "read_only": false
    },
    "scrolled": true
   },
   "outputs": [
    {
     "data": {
      "text/html": [
       "<div>\n",
       "<style scoped>\n",
       "    .dataframe tbody tr th:only-of-type {\n",
       "        vertical-align: middle;\n",
       "    }\n",
       "\n",
       "    .dataframe tbody tr th {\n",
       "        vertical-align: top;\n",
       "    }\n",
       "\n",
       "    .dataframe thead th {\n",
       "        text-align: right;\n",
       "    }\n",
       "</style>\n",
       "<table border=\"1\" class=\"dataframe\">\n",
       "  <thead>\n",
       "    <tr style=\"text-align: right;\">\n",
       "      <th></th>\n",
       "      <th>name</th>\n",
       "      <th>categories</th>\n",
       "      <th>address</th>\n",
       "      <th>lat</th>\n",
       "      <th>lng</th>\n",
       "      <th>labeledLatLngs</th>\n",
       "      <th>distance</th>\n",
       "      <th>postalCode</th>\n",
       "      <th>cc</th>\n",
       "      <th>city</th>\n",
       "      <th>state</th>\n",
       "      <th>country</th>\n",
       "      <th>formattedAddress</th>\n",
       "      <th>id</th>\n",
       "    </tr>\n",
       "  </thead>\n",
       "  <tbody>\n",
       "    <tr>\n",
       "      <th>0</th>\n",
       "      <td>Harry's Italian Pizza Bar</td>\n",
       "      <td>Pizza Place</td>\n",
       "      <td>225 Murray St</td>\n",
       "      <td>40.715218</td>\n",
       "      <td>-74.014739</td>\n",
       "      <td>[{'label': 'display', 'lat': 40.71521779064671...</td>\n",
       "      <td>77</td>\n",
       "      <td>10282</td>\n",
       "      <td>US</td>\n",
       "      <td>New York</td>\n",
       "      <td>NY</td>\n",
       "      <td>United States</td>\n",
       "      <td>[225 Murray St, New York, NY 10282, United Sta...</td>\n",
       "      <td>4fa862b3e4b0ebff2f749f06</td>\n",
       "    </tr>\n",
       "    <tr>\n",
       "      <th>1</th>\n",
       "      <td>Conca Cucina Italian Restaurant</td>\n",
       "      <td>Food</td>\n",
       "      <td>63 W Broadway</td>\n",
       "      <td>40.714484</td>\n",
       "      <td>-74.009806</td>\n",
       "      <td>[{'label': 'display', 'lat': 40.71448400000000...</td>\n",
       "      <td>499</td>\n",
       "      <td>10007</td>\n",
       "      <td>US</td>\n",
       "      <td>New York</td>\n",
       "      <td>NY</td>\n",
       "      <td>United States</td>\n",
       "      <td>[63 W Broadway, New York, NY 10007, United Sta...</td>\n",
       "      <td>4f3232e219836c91c7bfde94</td>\n",
       "    </tr>\n",
       "  </tbody>\n",
       "</table>\n",
       "</div>"
      ],
      "text/plain": [
       "                              name   categories        address        lat  \\\n",
       "0        Harry's Italian Pizza Bar  Pizza Place  225 Murray St  40.715218   \n",
       "1  Conca Cucina Italian Restaurant         Food  63 W Broadway  40.714484   \n",
       "\n",
       "         lng                                     labeledLatLngs  distance  \\\n",
       "0 -74.014739  [{'label': 'display', 'lat': 40.71521779064671...        77   \n",
       "1 -74.009806  [{'label': 'display', 'lat': 40.71448400000000...       499   \n",
       "\n",
       "  postalCode  cc      city state        country  \\\n",
       "0      10282  US  New York    NY  United States   \n",
       "1      10007  US  New York    NY  United States   \n",
       "\n",
       "                                    formattedAddress                        id  \n",
       "0  [225 Murray St, New York, NY 10282, United Sta...  4fa862b3e4b0ebff2f749f06  \n",
       "1  [63 W Broadway, New York, NY 10007, United Sta...  4f3232e219836c91c7bfde94  "
      ]
     },
     "execution_count": 8,
     "metadata": {},
     "output_type": "execute_result"
    }
   ],
   "source": [
    "# keep only columns that include venue name, and anything that is associated with location\n",
    "filtered_columns = ['name', 'categories'] + [col for col in dataframe.columns if col.startswith('location.')] + ['id']\n",
    "dataframe_filtered = dataframe.loc[:, filtered_columns]\n",
    "\n",
    "# function that extracts the category of the venue\n",
    "def get_category_type(row):\n",
    "    try:\n",
    "        categories_list = row['categories']\n",
    "    except:\n",
    "        categories_list = row['venue.categories']\n",
    "        \n",
    "    if len(categories_list) == 0:\n",
    "        return None\n",
    "    else:\n",
    "        return categories_list[0]['name']\n",
    "\n",
    "# filter the category for each row\n",
    "dataframe_filtered['categories'] = dataframe_filtered.apply(get_category_type, axis=1)\n",
    "\n",
    "# clean column names by keeping only last term\n",
    "dataframe_filtered.columns = [column.split('.')[-1] for column in dataframe_filtered.columns]\n",
    "\n",
    "dataframe_filtered"
   ]
  },
  {
   "cell_type": "code",
   "execution_count": null,
   "metadata": {},
   "outputs": [],
   "source": []
  },
  {
   "cell_type": "code",
   "execution_count": null,
   "metadata": {},
   "outputs": [],
   "source": []
  },
  {
   "cell_type": "markdown",
   "metadata": {
    "button": false,
    "new_sheet": false,
    "run_control": {
     "read_only": false
    }
   },
   "source": [
    "#### Let's visualize the Italian restaurants that are nearby"
   ]
  },
  {
   "cell_type": "code",
   "execution_count": 9,
   "metadata": {
    "button": false,
    "new_sheet": false,
    "run_control": {
     "read_only": false
    }
   },
   "outputs": [
    {
     "data": {
      "text/plain": [
       "0          Harry's Italian Pizza Bar\n",
       "1    Conca Cucina Italian Restaurant\n",
       "Name: name, dtype: object"
      ]
     },
     "execution_count": 9,
     "metadata": {},
     "output_type": "execute_result"
    }
   ],
   "source": [
    "dataframe_filtered.name"
   ]
  },
  {
   "cell_type": "code",
   "execution_count": null,
   "metadata": {},
   "outputs": [],
   "source": []
  },
  {
   "cell_type": "code",
   "execution_count": null,
   "metadata": {},
   "outputs": [],
   "source": []
  },
  {
   "cell_type": "code",
   "execution_count": 10,
   "metadata": {
    "button": false,
    "new_sheet": false,
    "run_control": {
     "read_only": false
    },
    "scrolled": false
   },
   "outputs": [
    {
     "data": {
      "text/html": [
       "<div style=\"width:100%;\"><div style=\"position:relative;width:100%;height:0;padding-bottom:60%;\"><span style=\"color:#565656\">Make this Notebook Trusted to load map: File -> Trust Notebook</span><iframe src=\"about:blank\" style=\"position:absolute;width:100%;height:100%;left:0;top:0;border:none !important;\" data-html=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 onload=\"this.contentDocument.open();this.contentDocument.write(atob(this.getAttribute('data-html')));this.contentDocument.close();\" allowfullscreen webkitallowfullscreen mozallowfullscreen></iframe></div></div>"
      ],
      "text/plain": [
       "<folium.folium.Map at 0x11bc149d0>"
      ]
     },
     "execution_count": 10,
     "metadata": {},
     "output_type": "execute_result"
    }
   ],
   "source": [
    "venues_map = folium.Map(location=[latitude, longitude], zoom_start=13) # generate map centred around the Conrad Hotel\n",
    "\n",
    "# add a red circle marker to represent the Conrad Hotel\n",
    "folium.features.CircleMarker(\n",
    "    [latitude, longitude],\n",
    "    radius=10,\n",
    "    color='red',\n",
    "    popup='Conrad Hotel',\n",
    "    fill = True,\n",
    "    fill_color = 'red',\n",
    "    fill_opacity = 0.6\n",
    ").add_to(venues_map)\n",
    "\n",
    "# add the Italian restaurants as blue circle markers\n",
    "for lat, lng, label in zip(dataframe_filtered.lat, dataframe_filtered.lng, dataframe_filtered.categories):\n",
    "    folium.features.CircleMarker(\n",
    "        [lat, lng],\n",
    "        radius=5,\n",
    "        color='blue',\n",
    "        popup=label,\n",
    "        fill = True,\n",
    "        fill_color='blue',\n",
    "        fill_opacity=0.6\n",
    "    ).add_to(venues_map)\n",
    "\n",
    "# display map\n",
    "venues_map"
   ]
  },
  {
   "cell_type": "code",
   "execution_count": null,
   "metadata": {},
   "outputs": [],
   "source": []
  },
  {
   "cell_type": "code",
   "execution_count": null,
   "metadata": {},
   "outputs": [],
   "source": []
  },
  {
   "cell_type": "markdown",
   "metadata": {
    "button": false,
    "new_sheet": false,
    "run_control": {
     "read_only": false
    }
   },
   "source": [
    "   "
   ]
  },
  {
   "cell_type": "markdown",
   "metadata": {
    "button": false,
    "new_sheet": false,
    "run_control": {
     "read_only": false
    }
   },
   "source": [
    "<a id=\"item2\"></a>"
   ]
  },
  {
   "cell_type": "markdown",
   "metadata": {
    "button": false,
    "new_sheet": false,
    "run_control": {
     "read_only": false
    }
   },
   "source": [
    "## 2. Explore a Given Venue\n",
    "> `https://api.foursquare.com/v2/venues/`**VENUE_ID**`?client_id=`**CLIENT_ID**`&client_secret=`**CLIENT_SECRET**`&v=`**VERSION**"
   ]
  },
  {
   "cell_type": "markdown",
   "metadata": {
    "button": false,
    "new_sheet": false,
    "run_control": {
     "read_only": false
    }
   },
   "source": [
    "### A. Let's explore the closest Italian restaurant -- _Harry's Italian Pizza Bar_"
   ]
  },
  {
   "cell_type": "code",
   "execution_count": 11,
   "metadata": {
    "button": false,
    "new_sheet": false,
    "run_control": {
     "read_only": false
    }
   },
   "outputs": [
    {
     "data": {
      "text/plain": [
       "'https://api.foursquare.com/v2/venues/4fa862b3e4b0ebff2f749f06?client_id=MAANLALQ0AREGRVQSVSVQPSZZRLCRXOODYCM3SB3MXXAZYS5&client_secret=KIJZGG4BXA3P2XYVJQFYPO4LH51KUEBMEH3MADNDSCZOELHH&v=20180604'"
      ]
     },
     "execution_count": 11,
     "metadata": {},
     "output_type": "execute_result"
    }
   ],
   "source": [
    "venue_id = '4fa862b3e4b0ebff2f749f06' # ID of Harry's Italian Pizza Bar\n",
    "url = 'https://api.foursquare.com/v2/venues/{}?client_id={}&client_secret={}&v={}'.format(venue_id, CLIENT_ID, CLIENT_SECRET, VERSION)\n",
    "url"
   ]
  },
  {
   "cell_type": "code",
   "execution_count": null,
   "metadata": {},
   "outputs": [],
   "source": []
  },
  {
   "cell_type": "code",
   "execution_count": null,
   "metadata": {},
   "outputs": [],
   "source": []
  },
  {
   "cell_type": "markdown",
   "metadata": {
    "button": false,
    "new_sheet": false,
    "run_control": {
     "read_only": false
    }
   },
   "source": [
    "#### Send GET request for result"
   ]
  },
  {
   "cell_type": "code",
   "execution_count": 12,
   "metadata": {
    "button": false,
    "new_sheet": false,
    "run_control": {
     "read_only": false
    }
   },
   "outputs": [
    {
     "name": "stdout",
     "output_type": "stream",
     "text": [
      "dict_keys(['id', 'name', 'contact', 'location', 'canonicalUrl', 'categories', 'verified', 'stats', 'url', 'price', 'hasMenu', 'likes', 'dislike', 'ok', 'rating', 'ratingColor', 'ratingSignals', 'menu', 'allowMenuUrlEdit', 'beenHere', 'specials', 'photos', 'reasons', 'hereNow', 'createdAt', 'tips', 'shortUrl', 'timeZone', 'listed', 'hours', 'popular', 'seasonalHours', 'defaultHours', 'pageUpdates', 'inbox', 'attributes', 'bestPhoto', 'colors'])\n"
     ]
    },
    {
     "data": {
      "text/plain": [
       "{'id': '4fa862b3e4b0ebff2f749f06',\n",
       " 'name': \"Harry's Italian Pizza Bar\",\n",
       " 'contact': {'phone': '2126081007', 'formattedPhone': '(212) 608-1007'},\n",
       " 'location': {'address': '225 Murray St',\n",
       "  'lat': 40.71521779064671,\n",
       "  'lng': -74.01473940209351,\n",
       "  'labeledLatLngs': [{'label': 'display',\n",
       "    'lat': 40.71521779064671,\n",
       "    'lng': -74.01473940209351},\n",
       "   {'label': 'entrance', 'lat': 40.715361, 'lng': -74.014975}],\n",
       "  'postalCode': '10282',\n",
       "  'cc': 'US',\n",
       "  'city': 'New York',\n",
       "  'state': 'NY',\n",
       "  'country': 'United States',\n",
       "  'formattedAddress': ['225 Murray St',\n",
       "   'New York, NY 10282',\n",
       "   'United States']},\n",
       " 'canonicalUrl': 'https://foursquare.com/v/harrys-italian-pizza-bar/4fa862b3e4b0ebff2f749f06',\n",
       " 'categories': [{'id': '4bf58dd8d48988d1ca941735',\n",
       "   'name': 'Pizza Place',\n",
       "   'pluralName': 'Pizza Places',\n",
       "   'shortName': 'Pizza',\n",
       "   'icon': {'prefix': 'https://ss3.4sqi.net/img/categories_v2/food/pizza_',\n",
       "    'suffix': '.png'},\n",
       "   'primary': True},\n",
       "  {'id': '4bf58dd8d48988d110941735',\n",
       "   'name': 'Italian Restaurant',\n",
       "   'pluralName': 'Italian Restaurants',\n",
       "   'shortName': 'Italian',\n",
       "   'icon': {'prefix': 'https://ss3.4sqi.net/img/categories_v2/food/italian_',\n",
       "    'suffix': '.png'}}],\n",
       " 'verified': False,\n",
       " 'stats': {'tipCount': 57},\n",
       " 'url': 'http://harrysitalian.com',\n",
       " 'price': {'tier': 2, 'message': 'Moderate', 'currency': '$'},\n",
       " 'hasMenu': True,\n",
       " 'likes': {'count': 120,\n",
       "  'groups': [{'type': 'others', 'count': 120, 'items': []}],\n",
       "  'summary': '120 Likes'},\n",
       " 'dislike': False,\n",
       " 'ok': False,\n",
       " 'rating': 6.9,\n",
       " 'ratingColor': 'FFC800',\n",
       " 'ratingSignals': 212,\n",
       " 'menu': {'type': 'Menu',\n",
       "  'label': 'Menu',\n",
       "  'anchor': 'View Menu',\n",
       "  'url': 'https://foursquare.com/v/harrys-italian-pizza-bar/4fa862b3e4b0ebff2f749f06/menu',\n",
       "  'mobileUrl': 'https://foursquare.com/v/4fa862b3e4b0ebff2f749f06/device_menu'},\n",
       " 'allowMenuUrlEdit': True,\n",
       " 'beenHere': {'count': 0,\n",
       "  'unconfirmedCount': 0,\n",
       "  'marked': False,\n",
       "  'lastCheckinExpiredAt': 0},\n",
       " 'specials': {'count': 0, 'items': []},\n",
       " 'photos': {'count': 146,\n",
       "  'groups': [{'type': 'venue',\n",
       "    'name': 'Venue photos',\n",
       "    'count': 146,\n",
       "    'items': [{'id': '4fad980de4b091b4626c3633',\n",
       "      'createdAt': 1336776717,\n",
       "      'source': {'name': 'Foursquare for Android',\n",
       "       'url': 'https://foursquare.com/download/#/android'},\n",
       "      'prefix': 'https://fastly.4sqi.net/img/general/',\n",
       "      'suffix': '/ya1iQFI7pLjuIJp1PGDKlrZS3OJdHCF7tpILMmjv_2w.jpg',\n",
       "      'width': 480,\n",
       "      'height': 640,\n",
       "      'user': {'id': '13676709',\n",
       "       'firstName': 'Leony',\n",
       "       'lastName': 'N',\n",
       "       'photo': {'prefix': 'https://fastly.4sqi.net/img/user/',\n",
       "        'suffix': '/T0ANFNGNMCHUDEUE.jpg'}},\n",
       "      'visibility': 'public'}]}]},\n",
       " 'reasons': {'count': 1,\n",
       "  'items': [{'summary': 'Lots of people like this place',\n",
       "    'type': 'general',\n",
       "    'reasonName': 'rawLikesReason'}]},\n",
       " 'hereNow': {'count': 0, 'summary': 'Nobody here', 'groups': []},\n",
       " 'createdAt': 1336435379,\n",
       " 'tips': {'count': 57,\n",
       "  'groups': [{'type': 'others',\n",
       "    'name': 'All tips',\n",
       "    'count': 57,\n",
       "    'items': [{'id': '53d27909498e0523841340b6',\n",
       "      'createdAt': 1406302473,\n",
       "      'text': \"Harry's Italian Pizza bar is known for it's amazing pizza, but did you know that the brunches here are amazing too? Try the Nutella French toast and we know you'll be sold.\",\n",
       "      'type': 'user',\n",
       "      'canonicalUrl': 'https://foursquare.com/item/53d27909498e0523841340b6',\n",
       "      'lang': 'en',\n",
       "      'likes': {'count': 4,\n",
       "       'groups': [{'type': 'others',\n",
       "         'count': 4,\n",
       "         'items': [{'id': '369426',\n",
       "           'firstName': 'P.',\n",
       "           'lastName': 'M',\n",
       "           'photo': {'prefix': 'https://fastly.4sqi.net/img/user/',\n",
       "            'suffix': '/JPQYUWJKUT0H2OO4.jpg'}},\n",
       "          {'id': '87587879',\n",
       "           'firstName': 'Diane',\n",
       "           'lastName': 'D',\n",
       "           'photo': {'prefix': 'https://fastly.4sqi.net/img/user/',\n",
       "            'suffix': '/87587879-ESLRSZLQ2CBE2P4W.jpg'}},\n",
       "          {'id': '87591341',\n",
       "           'firstName': 'Tim',\n",
       "           'lastName': 'S',\n",
       "           'photo': {'prefix': 'https://fastly.4sqi.net/img/user/',\n",
       "            'suffix': '/-Z4YK4VKE0JSVXIY1.jpg'}},\n",
       "          {'id': '87473404',\n",
       "           'firstName': 'TenantKing.com',\n",
       "           'photo': {'prefix': 'https://fastly.4sqi.net/img/user/',\n",
       "            'suffix': '/87473404-HI5DTBTK0HX401CA.png'},\n",
       "           'type': 'page'}]}],\n",
       "       'summary': '4 likes'},\n",
       "      'logView': True,\n",
       "      'agreeCount': 4,\n",
       "      'disagreeCount': 0,\n",
       "      'todo': {'count': 0},\n",
       "      'user': {'id': '87473404',\n",
       "       'firstName': 'TenantKing.com',\n",
       "       'photo': {'prefix': 'https://fastly.4sqi.net/img/user/',\n",
       "        'suffix': '/87473404-HI5DTBTK0HX401CA.png'},\n",
       "       'type': 'page'}}]}]},\n",
       " 'shortUrl': 'http://4sq.com/JNblHV',\n",
       " 'timeZone': 'America/New_York',\n",
       " 'listed': {'count': 54,\n",
       "  'groups': [{'type': 'others',\n",
       "    'name': 'Lists from other people',\n",
       "    'count': 54,\n",
       "    'items': [{'id': '4fa32fd0e4b04193744746b1',\n",
       "      'name': 'Manhattan Haunts',\n",
       "      'description': '',\n",
       "      'type': 'others',\n",
       "      'user': {'id': '24592223',\n",
       "       'firstName': 'Becca',\n",
       "       'lastName': 'M',\n",
       "       'photo': {'prefix': 'https://fastly.4sqi.net/img/user/',\n",
       "        'suffix': '/24592223-RAW2UYM0GIB1U40K.jpg'}},\n",
       "      'editable': False,\n",
       "      'public': True,\n",
       "      'collaborative': False,\n",
       "      'url': '/becca_mcarthur/list/manhattan-haunts',\n",
       "      'canonicalUrl': 'https://foursquare.com/becca_mcarthur/list/manhattan-haunts',\n",
       "      'createdAt': 1336094672,\n",
       "      'updatedAt': 1380845377,\n",
       "      'photo': {'id': '4e8cc9461081e3b3544e12e5',\n",
       "       'createdAt': 1317849414,\n",
       "       'prefix': 'https://fastly.4sqi.net/img/general/',\n",
       "       'suffix': '/0NLVU2HC1JF4DXIMKWUFW3QBUT31DC11EFNYYHMJG3NDWAPS.jpg',\n",
       "       'width': 492,\n",
       "       'height': 330,\n",
       "       'user': {'id': '742542',\n",
       "        'firstName': 'Time Out New York',\n",
       "        'photo': {'prefix': 'https://fastly.4sqi.net/img/user/',\n",
       "         'suffix': '/XXHKCBSQHBORZNSR.jpg'},\n",
       "        'type': 'page'},\n",
       "       'visibility': 'public'},\n",
       "      'followers': {'count': 22},\n",
       "      'listItems': {'count': 187,\n",
       "       'items': [{'id': 'v4fa862b3e4b0ebff2f749f06',\n",
       "         'createdAt': 1342934485}]}},\n",
       "     {'id': '4fae817be4b085f6b2a74d19',\n",
       "      'name': 'USA NYC MAN FiDi',\n",
       "      'description': 'Where to go for decent eats in the restaurant wasteland of Downtown NYC aka FiDi, along with Tribeca & Battery Park City.',\n",
       "      'type': 'others',\n",
       "      'user': {'id': '12113441',\n",
       "       'firstName': 'Kino',\n",
       "       'photo': {'prefix': 'https://fastly.4sqi.net/img/user/',\n",
       "        'suffix': '/12113441-K5HTHFLU2MUCM0CM.jpg'}},\n",
       "      'editable': False,\n",
       "      'public': True,\n",
       "      'collaborative': False,\n",
       "      'url': '/kinosfault/list/usa-nyc-man-fidi',\n",
       "      'canonicalUrl': 'https://foursquare.com/kinosfault/list/usa-nyc-man-fidi',\n",
       "      'createdAt': 1336836475,\n",
       "      'updatedAt': 1556754919,\n",
       "      'photo': {'id': '55984992498e13ba75e353bb',\n",
       "       'createdAt': 1436043666,\n",
       "       'prefix': 'https://fastly.4sqi.net/img/general/',\n",
       "       'suffix': '/12113441_iOa6Uh-Xi8bhj2-gpzkkw8MKiAIs7RmOcz_RM7m8ink.jpg',\n",
       "       'width': 540,\n",
       "       'height': 960,\n",
       "       'user': {'id': '12113441',\n",
       "        'firstName': 'Kino',\n",
       "        'photo': {'prefix': 'https://fastly.4sqi.net/img/user/',\n",
       "         'suffix': '/12113441-K5HTHFLU2MUCM0CM.jpg'}},\n",
       "       'visibility': 'public'},\n",
       "      'followers': {'count': 20},\n",
       "      'listItems': {'count': 273,\n",
       "       'items': [{'id': 'v4fa862b3e4b0ebff2f749f06',\n",
       "         'createdAt': 1373909433}]}},\n",
       "     {'id': '4fddeff0e4b0e078037ac0d3',\n",
       "      'name': 'NYC Resturants',\n",
       "      'description': '',\n",
       "      'type': 'others',\n",
       "      'user': {'id': '21563126',\n",
       "       'firstName': 'Richard',\n",
       "       'lastName': 'R',\n",
       "       'photo': {'prefix': 'https://fastly.4sqi.net/img/user/',\n",
       "        'suffix': '/21563126_v05J1KPw_SVj6Ehq9g8B9jeAGjFUMsU5QGl-NZ8inUQ7pKQm5bKplW37EmR7jS2A7GYPBBAtl.jpg'}},\n",
       "      'editable': False,\n",
       "      'public': True,\n",
       "      'collaborative': True,\n",
       "      'url': '/rickr7/list/nyc-resturants',\n",
       "      'canonicalUrl': 'https://foursquare.com/rickr7/list/nyc-resturants',\n",
       "      'createdAt': 1339944944,\n",
       "      'updatedAt': 1591664261,\n",
       "      'photo': {'id': '5072dd13e4b09145cdf782d1',\n",
       "       'createdAt': 1349704979,\n",
       "       'prefix': 'https://fastly.4sqi.net/img/general/',\n",
       "       'suffix': '/208205_fGh2OuAZ9qJ4agbAA5wMVNOSIm9kNUlRtNwj1N-adqg.jpg',\n",
       "       'width': 800,\n",
       "       'height': 800,\n",
       "       'user': {'id': '208205',\n",
       "        'firstName': 'Thalia',\n",
       "        'lastName': 'K',\n",
       "        'photo': {'prefix': 'https://fastly.4sqi.net/img/user/',\n",
       "         'suffix': '/SNOOLCAW2AG04ZKD.jpg'}},\n",
       "       'visibility': 'public'},\n",
       "      'followers': {'count': 12},\n",
       "      'listItems': {'count': 193,\n",
       "       'items': [{'id': 'v4fa862b3e4b0ebff2f749f06',\n",
       "         'createdAt': 1581655865}]}},\n",
       "     {'id': '5266c68a498e7c667807fe09',\n",
       "      'name': 'Foodie Love in NY - 02',\n",
       "      'description': '',\n",
       "      'type': 'others',\n",
       "      'user': {'id': '547977',\n",
       "       'firstName': 'WiLL',\n",
       "       'photo': {'prefix': 'https://fastly.4sqi.net/img/user/',\n",
       "        'suffix': '/-Q5NYGDMFDMOITQRR.jpg'}},\n",
       "      'editable': False,\n",
       "      'public': True,\n",
       "      'collaborative': False,\n",
       "      'url': '/sweetiewill/list/foodie-love-in-ny--02',\n",
       "      'canonicalUrl': 'https://foursquare.com/sweetiewill/list/foodie-love-in-ny--02',\n",
       "      'createdAt': 1382467210,\n",
       "      'updatedAt': 1391995585,\n",
       "      'followers': {'count': 7},\n",
       "      'listItems': {'count': 200,\n",
       "       'items': [{'id': 'v4fa862b3e4b0ebff2f749f06',\n",
       "         'createdAt': 1386809936}]}}]}]},\n",
       " 'hours': {'status': 'Closed until 11:30 AM',\n",
       "  'richStatus': {'entities': [], 'text': 'Closed until 11:30 AM'},\n",
       "  'isOpen': False,\n",
       "  'isLocalHoliday': False,\n",
       "  'dayData': [],\n",
       "  'timeframes': [{'days': 'Mon–Wed, Sun',\n",
       "    'includesToday': True,\n",
       "    'open': [{'renderedTime': '11:30 AM–11:00 PM'}],\n",
       "    'segments': []},\n",
       "   {'days': 'Thu–Sat',\n",
       "    'open': [{'renderedTime': '11:30 AM–Midnight'}],\n",
       "    'segments': []}]},\n",
       " 'popular': {'isOpen': False,\n",
       "  'isLocalHoliday': False,\n",
       "  'timeframes': [{'days': 'Today',\n",
       "    'includesToday': True,\n",
       "    'open': [{'renderedTime': 'Noon–2:00 PM'},\n",
       "     {'renderedTime': '5:00 PM–10:00 PM'}],\n",
       "    'segments': []},\n",
       "   {'days': 'Wed–Thu',\n",
       "    'open': [{'renderedTime': 'Noon–2:00 PM'},\n",
       "     {'renderedTime': '5:00 PM–10:00 PM'}],\n",
       "    'segments': []},\n",
       "   {'days': 'Fri',\n",
       "    'open': [{'renderedTime': 'Noon–3:00 PM'},\n",
       "     {'renderedTime': '5:00 PM–11:00 PM'}],\n",
       "    'segments': []},\n",
       "   {'days': 'Sat',\n",
       "    'open': [{'renderedTime': 'Noon–11:00 PM'}],\n",
       "    'segments': []},\n",
       "   {'days': 'Sun',\n",
       "    'open': [{'renderedTime': 'Noon–3:00 PM'},\n",
       "     {'renderedTime': '5:00 PM–8:00 PM'}],\n",
       "    'segments': []},\n",
       "   {'days': 'Mon',\n",
       "    'open': [{'renderedTime': 'Noon–2:00 PM'},\n",
       "     {'renderedTime': '6:00 PM–8:00 PM'}],\n",
       "    'segments': []}]},\n",
       " 'seasonalHours': [],\n",
       " 'defaultHours': {'status': 'Closed until 11:30 AM',\n",
       "  'richStatus': {'entities': [], 'text': 'Closed until 11:30 AM'},\n",
       "  'isOpen': False,\n",
       "  'isLocalHoliday': False,\n",
       "  'dayData': [],\n",
       "  'timeframes': [{'days': 'Mon–Wed, Sun',\n",
       "    'includesToday': True,\n",
       "    'open': [{'renderedTime': '11:30 AM–11:00 PM'}],\n",
       "    'segments': []},\n",
       "   {'days': 'Thu–Sat',\n",
       "    'open': [{'renderedTime': '11:30 AM–Midnight'}],\n",
       "    'segments': []}]},\n",
       " 'pageUpdates': {'count': 0, 'items': []},\n",
       " 'inbox': {'count': 0, 'items': []},\n",
       " 'attributes': {'groups': [{'type': 'price',\n",
       "    'name': 'Price',\n",
       "    'summary': '$$',\n",
       "    'count': 1,\n",
       "    'items': [{'displayName': 'Price', 'displayValue': '$$', 'priceTier': 2}]},\n",
       "   {'type': 'payments',\n",
       "    'name': 'Credit Cards',\n",
       "    'summary': 'Credit Cards',\n",
       "    'count': 7,\n",
       "    'items': [{'displayName': 'Credit Cards',\n",
       "      'displayValue': 'Yes (incl. American Express)'}]},\n",
       "   {'type': 'outdoorSeating',\n",
       "    'name': 'Outdoor Seating',\n",
       "    'summary': 'Outdoor Seating',\n",
       "    'count': 1,\n",
       "    'items': [{'displayName': 'Outdoor Seating', 'displayValue': 'Yes'}]},\n",
       "   {'type': 'serves',\n",
       "    'name': 'Menus',\n",
       "    'summary': 'Happy Hour, Brunch & more',\n",
       "    'count': 8,\n",
       "    'items': [{'displayName': 'Brunch', 'displayValue': 'Brunch'},\n",
       "     {'displayName': 'Lunch', 'displayValue': 'Lunch'},\n",
       "     {'displayName': 'Dinner', 'displayValue': 'Dinner'},\n",
       "     {'displayName': 'Happy Hour', 'displayValue': 'Happy Hour'}]},\n",
       "   {'type': 'drinks',\n",
       "    'name': 'Drinks',\n",
       "    'summary': 'Beer, Wine & Cocktails',\n",
       "    'count': 5,\n",
       "    'items': [{'displayName': 'Beer', 'displayValue': 'Beer'},\n",
       "     {'displayName': 'Wine', 'displayValue': 'Wine'},\n",
       "     {'displayName': 'Cocktails', 'displayValue': 'Cocktails'}]}]},\n",
       " 'bestPhoto': {'id': '4fad980de4b091b4626c3633',\n",
       "  'createdAt': 1336776717,\n",
       "  'source': {'name': 'Foursquare for Android',\n",
       "   'url': 'https://foursquare.com/download/#/android'},\n",
       "  'prefix': 'https://fastly.4sqi.net/img/general/',\n",
       "  'suffix': '/ya1iQFI7pLjuIJp1PGDKlrZS3OJdHCF7tpILMmjv_2w.jpg',\n",
       "  'width': 480,\n",
       "  'height': 640,\n",
       "  'visibility': 'public'},\n",
       " 'colors': {'highlightColor': {'photoId': '4fad980de4b091b4626c3633',\n",
       "   'value': -13619152},\n",
       "  'highlightTextColor': {'photoId': '4fad980de4b091b4626c3633', 'value': -1},\n",
       "  'algoVersion': 3}}"
      ]
     },
     "execution_count": 12,
     "metadata": {},
     "output_type": "execute_result"
    }
   ],
   "source": [
    "result = requests.get(url).json()\n",
    "print(result['response']['venue'].keys())\n",
    "result['response']['venue']"
   ]
  },
  {
   "cell_type": "code",
   "execution_count": null,
   "metadata": {},
   "outputs": [],
   "source": []
  },
  {
   "cell_type": "code",
   "execution_count": null,
   "metadata": {},
   "outputs": [],
   "source": []
  },
  {
   "cell_type": "markdown",
   "metadata": {
    "button": false,
    "new_sheet": false,
    "run_control": {
     "read_only": false
    }
   },
   "source": [
    "### B. Get the venue's overall rating"
   ]
  },
  {
   "cell_type": "code",
   "execution_count": 13,
   "metadata": {
    "button": false,
    "new_sheet": false,
    "run_control": {
     "read_only": false
    }
   },
   "outputs": [
    {
     "name": "stdout",
     "output_type": "stream",
     "text": [
      "6.9\n"
     ]
    }
   ],
   "source": [
    "try:\n",
    "    print(result['response']['venue']['rating'])\n",
    "except:\n",
    "    print('This venue has not been rated yet.')"
   ]
  },
  {
   "cell_type": "code",
   "execution_count": null,
   "metadata": {},
   "outputs": [],
   "source": []
  },
  {
   "cell_type": "code",
   "execution_count": null,
   "metadata": {},
   "outputs": [],
   "source": []
  },
  {
   "cell_type": "markdown",
   "metadata": {
    "button": false,
    "new_sheet": false,
    "run_control": {
     "read_only": false
    }
   },
   "source": [
    "That is not a very good rating. Let's check the rating of the second closest Italian restaurant."
   ]
  },
  {
   "cell_type": "code",
   "execution_count": 14,
   "metadata": {
    "button": false,
    "new_sheet": false,
    "run_control": {
     "read_only": false
    }
   },
   "outputs": [
    {
     "name": "stdout",
     "output_type": "stream",
     "text": [
      "This venue has not been rated yet.\n"
     ]
    }
   ],
   "source": [
    "venue_id = '4f3232e219836c91c7bfde94' # ID of Conca Cucina Italian Restaurant\n",
    "url = 'https://api.foursquare.com/v2/venues/{}?client_id={}&client_secret={}&v={}'.format(venue_id, CLIENT_ID, CLIENT_SECRET, VERSION)\n",
    "\n",
    "result = requests.get(url).json()\n",
    "try:\n",
    "    print(result['response']['venue']['rating'])\n",
    "except:\n",
    "    print('This venue has not been rated yet.')"
   ]
  },
  {
   "cell_type": "code",
   "execution_count": null,
   "metadata": {},
   "outputs": [],
   "source": []
  },
  {
   "cell_type": "code",
   "execution_count": null,
   "metadata": {},
   "outputs": [],
   "source": []
  },
  {
   "cell_type": "markdown",
   "metadata": {
    "button": false,
    "new_sheet": false,
    "run_control": {
     "read_only": false
    }
   },
   "source": [
    "Since this restaurant has no ratings, let's check the third restaurant."
   ]
  },
  {
   "cell_type": "code",
   "execution_count": 15,
   "metadata": {
    "button": false,
    "new_sheet": false,
    "run_control": {
     "read_only": false
    }
   },
   "outputs": [
    {
     "name": "stdout",
     "output_type": "stream",
     "text": [
      "7.3\n"
     ]
    }
   ],
   "source": [
    "venue_id = '3fd66200f964a520f4e41ee3' # ID of Ecco\n",
    "url = 'https://api.foursquare.com/v2/venues/{}?client_id={}&client_secret={}&v={}'.format(venue_id, CLIENT_ID, CLIENT_SECRET, VERSION)\n",
    "\n",
    "result = requests.get(url).json()\n",
    "try:\n",
    "    print(result['response']['venue']['rating'])\n",
    "except:\n",
    "    print('This venue has not been rated yet.')"
   ]
  },
  {
   "cell_type": "code",
   "execution_count": null,
   "metadata": {},
   "outputs": [],
   "source": []
  },
  {
   "cell_type": "code",
   "execution_count": null,
   "metadata": {},
   "outputs": [],
   "source": []
  },
  {
   "cell_type": "markdown",
   "metadata": {
    "button": false,
    "new_sheet": false,
    "run_control": {
     "read_only": false
    }
   },
   "source": [
    "Since this restaurant has a slightly better rating, let's explore it further."
   ]
  },
  {
   "cell_type": "markdown",
   "metadata": {
    "button": false,
    "new_sheet": false,
    "run_control": {
     "read_only": false
    }
   },
   "source": [
    "### C. Get the number of tips"
   ]
  },
  {
   "cell_type": "code",
   "execution_count": 16,
   "metadata": {
    "button": false,
    "new_sheet": false,
    "run_control": {
     "read_only": false
    }
   },
   "outputs": [
    {
     "data": {
      "text/plain": [
       "19"
      ]
     },
     "execution_count": 16,
     "metadata": {},
     "output_type": "execute_result"
    }
   ],
   "source": [
    "result['response']['venue']['tips']['count']"
   ]
  },
  {
   "cell_type": "code",
   "execution_count": null,
   "metadata": {},
   "outputs": [],
   "source": []
  },
  {
   "cell_type": "code",
   "execution_count": null,
   "metadata": {},
   "outputs": [],
   "source": []
  },
  {
   "cell_type": "markdown",
   "metadata": {
    "button": false,
    "new_sheet": false,
    "run_control": {
     "read_only": false
    }
   },
   "source": [
    "### D. Get the venue's tips\n",
    "> `https://api.foursquare.com/v2/venues/`**VENUE_ID**`/tips?client_id=`**CLIENT_ID**`&client_secret=`**CLIENT_SECRET**`&v=`**VERSION**`&limit=`**LIMIT**"
   ]
  },
  {
   "cell_type": "markdown",
   "metadata": {
    "button": false,
    "new_sheet": false,
    "run_control": {
     "read_only": false
    }
   },
   "source": [
    "#### Create URL and send GET request. Make sure to set limit to get all tips"
   ]
  },
  {
   "cell_type": "code",
   "execution_count": 17,
   "metadata": {
    "button": false,
    "new_sheet": false,
    "run_control": {
     "read_only": false
    }
   },
   "outputs": [
    {
     "data": {
      "text/plain": [
       "{'meta': {'code': 200, 'requestId': '5f0d7a8ba6e8ba17886f45e5'},\n",
       " 'response': {'tips': {'count': 19,\n",
       "   'items': [{'id': '5ab1cb46c9a517174651d3fe',\n",
       "     'createdAt': 1521601350,\n",
       "     'text': 'A+ Italian food! Trust me on this: my mom’s side of the family is 100% Italian. I was born and bred to know good pasta when I see it, and Ecco is one of my all-time NYC favorites',\n",
       "     'type': 'user',\n",
       "     'canonicalUrl': 'https://foursquare.com/item/5ab1cb46c9a517174651d3fe',\n",
       "     'lang': 'en',\n",
       "     'likes': {'count': 0, 'groups': []},\n",
       "     'logView': True,\n",
       "     'agreeCount': 4,\n",
       "     'disagreeCount': 0,\n",
       "     'todo': {'count': 0},\n",
       "     'user': {'id': '484542633',\n",
       "      'firstName': 'Nick',\n",
       "      'lastName': 'E',\n",
       "      'photo': {'prefix': 'https://fastly.4sqi.net/img/user/',\n",
       "       'suffix': '/484542633_unymNUmw_FdPs3GjXHujmHcYnN4hf8kEPADlOZuIrdcdm97VX3tFqL7fFNMNA_8Gl9NlU1GYg.jpg'}},\n",
       "     'authorInteractionType': 'liked'}]}}}"
      ]
     },
     "execution_count": 17,
     "metadata": {},
     "output_type": "execute_result"
    }
   ],
   "source": [
    "## Ecco Tips\n",
    "limit = 15 # set limit to be greater than or equal to the total number of tips\n",
    "url = 'https://api.foursquare.com/v2/venues/{}/tips?client_id={}&client_secret={}&v={}&limit={}'.format(venue_id, CLIENT_ID, CLIENT_SECRET, VERSION, limit)\n",
    "\n",
    "results = requests.get(url).json()\n",
    "results"
   ]
  },
  {
   "cell_type": "code",
   "execution_count": null,
   "metadata": {},
   "outputs": [],
   "source": []
  },
  {
   "cell_type": "code",
   "execution_count": null,
   "metadata": {},
   "outputs": [],
   "source": []
  },
  {
   "cell_type": "markdown",
   "metadata": {
    "button": false,
    "new_sheet": false,
    "run_control": {
     "read_only": false
    }
   },
   "source": [
    "#### Get tips and list of associated features"
   ]
  },
  {
   "cell_type": "code",
   "execution_count": 18,
   "metadata": {
    "button": false,
    "new_sheet": false,
    "run_control": {
     "read_only": false
    }
   },
   "outputs": [
    {
     "data": {
      "text/plain": [
       "dict_keys(['id', 'createdAt', 'text', 'type', 'canonicalUrl', 'lang', 'likes', 'logView', 'agreeCount', 'disagreeCount', 'todo', 'user', 'authorInteractionType'])"
      ]
     },
     "execution_count": 18,
     "metadata": {},
     "output_type": "execute_result"
    }
   ],
   "source": [
    "tips = results['response']['tips']['items']\n",
    "\n",
    "tip = results['response']['tips']['items'][0]\n",
    "tip.keys()"
   ]
  },
  {
   "cell_type": "code",
   "execution_count": null,
   "metadata": {},
   "outputs": [],
   "source": []
  },
  {
   "cell_type": "code",
   "execution_count": null,
   "metadata": {},
   "outputs": [],
   "source": []
  },
  {
   "cell_type": "markdown",
   "metadata": {
    "button": false,
    "new_sheet": false,
    "run_control": {
     "read_only": false
    }
   },
   "source": [
    "#### Format column width and display all tips"
   ]
  },
  {
   "cell_type": "code",
   "execution_count": 77,
   "metadata": {
    "button": false,
    "new_sheet": false,
    "run_control": {
     "read_only": false
    },
    "scrolled": false
   },
   "outputs": [
    {
     "data": {
      "text/html": [
       "<div>\n",
       "<style scoped>\n",
       "    .dataframe tbody tr th:only-of-type {\n",
       "        vertical-align: middle;\n",
       "    }\n",
       "\n",
       "    .dataframe tbody tr th {\n",
       "        vertical-align: top;\n",
       "    }\n",
       "\n",
       "    .dataframe thead th {\n",
       "        text-align: right;\n",
       "    }\n",
       "</style>\n",
       "<table border=\"1\" class=\"dataframe\">\n",
       "  <thead>\n",
       "    <tr style=\"text-align: right;\">\n",
       "      <th></th>\n",
       "      <th>id</th>\n",
       "      <th>createdAt</th>\n",
       "      <th>text</th>\n",
       "      <th>type</th>\n",
       "      <th>canonicalUrl</th>\n",
       "      <th>logView</th>\n",
       "      <th>agreeCount</th>\n",
       "      <th>disagreeCount</th>\n",
       "      <th>authorInteractionType</th>\n",
       "      <th>likes.count</th>\n",
       "      <th>...</th>\n",
       "      <th>venue.photos.count</th>\n",
       "      <th>venue.photos.groups</th>\n",
       "      <th>venue.delivery.id</th>\n",
       "      <th>venue.delivery.url</th>\n",
       "      <th>venue.delivery.provider.name</th>\n",
       "      <th>venue.delivery.provider.icon.prefix</th>\n",
       "      <th>venue.delivery.provider.icon.sizes</th>\n",
       "      <th>venue.delivery.provider.icon.name</th>\n",
       "      <th>venue.venuePage.id</th>\n",
       "      <th>venue.location.neighborhood</th>\n",
       "    </tr>\n",
       "  </thead>\n",
       "  <tbody>\n",
       "    <tr>\n",
       "      <th>0</th>\n",
       "      <td>5accc98c0313204c9d7ec157</td>\n",
       "      <td>1523370380</td>\n",
       "      <td>They serve coffee!!!!!!</td>\n",
       "      <td>user</td>\n",
       "      <td>https://foursquare.com/item/5accc98c0313204c9d7ec157</td>\n",
       "      <td>True</td>\n",
       "      <td>1</td>\n",
       "      <td>0</td>\n",
       "      <td>liked</td>\n",
       "      <td>0</td>\n",
       "      <td>...</td>\n",
       "      <td>0</td>\n",
       "      <td>[{'type': 'venue', 'name': 'Venue photos', 'count': 0, 'items': [{'id': '50285922e4b056f767252984', 'createdAt': 1344821538, 'prefix': 'https://fastly.4sqi.net/img/general/', 'suffix': '/OER4Di5DpJctd_fjkrY2BGo_e07VpBK8VPhq_LT1QVU.jpg', 'width': 612, 'height': 612, 'user': {'id': '12492436', 'firstName': 'Alex', 'lastName': 'M', 'photo': {'prefix': 'https://fastly.4sqi.net/img/user/', 'suffix': '/QJJNKHSEBMHFN1B4.jpg'}}, 'visibility': 'public'}, {'id': '520aa60211d2af008407aac6', 'createdAt': 1376429570, 'prefix': 'https://fastly.4sqi.net/img/general/', 'suffix': '/95078_fD5Q7e54b_JYc9b7UTs3y_ItqdGtWJlPlQLtNab2HxQ.jpg', 'width': 720, 'height': 960, 'user': {'id': '95078', 'firstName': 'Ross', 'lastName': 'P', 'photo': {'prefix': 'https://fastly.4sqi.net/img/user/', 'suffix': '/95078_1258832567848.jpg'}}, 'visibility': 'public'}, {'id': '4fe5ed89e4b0899a0a17b01e', 'createdAt': 1340468617, 'prefix': 'https://fastly.4sqi.net/img/general/', 'suffix': '/b-9PHgmYnlVnPmnO1RXwzdtPcvDgAJwiOvcSV9Ot9x8.jpg', 'width': 612, 'height': 612, 'user': {'id': '8682255', 'firstName': 'Karlsson', 'lastName': 'B', 'photo': {'prefix': 'https://fastly.4sqi.net/img/user/', 'suffix': '/2K4JB2RFIXWOHBAP.jpg'}}, 'visibility': 'public'}]}]</td>\n",
       "      <td>NaN</td>\n",
       "      <td>NaN</td>\n",
       "      <td>NaN</td>\n",
       "      <td>NaN</td>\n",
       "      <td>NaN</td>\n",
       "      <td>NaN</td>\n",
       "      <td>NaN</td>\n",
       "      <td>NaN</td>\n",
       "    </tr>\n",
       "    <tr>\n",
       "      <th>1</th>\n",
       "      <td>5acbec70a0215b732e264fe8</td>\n",
       "      <td>1523313776</td>\n",
       "      <td>Quick, cheap lunch that tastes good! Way shorter line than Chipotle, too.</td>\n",
       "      <td>user</td>\n",
       "      <td>https://foursquare.com/item/5acbec70a0215b732e264fe8</td>\n",
       "      <td>True</td>\n",
       "      <td>2</td>\n",
       "      <td>0</td>\n",
       "      <td>liked</td>\n",
       "      <td>0</td>\n",
       "      <td>...</td>\n",
       "      <td>0</td>\n",
       "      <td>[{'type': 'venue', 'name': 'Venue photos', 'count': 0, 'items': [{'id': '530f6a06498e5bce02cf6ebb', 'createdAt': 1393519110, 'prefix': 'https://fastly.4sqi.net/img/general/', 'suffix': '/18681256_ns85glUUltD4qyldugYZ7IJZlZoQ5YRCInfyR-Blh64.jpg', 'width': 960, 'height': 720, 'user': {'id': '18681256', 'firstName': 'Michael', 'lastName': 'D', 'photo': {'prefix': 'https://fastly.4sqi.net/img/user/', 'suffix': '/18681256-SYTMTHVRHHFSGV1R.jpg'}}, 'visibility': 'public'}, {'id': '5df28402b2d4a500084ebf53', 'createdAt': 1576174594, 'prefix': 'https://fastly.4sqi.net/img/general/', 'suffix': '/7414576_tqZOyA0F-W1F7o5tr4igpgB1HEkaCFddlvqUv_i0kpc.jpg', 'width': 1440, 'height': 1920, 'user': {'id': '7414576', 'firstName': 'Jimmy', 'lastName': 'D', 'photo': {'prefix': 'https://fastly.4sqi.net/img/user/', 'suffix': '/7414576_a2nbCBV4_AXyAIUyswAk71onZcweGGhxY84iepPILIBNP-FrqlWmyWuqLPz2G5zNosFFkHt2U.jpg'}}, 'visibility': 'public'}, {'id': '5a946c7c3731ee5cc39ebdd2', 'createdAt': 1519676540, 'prefix': 'https://fastly.4sqi.net/img/general/', 'suffix': '/24725984_ucZwpZOGtz6TBsfXTMy69xqHkiHEM_Nh4XhU9ChSdGs.jpg', 'width': 1440, 'height': 1920, 'user': {'id': '24725984', 'firstName': 'Elizabeth', 'lastName': 'F', 'photo': {'prefix': 'https://fastly.4sqi.net/img/user/', 'suffix': '/24725984-43FHJO14ZLXAKFCN.jpg'}}, 'visibility': 'public'}]}]</td>\n",
       "      <td>NaN</td>\n",
       "      <td>NaN</td>\n",
       "      <td>NaN</td>\n",
       "      <td>NaN</td>\n",
       "      <td>NaN</td>\n",
       "      <td>NaN</td>\n",
       "      <td>NaN</td>\n",
       "      <td>NaN</td>\n",
       "    </tr>\n",
       "    <tr>\n",
       "      <th>2</th>\n",
       "      <td>5acbbd4eb1538e45373b07f5</td>\n",
       "      <td>1523301710</td>\n",
       "      <td>You’re not a real New Yorker until you’ve shame-ordered Insomnia Cookies for delivery at 3am</td>\n",
       "      <td>user</td>\n",
       "      <td>https://foursquare.com/item/5acbbd4eb1538e45373b07f5</td>\n",
       "      <td>True</td>\n",
       "      <td>1</td>\n",
       "      <td>0</td>\n",
       "      <td>liked</td>\n",
       "      <td>0</td>\n",
       "      <td>...</td>\n",
       "      <td>0</td>\n",
       "      <td>[{'type': 'venue', 'name': 'Venue photos', 'count': 0, 'items': [{'id': '5e6d636ac25a5f0008f9e34b', 'createdAt': 1584227178, 'prefix': 'https://fastly.4sqi.net/img/general/', 'suffix': '/3312774_nK0xwTr0jQvcUcp_eJN3vlx9VibREGSG_yktycYl_7M.jpg', 'width': 1440, 'height': 1920, 'user': {'id': '3312774', 'firstName': 'Ehs', 'photo': {'prefix': 'https://fastly.4sqi.net/img/user/', 'suffix': '/SHS1MCVHQ2DJATNJ.jpg'}}, 'visibility': 'public'}, {'id': '5e6d6369f13e8100089d7234', 'createdAt': 1584227177, 'prefix': 'https://fastly.4sqi.net/img/general/', 'suffix': '/3312774_B-dg-TcxFPAvbIbw_IWHE1B_7_mDKYG1R_XsfbReJyg.jpg', 'width': 1440, 'height': 1920, 'user': {'id': '3312774', 'firstName': 'Ehs', 'photo': {'prefix': 'https://fastly.4sqi.net/img/user/', 'suffix': '/SHS1MCVHQ2DJATNJ.jpg'}}, 'visibility': 'public'}, {'id': '5e37956f927f370008ca5939', 'createdAt': 1580701039, 'prefix': 'https://fastly.4sqi.net/img/general/', 'suffix': '/42776575_xC5g96cxXhbWJKd9OTu1vhgJ9IXNPuDrVtksGzxN8Hc.jpg', 'width': 1440, 'height': 1920, 'user': {'id': '42776575', 'firstName': 'Tiny', 'photo': {'prefix': 'https://fastly.4sqi.net/img/user/', 'suffix': '/42776575-3XIWTIPIHDVXHCED.jpg'}}, 'visibility': 'public'}]}]</td>\n",
       "      <td>297865</td>\n",
       "      <td>https://www.seamless.com/menu/insomnia-cookies-304-w-14th-st-new-york/297865?affiliate=1131&amp;utm_source=foursquare-affiliate-network&amp;utm_medium=affiliate&amp;utm_campaign=1131&amp;utm_content=297865</td>\n",
       "      <td>seamless</td>\n",
       "      <td>https://fastly.4sqi.net/img/general/cap/</td>\n",
       "      <td>[40, 50]</td>\n",
       "      <td>/delivery_provider_seamless_20180129.png</td>\n",
       "      <td>NaN</td>\n",
       "      <td>NaN</td>\n",
       "    </tr>\n",
       "    <tr>\n",
       "      <th>3</th>\n",
       "      <td>5acbbcda01235808d5d6dc75</td>\n",
       "      <td>1523301594</td>\n",
       "      <td>Good for you yet still tasty! Clean green protein is my go-to after I hit the gym 💪</td>\n",
       "      <td>user</td>\n",
       "      <td>https://foursquare.com/item/5acbbcda01235808d5d6dc75</td>\n",
       "      <td>True</td>\n",
       "      <td>2</td>\n",
       "      <td>0</td>\n",
       "      <td>liked</td>\n",
       "      <td>0</td>\n",
       "      <td>...</td>\n",
       "      <td>0</td>\n",
       "      <td>[{'type': 'venue', 'name': 'Venue photos', 'count': 0, 'items': [{'id': '5217f5d911d2aa1b1b5eef40', 'createdAt': 1377301977, 'prefix': 'https://fastly.4sqi.net/img/general/', 'suffix': '/3671184_lniwDow-pgwR4RXFGQkIAHPGWzrtnq0PyZ7wL1pztEE.jpg', 'width': 720, 'height': 960, 'user': {'id': '3671184', 'firstName': 'Mark', 'lastName': 'S', 'photo': {'prefix': 'https://fastly.4sqi.net/img/user/', 'suffix': '/3671184-S21JAKMO4GIGKGSS.jpg'}}, 'visibility': 'public'}, {'id': '5207b41f11d22e8e07043537', 'createdAt': 1376236575, 'prefix': 'https://fastly.4sqi.net/img/general/', 'suffix': '/67682_UJh5bS3JVq1DP3OMOLX9eTSfZCizgsZgqwW1HneNak0.jpg', 'width': 720, 'height': 960, 'user': {'id': '67682', 'firstName': 'Tony', 'lastName': 'Z', 'photo': {'prefix': 'https://fastly.4sqi.net/img/user/', 'suffix': '/4D0T4U3ZO2YIC4M3.jpg'}}, 'visibility': 'public'}, {'id': '50f3434fe4b052055893c065', 'createdAt': 1358119759, 'prefix': 'https://fastly.4sqi.net/img/general/', 'suffix': '/44549901_tu7N46fwbnaRF-6TbZWSkfj_BaLO8n8WZ1bMSZMnSDg.jpg', 'width': 720, 'height': 960, 'user': {'id': '44549901', 'firstName': 'Irving', 'lastName': 'C', 'photo': {'prefix': 'https://fastly.4sqi.net/img/user/', 'suffix': '/NY5VCPMLWZ0GGE5H.jpg'}}, 'visibility': 'public'}]}]</td>\n",
       "      <td>312894</td>\n",
       "      <td>https://www.seamless.com/menu/juice-press-122-greenwich-ave-new-york/312894?affiliate=1131&amp;utm_source=foursquare-affiliate-network&amp;utm_medium=affiliate&amp;utm_campaign=1131&amp;utm_content=312894</td>\n",
       "      <td>seamless</td>\n",
       "      <td>https://fastly.4sqi.net/img/general/cap/</td>\n",
       "      <td>[40, 50]</td>\n",
       "      <td>/delivery_provider_seamless_20180129.png</td>\n",
       "      <td>NaN</td>\n",
       "      <td>NaN</td>\n",
       "    </tr>\n",
       "    <tr>\n",
       "      <th>4</th>\n",
       "      <td>5ab575fb6bdee65f759da8c1</td>\n",
       "      <td>1521841659</td>\n",
       "      <td>Burger game strong 💪</td>\n",
       "      <td>user</td>\n",
       "      <td>https://foursquare.com/item/5ab575fb6bdee65f759da8c1</td>\n",
       "      <td>True</td>\n",
       "      <td>1</td>\n",
       "      <td>0</td>\n",
       "      <td>liked</td>\n",
       "      <td>0</td>\n",
       "      <td>...</td>\n",
       "      <td>0</td>\n",
       "      <td>[{'type': 'venue', 'name': 'Venue photos', 'count': 0, 'items': [{'id': '5e1692cc342fd40008b5a2b7', 'createdAt': 1578537676, 'prefix': 'https://fastly.4sqi.net/img/general/', 'suffix': '/1213904_LFsKs4wx3M2ZU0rFiLeKks-8u_SQytFeq_UERJxC2cI.jpg', 'width': 1440, 'height': 1920, 'user': {'id': '1213904', 'firstName': 'Melanie', 'lastName': 'L', 'photo': {'prefix': 'https://fastly.4sqi.net/img/user/', 'suffix': '/CQY1TFDXVJ3TJMVD.jpg'}}, 'visibility': 'public'}, {'id': '5b2042d93362730039dc12c4', 'createdAt': 1528840921, 'prefix': 'https://fastly.4sqi.net/img/general/', 'suffix': '/10707_ofQ_2Ht0AhII6P6dGWeJh20NiTh9gMIZybYgCN-5MCQ.jpg', 'width': 1425, 'height': 1900, 'user': {'id': '10707', 'firstName': 'jbrotherlove', 'photo': {'prefix': 'https://fastly.4sqi.net/img/user/', 'suffix': '/TEO154RTNPM2SRIA.jpg'}}, 'visibility': 'public'}, {'id': '5b2042d84f0e58002cebd543', 'createdAt': 1528840920, 'prefix': 'https://fastly.4sqi.net/img/general/', 'suffix': '/10707_QasZNR4Zm8S3S6Tce5hqtb4LdzlFI9-9iEdtluJHpUc.jpg', 'width': 1424, 'height': 1900, 'user': {'id': '10707', 'firstName': 'jbrotherlove', 'photo': {'prefix': 'https://fastly.4sqi.net/img/user/', 'suffix': '/TEO154RTNPM2SRIA.jpg'}}, 'visibility': 'public'}]}]</td>\n",
       "      <td>340689</td>\n",
       "      <td>https://www.seamless.com/menu/the-warren-131-christopher-st-new-york/340689?affiliate=1131&amp;utm_source=foursquare-affiliate-network&amp;utm_medium=affiliate&amp;utm_campaign=1131&amp;utm_content=340689</td>\n",
       "      <td>seamless</td>\n",
       "      <td>https://fastly.4sqi.net/img/general/cap/</td>\n",
       "      <td>[40, 50]</td>\n",
       "      <td>/delivery_provider_seamless_20180129.png</td>\n",
       "      <td>NaN</td>\n",
       "      <td>NaN</td>\n",
       "    </tr>\n",
       "    <tr>\n",
       "      <th>5</th>\n",
       "      <td>5ab5575d73fe2516ad8f363b</td>\n",
       "      <td>1521833821</td>\n",
       "      <td>Great burgers &amp; fries! Also, this place is exactly what it’s like when you go to a bar in the Southwest. Source: I’m from Arizona.</td>\n",
       "      <td>user</td>\n",
       "      <td>https://foursquare.com/item/5ab5575d73fe2516ad8f363b</td>\n",
       "      <td>True</td>\n",
       "      <td>2</td>\n",
       "      <td>0</td>\n",
       "      <td>liked</td>\n",
       "      <td>0</td>\n",
       "      <td>...</td>\n",
       "      <td>0</td>\n",
       "      <td>[{'type': 'venue', 'name': 'Venue photos', 'count': 0, 'items': [{'id': '4fa57ddee4b0c1088e600259', 'createdAt': 1336245726, 'prefix': 'https://fastly.4sqi.net/img/general/', 'suffix': '/OZxfzZQXiuihRhthACWIap0mnunBcLEu_y4BzgEc0Ks.jpg', 'width': 612, 'height': 612, 'user': {'id': '565726', 'firstName': 'Bergdorf Goodman', 'photo': {'prefix': 'https://fastly.4sqi.net/img/user/', 'suffix': '/AYW3LNRF3S2FV4N1.jpg'}}, 'visibility': 'public'}, {'id': '4f11d4e9e4b07e9ecad8d5b3', 'createdAt': 1326568681, 'prefix': 'https://fastly.4sqi.net/img/general/', 'suffix': '/FIPNASV2ICYJNOT2X2NOV0ZQRPOOGGDOQ4UXXCHL4RFRMY0Q.jpg', 'width': 720, 'height': 537, 'user': {'id': '693267', 'firstName': 'Ian', 'lastName': 'B', 'photo': {'prefix': 'https://fastly.4sqi.net/img/user/', 'suffix': '/JGYJCHSLLEO31JET.jpg'}}, 'visibility': 'public'}, {'id': '4f74a32ee4b0e33c0deaaded', 'createdAt': 1333044014, 'prefix': 'https://fastly.4sqi.net/img/general/', 'suffix': '/UvQ4O4kT_oNYvlfX0cXWGqwI6kTbzxjZHMbMw6FZg6A.jpg', 'width': 612, 'height': 612, 'user': {'id': '120077', 'firstName': 'Ron', 'lastName': 'V', 'photo': {'prefix': 'https://fastly.4sqi.net/img/user/', 'suffix': '/120077_1259011080955.jpg'}}, 'visibility': 'public'}]}]</td>\n",
       "      <td>22041</td>\n",
       "      <td>https://www.seamless.com/menu/cowgirl-519-hudson-st-new-york/22041?affiliate=1131&amp;utm_source=foursquare-affiliate-network&amp;utm_medium=affiliate&amp;utm_campaign=1131&amp;utm_content=22041</td>\n",
       "      <td>seamless</td>\n",
       "      <td>https://fastly.4sqi.net/img/general/cap/</td>\n",
       "      <td>[40, 50]</td>\n",
       "      <td>/delivery_provider_seamless_20180129.png</td>\n",
       "      <td>51938614</td>\n",
       "      <td>NaN</td>\n",
       "    </tr>\n",
       "    <tr>\n",
       "      <th>6</th>\n",
       "      <td>5ab42db53c858d64af2688a4</td>\n",
       "      <td>1521757621</td>\n",
       "      <td>Açaí bowl + peanut butter + whey protein = 💪💪💪</td>\n",
       "      <td>user</td>\n",
       "      <td>https://foursquare.com/item/5ab42db53c858d64af2688a4</td>\n",
       "      <td>True</td>\n",
       "      <td>1</td>\n",
       "      <td>0</td>\n",
       "      <td>liked</td>\n",
       "      <td>0</td>\n",
       "      <td>...</td>\n",
       "      <td>0</td>\n",
       "      <td>[{'type': 'venue', 'name': 'Venue photos', 'count': 0, 'items': [{'id': '525c69e8498eb6996222670d', 'createdAt': 1381788136, 'prefix': 'https://fastly.4sqi.net/img/general/', 'suffix': '/12264161_v_6FA9NtXo979paWABlKcTAJEJF1Q_WB1lyNdTLIPXo.jpg', 'width': 720, 'height': 960, 'user': {'id': '12264161', 'firstName': 'Lea', 'lastName': 'G', 'photo': {'prefix': 'https://fastly.4sqi.net/img/user/', 'suffix': '/YQNTGFEKGZ2GK234.jpg'}}, 'visibility': 'public'}, {'id': '5272a29911d2e14986b4d3d2', 'createdAt': 1383244441, 'prefix': 'https://fastly.4sqi.net/img/general/', 'suffix': '/17355668_wfkI1Or2sTw_CeK8swI3SjW2uP27jYZa2EmhhVFstOM.jpg', 'width': 720, 'height': 960, 'user': {'id': '17355668', 'firstName': 'Jessica', 'lastName': 'M', 'photo': {'prefix': 'https://fastly.4sqi.net/img/user/', 'suffix': '/17355668-XEVKML35OBVP0EBW.jpg'}}, 'visibility': 'public'}, {'id': '51db5e88498e5fd2abcf15c2', 'createdAt': 1373331080, 'prefix': 'https://fastly.4sqi.net/img/general/', 'suffix': '/2352353_Z_9CRSeFEhsMWiN_o04Vn8bdGWNJemBaFT6eomdxbtI.jpg', 'width': 960, 'height': 720, 'user': {'id': '2352353', 'firstName': 'Cari', 'lastName': 'R', 'photo': {'prefix': 'https://fastly.4sqi.net/img/user/', 'suffix': '/2352353-DPNMMP4EYTEHEOGJ.jpg'}}, 'visibility': 'public'}]}]</td>\n",
       "      <td>1739562</td>\n",
       "      <td>https://www.seamless.com/menu/juice-generation-broadway-2345-broadway-new-york/1739562?affiliate=1131&amp;utm_source=foursquare-affiliate-network&amp;utm_medium=affiliate&amp;utm_campaign=1131&amp;utm_content=1739562</td>\n",
       "      <td>seamless</td>\n",
       "      <td>https://fastly.4sqi.net/img/general/cap/</td>\n",
       "      <td>[40, 50]</td>\n",
       "      <td>/delivery_provider_seamless_20180129.png</td>\n",
       "      <td>NaN</td>\n",
       "      <td>Upper West Side</td>\n",
       "    </tr>\n",
       "    <tr>\n",
       "      <th>7</th>\n",
       "      <td>5ab42c396f706a29f53ad1a8</td>\n",
       "      <td>1521757241</td>\n",
       "      <td>Highly underrated and way less crowded than Central Park!</td>\n",
       "      <td>user</td>\n",
       "      <td>https://foursquare.com/item/5ab42c396f706a29f53ad1a8</td>\n",
       "      <td>True</td>\n",
       "      <td>3</td>\n",
       "      <td>0</td>\n",
       "      <td>liked</td>\n",
       "      <td>0</td>\n",
       "      <td>...</td>\n",
       "      <td>0</td>\n",
       "      <td>[{'type': 'venue', 'name': 'Venue photos', 'count': 0, 'items': [{'id': '501dc71fe4b0db1da647b859', 'createdAt': 1344128799, 'prefix': 'https://fastly.4sqi.net/img/general/', 'suffix': '/mQmdx0ZsH2pblVjjLz89z9jfhHHfTctkDSRvNXp5XmE.jpg', 'width': 612, 'height': 612, 'user': {'id': '11151262', 'firstName': 'Olga', 'lastName': 'M', 'photo': {'prefix': 'https://fastly.4sqi.net/img/user/', 'suffix': '/MM5W5R1RCJVOUEDB.jpg'}}, 'visibility': 'public'}, {'id': '512be81fe4b0ac0de8cb7249', 'createdAt': 1361831967, 'prefix': 'https://fastly.4sqi.net/img/general/', 'suffix': '/29688_9vM-bZrBE3HeLX0sD6moNZrY-PVKWoUMxT1bFPBY02g.jpg', 'width': 612, 'height': 612, 'user': {'id': '29688', 'firstName': 'Jess', 'lastName': 'M', 'photo': {'prefix': 'https://fastly.4sqi.net/img/user/', 'suffix': '/29688_1255649160441.jpg'}}, 'visibility': 'public'}, {'id': '522ccf8411d277f9f57bca59', 'createdAt': 1378668420, 'prefix': 'https://fastly.4sqi.net/img/general/', 'suffix': '/6287375_SDlyayLmobAdn46cyuY3zAUQP-KBOykjwLCvVyhUmhg.jpg', 'width': 612, 'height': 612, 'user': {'id': '6287375', 'firstName': 'Ana', 'lastName': 'P', 'photo': {'prefix': 'https://fastly.4sqi.net/img/user/', 'suffix': '/RJVE4EOZ3LLR0HTA.jpg'}}, 'visibility': 'public'}]}]</td>\n",
       "      <td>NaN</td>\n",
       "      <td>NaN</td>\n",
       "      <td>NaN</td>\n",
       "      <td>NaN</td>\n",
       "      <td>NaN</td>\n",
       "      <td>NaN</td>\n",
       "      <td>NaN</td>\n",
       "      <td>NaN</td>\n",
       "    </tr>\n",
       "    <tr>\n",
       "      <th>8</th>\n",
       "      <td>5ab42b987dc9e17930e5ff5b</td>\n",
       "      <td>1521757080</td>\n",
       "      <td>Way easier to navigate than the Met proper, plus the Met Breuer focuses on modern art. If I only have a limited amount of time to spend in a museum, I would rather go here than anywhere else!</td>\n",
       "      <td>user</td>\n",
       "      <td>https://foursquare.com/item/5ab42b987dc9e17930e5ff5b</td>\n",
       "      <td>True</td>\n",
       "      <td>6</td>\n",
       "      <td>0</td>\n",
       "      <td>liked</td>\n",
       "      <td>0</td>\n",
       "      <td>...</td>\n",
       "      <td>0</td>\n",
       "      <td>[{'type': 'venue', 'name': 'Venue photos', 'count': 0, 'items': [{'id': '56f848d4498e8cf107ff90ac', 'createdAt': 1459112148, 'prefix': 'https://fastly.4sqi.net/img/general/', 'suffix': '/10024248_qdb0PNXFbZp-JBFNI_Yoe_XZh4mmJ2XevsqnbBBMB-g.jpg', 'width': 1080, 'height': 1080, 'user': {'id': '10024248', 'firstName': 'Justin', 'lastName': 'L', 'photo': {'prefix': 'https://fastly.4sqi.net/img/user/', 'suffix': '/BNQWCLD2WKAN1KS4.jpg'}}, 'visibility': 'public'}, {'id': '56db2ec7498ed710060a0814', 'createdAt': 1457204935, 'prefix': 'https://fastly.4sqi.net/img/general/', 'suffix': '/75345356_lTGWl0IR9KUGVLhtoKnfLHgBlTCCxfzGlgGbYnBe9pU.jpg', 'width': 1440, 'height': 1920, 'user': {'id': '75345356', 'firstName': 'Emily', 'lastName': 'L', 'photo': {'prefix': 'https://fastly.4sqi.net/img/user/', 'suffix': '/75345356-INUUT1OTHV2OMNDW.jpg'}}, 'visibility': 'public'}, {'id': '570255a8498e7cf77b5c0576', 'createdAt': 1459770792, 'prefix': 'https://fastly.4sqi.net/img/general/', 'suffix': '/79162021_qHnKyJqO8i5yRahkHOsS7cRVkQZ0cZwcZG-XG8oBof4.jpg', 'width': 1920, 'height': 1440, 'user': {'id': '79162021', 'firstName': 'Winston', 'lastName': 'L', 'photo': {'prefix': 'https://fastly.4sqi.net/img/user/', 'suffix': '/79162021-VOB0EBFQZKLC5E5N.jpg'}}, 'visibility': 'public'}]}]</td>\n",
       "      <td>NaN</td>\n",
       "      <td>NaN</td>\n",
       "      <td>NaN</td>\n",
       "      <td>NaN</td>\n",
       "      <td>NaN</td>\n",
       "      <td>NaN</td>\n",
       "      <td>NaN</td>\n",
       "      <td>NaN</td>\n",
       "    </tr>\n",
       "    <tr>\n",
       "      <th>9</th>\n",
       "      <td>5ab42aca2a7ab6333652b266</td>\n",
       "      <td>1521756874</td>\n",
       "      <td>Get the açaí bowl with peanut butter after your work out and thank me later 👌</td>\n",
       "      <td>user</td>\n",
       "      <td>https://foursquare.com/item/5ab42aca2a7ab6333652b266</td>\n",
       "      <td>True</td>\n",
       "      <td>1</td>\n",
       "      <td>0</td>\n",
       "      <td>liked</td>\n",
       "      <td>0</td>\n",
       "      <td>...</td>\n",
       "      <td>0</td>\n",
       "      <td>[{'type': 'venue', 'name': 'Venue photos', 'count': 0, 'items': [{'id': '4fe78732e4b0227204a7e4da', 'createdAt': 1340573490, 'prefix': 'https://fastly.4sqi.net/img/general/', 'suffix': '/FnwX5CmD0NHmhp5enSZRhqhfWXDUcAJoNLsQQGVPIpw.jpg', 'width': 612, 'height': 612, 'user': {'id': '10944650', 'firstName': 'Britt', 'lastName': 'H', 'photo': {'prefix': 'https://fastly.4sqi.net/img/user/', 'suffix': '/10944650-30BCSZQENJ4FBSUG.jpg'}}, 'visibility': 'public'}, {'id': '513cd52fe4b012e8149cd002', 'createdAt': 1362941231, 'prefix': 'https://fastly.4sqi.net/img/general/', 'suffix': '/10869681_YqwXqRlrnwyIk6rSeh1dH4ErVXyN2XPdRBj4IX2f0Pw.jpg', 'width': 720, 'height': 720, 'user': {'id': '10869681', 'firstName': 'Dat Nikka', 'lastName': 'P', 'photo': {'prefix': 'https://fastly.4sqi.net/img/user/', 'suffix': '/2XQG42WEB0RTR1HR.jpg'}}, 'visibility': 'public'}, {'id': '5159cec8e4b02850732e9727', 'createdAt': 1364840136, 'prefix': 'https://fastly.4sqi.net/img/general/', 'suffix': '/2165934_i95TLrmFdgyTzjJwEdRgACgeiolqFVoHv_WZJYcEX14.jpg', 'width': 720, 'height': 960, 'user': {'id': '2165934', 'firstName': 'Ashley', 'lastName': 'D', 'photo': {'prefix': 'https://fastly.4sqi.net/img/user/', 'suffix': '/20M1NFY5ZXDRBUGP.jpg'}}, 'visibility': 'public'}]}]</td>\n",
       "      <td>1739255</td>\n",
       "      <td>https://www.seamless.com/menu/juice-generation-3rd-ave-1486-3rd-ave-new-york/1739255?affiliate=1131&amp;utm_source=foursquare-affiliate-network&amp;utm_medium=affiliate&amp;utm_campaign=1131&amp;utm_content=1739255</td>\n",
       "      <td>seamless</td>\n",
       "      <td>https://fastly.4sqi.net/img/general/cap/</td>\n",
       "      <td>[40, 50]</td>\n",
       "      <td>/delivery_provider_seamless_20180129.png</td>\n",
       "      <td>NaN</td>\n",
       "      <td>NaN</td>\n",
       "    </tr>\n",
       "    <tr>\n",
       "      <th>10</th>\n",
       "      <td>5ab42a28da5e5617d18e3a6a</td>\n",
       "      <td>1521756712</td>\n",
       "      <td>When you want a burger, this should be the first thing that comes to mind. A+!</td>\n",
       "      <td>user</td>\n",
       "      <td>https://foursquare.com/item/5ab42a28da5e5617d18e3a6a</td>\n",
       "      <td>True</td>\n",
       "      <td>1</td>\n",
       "      <td>0</td>\n",
       "      <td>liked</td>\n",
       "      <td>0</td>\n",
       "      <td>...</td>\n",
       "      <td>0</td>\n",
       "      <td>[{'type': 'venue', 'name': 'Venue photos', 'count': 0, 'items': [{'id': '50e4698be4b01e1707a251e1', 'createdAt': 1357146507, 'prefix': 'https://fastly.4sqi.net/img/general/', 'suffix': '/5054790_yumS7l9NdgjduuPzFa-ANYk5inL5008ho2xrqKPkhAw.jpg', 'width': 612, 'height': 612, 'user': {'id': '5054790', 'firstName': 'Yuta', 'lastName': 'T', 'photo': {'prefix': 'https://fastly.4sqi.net/img/user/', 'suffix': '/BQJFEHRNT4XPUPSE.jpg'}}, 'visibility': 'public'}, {'id': '521ce4c611d25728b458725e', 'createdAt': 1377625286, 'prefix': 'https://fastly.4sqi.net/img/general/', 'suffix': '/11845309_76f2wnKJk6rhc6Iq5ptuOcMeXzRUoZa2THc9C8KATCs.jpg', 'width': 612, 'height': 612, 'user': {'id': '11845309', 'firstName': 'Phil', 'lastName': 'N', 'photo': {'prefix': 'https://fastly.4sqi.net/img/user/', 'suffix': '/11845309-CQDF2JJ4SOUY4VLF.jpg'}}, 'visibility': 'public'}, {'id': '51f474b2498ea56faa5d1fca', 'createdAt': 1374975154, 'prefix': 'https://fastly.4sqi.net/img/general/', 'suffix': '/18335360_1FwTGzeBJPAqtplNUeyDjsXjuX2upN-pEypyHogXF5Q.jpg', 'width': 612, 'height': 612, 'user': {'id': '18335360', 'firstName': 'Teddy', 'photo': {'prefix': 'https://fastly.4sqi.net/img/user/', 'suffix': '/AIBJZU5P5M1WWP4R.jpg'}}, 'visibility': 'public'}]}]</td>\n",
       "      <td>698289</td>\n",
       "      <td>https://www.seamless.com/menu/shake-shack-154-e-86th-st-new-york/698289?affiliate=1131&amp;utm_source=foursquare-affiliate-network&amp;utm_medium=affiliate&amp;utm_campaign=1131&amp;utm_content=698289</td>\n",
       "      <td>seamless</td>\n",
       "      <td>https://fastly.4sqi.net/img/general/cap/</td>\n",
       "      <td>[40, 50]</td>\n",
       "      <td>/delivery_provider_seamless_20180129.png</td>\n",
       "      <td>NaN</td>\n",
       "      <td>NaN</td>\n",
       "    </tr>\n",
       "    <tr>\n",
       "      <th>11</th>\n",
       "      <td>5ab429db1ffe971b060083f5</td>\n",
       "      <td>1521756635</td>\n",
       "      <td>Way less crowded than Central Park! People who live in the neighborhood rave about Carl Schurz Park.</td>\n",
       "      <td>user</td>\n",
       "      <td>https://foursquare.com/item/5ab429db1ffe971b060083f5</td>\n",
       "      <td>True</td>\n",
       "      <td>3</td>\n",
       "      <td>0</td>\n",
       "      <td>liked</td>\n",
       "      <td>0</td>\n",
       "      <td>...</td>\n",
       "      <td>0</td>\n",
       "      <td>[{'type': 'venue', 'name': 'Venue photos', 'count': 0, 'items': [{'id': '51c2ea1c498e2bd7fc1cc139', 'createdAt': 1371728412, 'prefix': 'https://fastly.4sqi.net/img/general/', 'suffix': '/6022996_rqxdqsTjMvQnuPlnmO5wyXDiCSDEb_rs66KkqI_zUaY.jpg', 'width': 612, 'height': 612, 'user': {'id': '6022996', 'firstName': 'Kerry', 'lastName': 'C', 'photo': {'prefix': 'https://fastly.4sqi.net/img/user/', 'suffix': '/6022996-BAZTF4XGRA5HQ0NF'}}, 'visibility': 'public'}, {'id': '4fae76b6e4b03b8054f721f5', 'createdAt': 1336833718, 'prefix': 'https://fastly.4sqi.net/img/general/', 'suffix': '/VO0FY2Qfwn8-So0Vp6SXqhmQPOi9-JgikPkhmhn-DoY.jpg', 'width': 612, 'height': 612, 'user': {'id': '5748524', 'firstName': 'Esten', 'lastName': 'H', 'photo': {'prefix': 'https://fastly.4sqi.net/img/user/', 'suffix': '/X43IKJU2GLHFQPYA.jpg'}}, 'visibility': 'public'}, {'id': '4f845571e4b013f8f522e843', 'createdAt': 1334072689, 'prefix': 'https://fastly.4sqi.net/img/general/', 'suffix': '/DWKrlODDsEP7m91U3YGhCcsiJW-delJrZ36whvdczKQ.jpg', 'width': 720, 'height': 538, 'user': {'id': '23138842', 'firstName': 'Michelle', 'lastName': 'K', 'photo': {'prefix': 'https://fastly.4sqi.net/img/user/', 'suffix': '/D3UYL3UZW4FX3HPJ.jpg'}}, 'visibility': 'public'}]}]</td>\n",
       "      <td>NaN</td>\n",
       "      <td>NaN</td>\n",
       "      <td>NaN</td>\n",
       "      <td>NaN</td>\n",
       "      <td>NaN</td>\n",
       "      <td>NaN</td>\n",
       "      <td>NaN</td>\n",
       "      <td>NaN</td>\n",
       "    </tr>\n",
       "    <tr>\n",
       "      <th>12</th>\n",
       "      <td>5ab3f53f8496ca57542d5549</td>\n",
       "      <td>1521743167</td>\n",
       "      <td>The best Mexican food in the Murray Hill / Kips Bay area!</td>\n",
       "      <td>user</td>\n",
       "      <td>https://foursquare.com/item/5ab3f53f8496ca57542d5549</td>\n",
       "      <td>True</td>\n",
       "      <td>1</td>\n",
       "      <td>0</td>\n",
       "      <td>liked</td>\n",
       "      <td>0</td>\n",
       "      <td>...</td>\n",
       "      <td>0</td>\n",
       "      <td>[{'type': 'venue', 'name': 'Venue photos', 'count': 0, 'items': [{'id': '4e0bdc52a12d7fd3197703ae', 'createdAt': 1309400146, 'prefix': 'https://fastly.4sqi.net/img/general/', 'suffix': '/SMISE5ZB4LTP4G0OH2NYWRNYF5GQ34CV0FUAPD1SHG2BA3CH.jpg', 'width': 537, 'height': 720, 'user': {'id': '238317', 'firstName': 'greenie', 'lastName': 'm', 'photo': {'prefix': 'https://fastly.4sqi.net/img/user/', 'suffix': '/HZRJBUMBM5DYGO22.jpg'}}, 'visibility': 'public'}, {'id': '51c64b85498e16a8bd0fb80e', 'createdAt': 1371949957, 'prefix': 'https://fastly.4sqi.net/img/general/', 'suffix': '/2439138_rV0LCoPwHMmSUiCFtQx5SjYFFmP7ugguGtsIbQu3YGc.jpg', 'width': 717, 'height': 959, 'user': {'id': '2439138', 'firstName': 'Mon', 'lastName': 'F', 'photo': {'prefix': 'https://fastly.4sqi.net/img/user/', 'suffix': '/KJMPOHUHGZTPSLKB.jpg'}}, 'visibility': 'public'}, {'id': '51e57474498eb4224d73cd07', 'createdAt': 1373992052, 'prefix': 'https://fastly.4sqi.net/img/general/', 'suffix': '/46803298_ia3ctuL6xcxunRptB-MHEWCyiGgybZtgigkOrqb_qyU.jpg', 'width': 960, 'height': 540, 'user': {'id': '46803298', 'firstName': 'Violet', 'lastName': 'C', 'photo': {'prefix': 'https://fastly.4sqi.net/img/user/', 'suffix': '/46803298_wESEFT5O_hNIZXMs-OxMRggg-BfMIUaaRu34VBrRvb8j6EBg01HkzjcERc2IHbhJFXmQ7FRxq.jpg'}}, 'visibility': 'public'}]}]</td>\n",
       "      <td>NaN</td>\n",
       "      <td>NaN</td>\n",
       "      <td>NaN</td>\n",
       "      <td>NaN</td>\n",
       "      <td>NaN</td>\n",
       "      <td>NaN</td>\n",
       "      <td>55146944</td>\n",
       "      <td>NaN</td>\n",
       "    </tr>\n",
       "    <tr>\n",
       "      <th>13</th>\n",
       "      <td>5ab3f428da5e5617d17d1475</td>\n",
       "      <td>1521742888</td>\n",
       "      <td>Best coffee shop in the neighborhood!</td>\n",
       "      <td>user</td>\n",
       "      <td>https://foursquare.com/item/5ab3f428da5e5617d17d1475</td>\n",
       "      <td>True</td>\n",
       "      <td>1</td>\n",
       "      <td>0</td>\n",
       "      <td>liked</td>\n",
       "      <td>0</td>\n",
       "      <td>...</td>\n",
       "      <td>0</td>\n",
       "      <td>[{'type': 'venue', 'name': 'Venue photos', 'count': 0, 'items': [{'id': '5e52a84d351081000862582e', 'createdAt': 1582475341, 'prefix': 'https://fastly.4sqi.net/img/general/', 'suffix': '/69565_BfzHazcbDFZUNEK6ItHAs4q2pm7Kc-Yagf2b73raZhs.jpg', 'width': 1080, 'height': 1440, 'user': {'id': '69565', 'firstName': 'Grace', 'lastName': 'S', 'photo': {'prefix': 'https://fastly.4sqi.net/img/user/', 'suffix': '/POCYZE4WOP43HHJP.jpg'}}, 'visibility': 'public'}, {'id': '5e20baefc0a0b200081f6151', 'createdAt': 1579203311, 'prefix': 'https://fastly.4sqi.net/img/general/', 'suffix': '/33532119_V1eh5nfmusBNJCG8fja-SE3W1UhGpAN_JaycTvQcN4A.jpg', 'width': 1440, 'height': 1920, 'user': {'id': '33532119', 'firstName': 'Amira', 'lastName': 'K', 'photo': {'prefix': 'https://fastly.4sqi.net/img/user/', 'suffix': '/33532119_6SQJW45e_QTBb8D9fzzrJFyihh1KkWwUi-33IFjApfuIDY63lsU-sv_zLR8XKu6p8D91dIJOP.jpg'}}, 'visibility': 'public'}, {'id': '5e16399c8f89f4000883ea77', 'createdAt': 1578514844, 'prefix': 'https://fastly.4sqi.net/img/general/', 'suffix': '/33532119_Bl1QPND0Bmj3vvmhNeiGTck6Vx8zdrm8_gO7c5RPmqA.jpg', 'width': 1440, 'height': 1920, 'user': {'id': '33532119', 'firstName': 'Amira', 'lastName': 'K', 'photo': {'prefix': 'https://fastly.4sqi.net/img/user/', 'suffix': '/33532119_6SQJW45e_QTBb8D9fzzrJFyihh1KkWwUi-33IFjApfuIDY63lsU-sv_zLR8XKu6p8D91dIJOP.jpg'}}, 'visibility': 'public'}]}]</td>\n",
       "      <td>NaN</td>\n",
       "      <td>NaN</td>\n",
       "      <td>NaN</td>\n",
       "      <td>NaN</td>\n",
       "      <td>NaN</td>\n",
       "      <td>NaN</td>\n",
       "      <td>NaN</td>\n",
       "      <td>NaN</td>\n",
       "    </tr>\n",
       "    <tr>\n",
       "      <th>14</th>\n",
       "      <td>5ab3f3fedd70c572de886c9d</td>\n",
       "      <td>1521742846</td>\n",
       "      <td>When there’s nice weather, the rooftop at Tonic East is the best place to watch the game. Perfect for March Madness &amp; NBA finals!</td>\n",
       "      <td>user</td>\n",
       "      <td>https://foursquare.com/item/5ab3f3fedd70c572de886c9d</td>\n",
       "      <td>True</td>\n",
       "      <td>2</td>\n",
       "      <td>0</td>\n",
       "      <td>liked</td>\n",
       "      <td>0</td>\n",
       "      <td>...</td>\n",
       "      <td>0</td>\n",
       "      <td>[{'type': 'venue', 'name': 'Venue photos', 'count': 0, 'items': [{'id': '515dd8dee4b0494dbb4fab4c', 'createdAt': 1365104862, 'prefix': 'https://fastly.4sqi.net/img/general/', 'suffix': '/14240789_NGOcixxd9VKU0mqJKxYN2UOitqhT9EkvH0Bw640eobs.jpg', 'width': 717, 'height': 959, 'user': {'id': '14240789', 'firstName': 'Christine', 'lastName': 'P', 'photo': {'prefix': 'https://fastly.4sqi.net/img/user/', 'suffix': '/3K3UOSTX30XMAO1V.jpg'}}, 'visibility': 'public'}, {'id': '50eba354e4b0ef749b91fe64', 'createdAt': 1357620052, 'prefix': 'https://fastly.4sqi.net/img/general/', 'suffix': '/2552_E92NI9sP-evEuyGOi5pu4RUI2s5uyWthRqkdpa55VoQ.jpg', 'width': 434, 'height': 720, 'user': {'id': '2552', 'firstName': 'Bill', 'lastName': 'C', 'photo': {'prefix': 'https://fastly.4sqi.net/img/user/', 'suffix': '/SUHKMEYXD5SK4FAS.jpg'}}, 'visibility': 'public'}, {'id': '5234cfe7498edcc619955995', 'createdAt': 1379192807, 'prefix': 'https://fastly.4sqi.net/img/general/', 'suffix': '/180687_1Luw7J1XOsHwl25iBxufQl3WoXQMFJdrmrnnIGEGihs.jpg', 'width': 612, 'height': 612, 'user': {'id': '180687', 'firstName': 'Sterling', 'lastName': 'R', 'photo': {'prefix': 'https://fastly.4sqi.net/img/user/', 'suffix': '/180687-R2YMSWWSOFQM4ZGH'}}, 'visibility': 'public'}]}]</td>\n",
       "      <td>NaN</td>\n",
       "      <td>NaN</td>\n",
       "      <td>NaN</td>\n",
       "      <td>NaN</td>\n",
       "      <td>NaN</td>\n",
       "      <td>NaN</td>\n",
       "      <td>64251458</td>\n",
       "      <td>Kips Bay</td>\n",
       "    </tr>\n",
       "  </tbody>\n",
       "</table>\n",
       "<p>15 rows × 36 columns</p>\n",
       "</div>"
      ],
      "text/plain": [
       "                          id   createdAt  \\\n",
       "0   5accc98c0313204c9d7ec157  1523370380   \n",
       "1   5acbec70a0215b732e264fe8  1523313776   \n",
       "2   5acbbd4eb1538e45373b07f5  1523301710   \n",
       "3   5acbbcda01235808d5d6dc75  1523301594   \n",
       "4   5ab575fb6bdee65f759da8c1  1521841659   \n",
       "5   5ab5575d73fe2516ad8f363b  1521833821   \n",
       "6   5ab42db53c858d64af2688a4  1521757621   \n",
       "7   5ab42c396f706a29f53ad1a8  1521757241   \n",
       "8   5ab42b987dc9e17930e5ff5b  1521757080   \n",
       "9   5ab42aca2a7ab6333652b266  1521756874   \n",
       "10  5ab42a28da5e5617d18e3a6a  1521756712   \n",
       "11  5ab429db1ffe971b060083f5  1521756635   \n",
       "12  5ab3f53f8496ca57542d5549  1521743167   \n",
       "13  5ab3f428da5e5617d17d1475  1521742888   \n",
       "14  5ab3f3fedd70c572de886c9d  1521742846   \n",
       "\n",
       "                                                                                                                                                                                               text  \\\n",
       "0   They serve coffee!!!!!!                                                                                                                                                                           \n",
       "1   Quick, cheap lunch that tastes good! Way shorter line than Chipotle, too.                                                                                                                         \n",
       "2   You’re not a real New Yorker until you’ve shame-ordered Insomnia Cookies for delivery at 3am                                                                                                      \n",
       "3   Good for you yet still tasty! Clean green protein is my go-to after I hit the gym 💪                                                                                                               \n",
       "4   Burger game strong 💪                                                                                                                                                                              \n",
       "5   Great burgers & fries! Also, this place is exactly what it’s like when you go to a bar in the Southwest. Source: I’m from Arizona.                                                                \n",
       "6   Açaí bowl + peanut butter + whey protein = 💪💪💪                                                                                                                                                    \n",
       "7   Highly underrated and way less crowded than Central Park!                                                                                                                                         \n",
       "8   Way easier to navigate than the Met proper, plus the Met Breuer focuses on modern art. If I only have a limited amount of time to spend in a museum, I would rather go here than anywhere else!   \n",
       "9   Get the açaí bowl with peanut butter after your work out and thank me later 👌                                                                                                                     \n",
       "10  When you want a burger, this should be the first thing that comes to mind. A+!                                                                                                                    \n",
       "11  Way less crowded than Central Park! People who live in the neighborhood rave about Carl Schurz Park.                                                                                              \n",
       "12  The best Mexican food in the Murray Hill / Kips Bay area!                                                                                                                                         \n",
       "13  Best coffee shop in the neighborhood!                                                                                                                                                             \n",
       "14  When there’s nice weather, the rooftop at Tonic East is the best place to watch the game. Perfect for March Madness & NBA finals!                                                                 \n",
       "\n",
       "    type                                          canonicalUrl  logView  \\\n",
       "0   user  https://foursquare.com/item/5accc98c0313204c9d7ec157  True      \n",
       "1   user  https://foursquare.com/item/5acbec70a0215b732e264fe8  True      \n",
       "2   user  https://foursquare.com/item/5acbbd4eb1538e45373b07f5  True      \n",
       "3   user  https://foursquare.com/item/5acbbcda01235808d5d6dc75  True      \n",
       "4   user  https://foursquare.com/item/5ab575fb6bdee65f759da8c1  True      \n",
       "5   user  https://foursquare.com/item/5ab5575d73fe2516ad8f363b  True      \n",
       "6   user  https://foursquare.com/item/5ab42db53c858d64af2688a4  True      \n",
       "7   user  https://foursquare.com/item/5ab42c396f706a29f53ad1a8  True      \n",
       "8   user  https://foursquare.com/item/5ab42b987dc9e17930e5ff5b  True      \n",
       "9   user  https://foursquare.com/item/5ab42aca2a7ab6333652b266  True      \n",
       "10  user  https://foursquare.com/item/5ab42a28da5e5617d18e3a6a  True      \n",
       "11  user  https://foursquare.com/item/5ab429db1ffe971b060083f5  True      \n",
       "12  user  https://foursquare.com/item/5ab3f53f8496ca57542d5549  True      \n",
       "13  user  https://foursquare.com/item/5ab3f428da5e5617d17d1475  True      \n",
       "14  user  https://foursquare.com/item/5ab3f3fedd70c572de886c9d  True      \n",
       "\n",
       "    agreeCount  disagreeCount authorInteractionType  likes.count  ...  \\\n",
       "0   1           0              liked                 0            ...   \n",
       "1   2           0              liked                 0            ...   \n",
       "2   1           0              liked                 0            ...   \n",
       "3   2           0              liked                 0            ...   \n",
       "4   1           0              liked                 0            ...   \n",
       "5   2           0              liked                 0            ...   \n",
       "6   1           0              liked                 0            ...   \n",
       "7   3           0              liked                 0            ...   \n",
       "8   6           0              liked                 0            ...   \n",
       "9   1           0              liked                 0            ...   \n",
       "10  1           0              liked                 0            ...   \n",
       "11  3           0              liked                 0            ...   \n",
       "12  1           0              liked                 0            ...   \n",
       "13  1           0              liked                 0            ...   \n",
       "14  2           0              liked                 0            ...   \n",
       "\n",
       "   venue.photos.count  \\\n",
       "0   0                   \n",
       "1   0                   \n",
       "2   0                   \n",
       "3   0                   \n",
       "4   0                   \n",
       "5   0                   \n",
       "6   0                   \n",
       "7   0                   \n",
       "8   0                   \n",
       "9   0                   \n",
       "10  0                   \n",
       "11  0                   \n",
       "12  0                   \n",
       "13  0                   \n",
       "14  0                   \n",
       "\n",
       "                                                                                                                                                                                                                                                                                                                                                                                                                                                                                                                                                                                                                                                                                                                                                                                                                                                                                                                                                                                                                                                                                                                                                                                                                                                                                                                                                                                                                        venue.photos.groups  \\\n",
       "0   [{'type': 'venue', 'name': 'Venue photos', 'count': 0, 'items': [{'id': '50285922e4b056f767252984', 'createdAt': 1344821538, 'prefix': 'https://fastly.4sqi.net/img/general/', 'suffix': '/OER4Di5DpJctd_fjkrY2BGo_e07VpBK8VPhq_LT1QVU.jpg', 'width': 612, 'height': 612, 'user': {'id': '12492436', 'firstName': 'Alex', 'lastName': 'M', 'photo': {'prefix': 'https://fastly.4sqi.net/img/user/', 'suffix': '/QJJNKHSEBMHFN1B4.jpg'}}, 'visibility': 'public'}, {'id': '520aa60211d2af008407aac6', 'createdAt': 1376429570, 'prefix': 'https://fastly.4sqi.net/img/general/', 'suffix': '/95078_fD5Q7e54b_JYc9b7UTs3y_ItqdGtWJlPlQLtNab2HxQ.jpg', 'width': 720, 'height': 960, 'user': {'id': '95078', 'firstName': 'Ross', 'lastName': 'P', 'photo': {'prefix': 'https://fastly.4sqi.net/img/user/', 'suffix': '/95078_1258832567848.jpg'}}, 'visibility': 'public'}, {'id': '4fe5ed89e4b0899a0a17b01e', 'createdAt': 1340468617, 'prefix': 'https://fastly.4sqi.net/img/general/', 'suffix': '/b-9PHgmYnlVnPmnO1RXwzdtPcvDgAJwiOvcSV9Ot9x8.jpg', 'width': 612, 'height': 612, 'user': {'id': '8682255', 'firstName': 'Karlsson', 'lastName': 'B', 'photo': {'prefix': 'https://fastly.4sqi.net/img/user/', 'suffix': '/2K4JB2RFIXWOHBAP.jpg'}}, 'visibility': 'public'}]}]                                                                                                                                                            \n",
       "1   [{'type': 'venue', 'name': 'Venue photos', 'count': 0, 'items': [{'id': '530f6a06498e5bce02cf6ebb', 'createdAt': 1393519110, 'prefix': 'https://fastly.4sqi.net/img/general/', 'suffix': '/18681256_ns85glUUltD4qyldugYZ7IJZlZoQ5YRCInfyR-Blh64.jpg', 'width': 960, 'height': 720, 'user': {'id': '18681256', 'firstName': 'Michael', 'lastName': 'D', 'photo': {'prefix': 'https://fastly.4sqi.net/img/user/', 'suffix': '/18681256-SYTMTHVRHHFSGV1R.jpg'}}, 'visibility': 'public'}, {'id': '5df28402b2d4a500084ebf53', 'createdAt': 1576174594, 'prefix': 'https://fastly.4sqi.net/img/general/', 'suffix': '/7414576_tqZOyA0F-W1F7o5tr4igpgB1HEkaCFddlvqUv_i0kpc.jpg', 'width': 1440, 'height': 1920, 'user': {'id': '7414576', 'firstName': 'Jimmy', 'lastName': 'D', 'photo': {'prefix': 'https://fastly.4sqi.net/img/user/', 'suffix': '/7414576_a2nbCBV4_AXyAIUyswAk71onZcweGGhxY84iepPILIBNP-FrqlWmyWuqLPz2G5zNosFFkHt2U.jpg'}}, 'visibility': 'public'}, {'id': '5a946c7c3731ee5cc39ebdd2', 'createdAt': 1519676540, 'prefix': 'https://fastly.4sqi.net/img/general/', 'suffix': '/24725984_ucZwpZOGtz6TBsfXTMy69xqHkiHEM_Nh4XhU9ChSdGs.jpg', 'width': 1440, 'height': 1920, 'user': {'id': '24725984', 'firstName': 'Elizabeth', 'lastName': 'F', 'photo': {'prefix': 'https://fastly.4sqi.net/img/user/', 'suffix': '/24725984-43FHJO14ZLXAKFCN.jpg'}}, 'visibility': 'public'}]}]                                            \n",
       "2   [{'type': 'venue', 'name': 'Venue photos', 'count': 0, 'items': [{'id': '5e6d636ac25a5f0008f9e34b', 'createdAt': 1584227178, 'prefix': 'https://fastly.4sqi.net/img/general/', 'suffix': '/3312774_nK0xwTr0jQvcUcp_eJN3vlx9VibREGSG_yktycYl_7M.jpg', 'width': 1440, 'height': 1920, 'user': {'id': '3312774', 'firstName': 'Ehs', 'photo': {'prefix': 'https://fastly.4sqi.net/img/user/', 'suffix': '/SHS1MCVHQ2DJATNJ.jpg'}}, 'visibility': 'public'}, {'id': '5e6d6369f13e8100089d7234', 'createdAt': 1584227177, 'prefix': 'https://fastly.4sqi.net/img/general/', 'suffix': '/3312774_B-dg-TcxFPAvbIbw_IWHE1B_7_mDKYG1R_XsfbReJyg.jpg', 'width': 1440, 'height': 1920, 'user': {'id': '3312774', 'firstName': 'Ehs', 'photo': {'prefix': 'https://fastly.4sqi.net/img/user/', 'suffix': '/SHS1MCVHQ2DJATNJ.jpg'}}, 'visibility': 'public'}, {'id': '5e37956f927f370008ca5939', 'createdAt': 1580701039, 'prefix': 'https://fastly.4sqi.net/img/general/', 'suffix': '/42776575_xC5g96cxXhbWJKd9OTu1vhgJ9IXNPuDrVtksGzxN8Hc.jpg', 'width': 1440, 'height': 1920, 'user': {'id': '42776575', 'firstName': 'Tiny', 'photo': {'prefix': 'https://fastly.4sqi.net/img/user/', 'suffix': '/42776575-3XIWTIPIHDVXHCED.jpg'}}, 'visibility': 'public'}]}]                                                                                                                                                                                    \n",
       "3   [{'type': 'venue', 'name': 'Venue photos', 'count': 0, 'items': [{'id': '5217f5d911d2aa1b1b5eef40', 'createdAt': 1377301977, 'prefix': 'https://fastly.4sqi.net/img/general/', 'suffix': '/3671184_lniwDow-pgwR4RXFGQkIAHPGWzrtnq0PyZ7wL1pztEE.jpg', 'width': 720, 'height': 960, 'user': {'id': '3671184', 'firstName': 'Mark', 'lastName': 'S', 'photo': {'prefix': 'https://fastly.4sqi.net/img/user/', 'suffix': '/3671184-S21JAKMO4GIGKGSS.jpg'}}, 'visibility': 'public'}, {'id': '5207b41f11d22e8e07043537', 'createdAt': 1376236575, 'prefix': 'https://fastly.4sqi.net/img/general/', 'suffix': '/67682_UJh5bS3JVq1DP3OMOLX9eTSfZCizgsZgqwW1HneNak0.jpg', 'width': 720, 'height': 960, 'user': {'id': '67682', 'firstName': 'Tony', 'lastName': 'Z', 'photo': {'prefix': 'https://fastly.4sqi.net/img/user/', 'suffix': '/4D0T4U3ZO2YIC4M3.jpg'}}, 'visibility': 'public'}, {'id': '50f3434fe4b052055893c065', 'createdAt': 1358119759, 'prefix': 'https://fastly.4sqi.net/img/general/', 'suffix': '/44549901_tu7N46fwbnaRF-6TbZWSkfj_BaLO8n8WZ1bMSZMnSDg.jpg', 'width': 720, 'height': 960, 'user': {'id': '44549901', 'firstName': 'Irving', 'lastName': 'C', 'photo': {'prefix': 'https://fastly.4sqi.net/img/user/', 'suffix': '/NY5VCPMLWZ0GGE5H.jpg'}}, 'visibility': 'public'}]}]                                                                                                                                        \n",
       "4   [{'type': 'venue', 'name': 'Venue photos', 'count': 0, 'items': [{'id': '5e1692cc342fd40008b5a2b7', 'createdAt': 1578537676, 'prefix': 'https://fastly.4sqi.net/img/general/', 'suffix': '/1213904_LFsKs4wx3M2ZU0rFiLeKks-8u_SQytFeq_UERJxC2cI.jpg', 'width': 1440, 'height': 1920, 'user': {'id': '1213904', 'firstName': 'Melanie', 'lastName': 'L', 'photo': {'prefix': 'https://fastly.4sqi.net/img/user/', 'suffix': '/CQY1TFDXVJ3TJMVD.jpg'}}, 'visibility': 'public'}, {'id': '5b2042d93362730039dc12c4', 'createdAt': 1528840921, 'prefix': 'https://fastly.4sqi.net/img/general/', 'suffix': '/10707_ofQ_2Ht0AhII6P6dGWeJh20NiTh9gMIZybYgCN-5MCQ.jpg', 'width': 1425, 'height': 1900, 'user': {'id': '10707', 'firstName': 'jbrotherlove', 'photo': {'prefix': 'https://fastly.4sqi.net/img/user/', 'suffix': '/TEO154RTNPM2SRIA.jpg'}}, 'visibility': 'public'}, {'id': '5b2042d84f0e58002cebd543', 'createdAt': 1528840920, 'prefix': 'https://fastly.4sqi.net/img/general/', 'suffix': '/10707_QasZNR4Zm8S3S6Tce5hqtb4LdzlFI9-9iEdtluJHpUc.jpg', 'width': 1424, 'height': 1900, 'user': {'id': '10707', 'firstName': 'jbrotherlove', 'photo': {'prefix': 'https://fastly.4sqi.net/img/user/', 'suffix': '/TEO154RTNPM2SRIA.jpg'}}, 'visibility': 'public'}]}]                                                                                                                                                                 \n",
       "5   [{'type': 'venue', 'name': 'Venue photos', 'count': 0, 'items': [{'id': '4fa57ddee4b0c1088e600259', 'createdAt': 1336245726, 'prefix': 'https://fastly.4sqi.net/img/general/', 'suffix': '/OZxfzZQXiuihRhthACWIap0mnunBcLEu_y4BzgEc0Ks.jpg', 'width': 612, 'height': 612, 'user': {'id': '565726', 'firstName': 'Bergdorf Goodman', 'photo': {'prefix': 'https://fastly.4sqi.net/img/user/', 'suffix': '/AYW3LNRF3S2FV4N1.jpg'}}, 'visibility': 'public'}, {'id': '4f11d4e9e4b07e9ecad8d5b3', 'createdAt': 1326568681, 'prefix': 'https://fastly.4sqi.net/img/general/', 'suffix': '/FIPNASV2ICYJNOT2X2NOV0ZQRPOOGGDOQ4UXXCHL4RFRMY0Q.jpg', 'width': 720, 'height': 537, 'user': {'id': '693267', 'firstName': 'Ian', 'lastName': 'B', 'photo': {'prefix': 'https://fastly.4sqi.net/img/user/', 'suffix': '/JGYJCHSLLEO31JET.jpg'}}, 'visibility': 'public'}, {'id': '4f74a32ee4b0e33c0deaaded', 'createdAt': 1333044014, 'prefix': 'https://fastly.4sqi.net/img/general/', 'suffix': '/UvQ4O4kT_oNYvlfX0cXWGqwI6kTbzxjZHMbMw6FZg6A.jpg', 'width': 612, 'height': 612, 'user': {'id': '120077', 'firstName': 'Ron', 'lastName': 'V', 'photo': {'prefix': 'https://fastly.4sqi.net/img/user/', 'suffix': '/120077_1259011080955.jpg'}}, 'visibility': 'public'}]}]                                                                                                                                                                         \n",
       "6   [{'type': 'venue', 'name': 'Venue photos', 'count': 0, 'items': [{'id': '525c69e8498eb6996222670d', 'createdAt': 1381788136, 'prefix': 'https://fastly.4sqi.net/img/general/', 'suffix': '/12264161_v_6FA9NtXo979paWABlKcTAJEJF1Q_WB1lyNdTLIPXo.jpg', 'width': 720, 'height': 960, 'user': {'id': '12264161', 'firstName': 'Lea', 'lastName': 'G', 'photo': {'prefix': 'https://fastly.4sqi.net/img/user/', 'suffix': '/YQNTGFEKGZ2GK234.jpg'}}, 'visibility': 'public'}, {'id': '5272a29911d2e14986b4d3d2', 'createdAt': 1383244441, 'prefix': 'https://fastly.4sqi.net/img/general/', 'suffix': '/17355668_wfkI1Or2sTw_CeK8swI3SjW2uP27jYZa2EmhhVFstOM.jpg', 'width': 720, 'height': 960, 'user': {'id': '17355668', 'firstName': 'Jessica', 'lastName': 'M', 'photo': {'prefix': 'https://fastly.4sqi.net/img/user/', 'suffix': '/17355668-XEVKML35OBVP0EBW.jpg'}}, 'visibility': 'public'}, {'id': '51db5e88498e5fd2abcf15c2', 'createdAt': 1373331080, 'prefix': 'https://fastly.4sqi.net/img/general/', 'suffix': '/2352353_Z_9CRSeFEhsMWiN_o04Vn8bdGWNJemBaFT6eomdxbtI.jpg', 'width': 960, 'height': 720, 'user': {'id': '2352353', 'firstName': 'Cari', 'lastName': 'R', 'photo': {'prefix': 'https://fastly.4sqi.net/img/user/', 'suffix': '/2352353-DPNMMP4EYTEHEOGJ.jpg'}}, 'visibility': 'public'}]}]                                                                                                                         \n",
       "7   [{'type': 'venue', 'name': 'Venue photos', 'count': 0, 'items': [{'id': '501dc71fe4b0db1da647b859', 'createdAt': 1344128799, 'prefix': 'https://fastly.4sqi.net/img/general/', 'suffix': '/mQmdx0ZsH2pblVjjLz89z9jfhHHfTctkDSRvNXp5XmE.jpg', 'width': 612, 'height': 612, 'user': {'id': '11151262', 'firstName': 'Olga', 'lastName': 'M', 'photo': {'prefix': 'https://fastly.4sqi.net/img/user/', 'suffix': '/MM5W5R1RCJVOUEDB.jpg'}}, 'visibility': 'public'}, {'id': '512be81fe4b0ac0de8cb7249', 'createdAt': 1361831967, 'prefix': 'https://fastly.4sqi.net/img/general/', 'suffix': '/29688_9vM-bZrBE3HeLX0sD6moNZrY-PVKWoUMxT1bFPBY02g.jpg', 'width': 612, 'height': 612, 'user': {'id': '29688', 'firstName': 'Jess', 'lastName': 'M', 'photo': {'prefix': 'https://fastly.4sqi.net/img/user/', 'suffix': '/29688_1255649160441.jpg'}}, 'visibility': 'public'}, {'id': '522ccf8411d277f9f57bca59', 'createdAt': 1378668420, 'prefix': 'https://fastly.4sqi.net/img/general/', 'suffix': '/6287375_SDlyayLmobAdn46cyuY3zAUQP-KBOykjwLCvVyhUmhg.jpg', 'width': 612, 'height': 612, 'user': {'id': '6287375', 'firstName': 'Ana', 'lastName': 'P', 'photo': {'prefix': 'https://fastly.4sqi.net/img/user/', 'suffix': '/RJVE4EOZ3LLR0HTA.jpg'}}, 'visibility': 'public'}]}]                                                                                                                                                         \n",
       "8   [{'type': 'venue', 'name': 'Venue photos', 'count': 0, 'items': [{'id': '56f848d4498e8cf107ff90ac', 'createdAt': 1459112148, 'prefix': 'https://fastly.4sqi.net/img/general/', 'suffix': '/10024248_qdb0PNXFbZp-JBFNI_Yoe_XZh4mmJ2XevsqnbBBMB-g.jpg', 'width': 1080, 'height': 1080, 'user': {'id': '10024248', 'firstName': 'Justin', 'lastName': 'L', 'photo': {'prefix': 'https://fastly.4sqi.net/img/user/', 'suffix': '/BNQWCLD2WKAN1KS4.jpg'}}, 'visibility': 'public'}, {'id': '56db2ec7498ed710060a0814', 'createdAt': 1457204935, 'prefix': 'https://fastly.4sqi.net/img/general/', 'suffix': '/75345356_lTGWl0IR9KUGVLhtoKnfLHgBlTCCxfzGlgGbYnBe9pU.jpg', 'width': 1440, 'height': 1920, 'user': {'id': '75345356', 'firstName': 'Emily', 'lastName': 'L', 'photo': {'prefix': 'https://fastly.4sqi.net/img/user/', 'suffix': '/75345356-INUUT1OTHV2OMNDW.jpg'}}, 'visibility': 'public'}, {'id': '570255a8498e7cf77b5c0576', 'createdAt': 1459770792, 'prefix': 'https://fastly.4sqi.net/img/general/', 'suffix': '/79162021_qHnKyJqO8i5yRahkHOsS7cRVkQZ0cZwcZG-XG8oBof4.jpg', 'width': 1920, 'height': 1440, 'user': {'id': '79162021', 'firstName': 'Winston', 'lastName': 'L', 'photo': {'prefix': 'https://fastly.4sqi.net/img/user/', 'suffix': '/79162021-VOB0EBFQZKLC5E5N.jpg'}}, 'visibility': 'public'}]}]                                                                                                            \n",
       "9   [{'type': 'venue', 'name': 'Venue photos', 'count': 0, 'items': [{'id': '4fe78732e4b0227204a7e4da', 'createdAt': 1340573490, 'prefix': 'https://fastly.4sqi.net/img/general/', 'suffix': '/FnwX5CmD0NHmhp5enSZRhqhfWXDUcAJoNLsQQGVPIpw.jpg', 'width': 612, 'height': 612, 'user': {'id': '10944650', 'firstName': 'Britt', 'lastName': 'H', 'photo': {'prefix': 'https://fastly.4sqi.net/img/user/', 'suffix': '/10944650-30BCSZQENJ4FBSUG.jpg'}}, 'visibility': 'public'}, {'id': '513cd52fe4b012e8149cd002', 'createdAt': 1362941231, 'prefix': 'https://fastly.4sqi.net/img/general/', 'suffix': '/10869681_YqwXqRlrnwyIk6rSeh1dH4ErVXyN2XPdRBj4IX2f0Pw.jpg', 'width': 720, 'height': 720, 'user': {'id': '10869681', 'firstName': 'Dat Nikka', 'lastName': 'P', 'photo': {'prefix': 'https://fastly.4sqi.net/img/user/', 'suffix': '/2XQG42WEB0RTR1HR.jpg'}}, 'visibility': 'public'}, {'id': '5159cec8e4b02850732e9727', 'createdAt': 1364840136, 'prefix': 'https://fastly.4sqi.net/img/general/', 'suffix': '/2165934_i95TLrmFdgyTzjJwEdRgACgeiolqFVoHv_WZJYcEX14.jpg', 'width': 720, 'height': 960, 'user': {'id': '2165934', 'firstName': 'Ashley', 'lastName': 'D', 'photo': {'prefix': 'https://fastly.4sqi.net/img/user/', 'suffix': '/20M1NFY5ZXDRBUGP.jpg'}}, 'visibility': 'public'}]}]                                                                                                                                    \n",
       "10  [{'type': 'venue', 'name': 'Venue photos', 'count': 0, 'items': [{'id': '50e4698be4b01e1707a251e1', 'createdAt': 1357146507, 'prefix': 'https://fastly.4sqi.net/img/general/', 'suffix': '/5054790_yumS7l9NdgjduuPzFa-ANYk5inL5008ho2xrqKPkhAw.jpg', 'width': 612, 'height': 612, 'user': {'id': '5054790', 'firstName': 'Yuta', 'lastName': 'T', 'photo': {'prefix': 'https://fastly.4sqi.net/img/user/', 'suffix': '/BQJFEHRNT4XPUPSE.jpg'}}, 'visibility': 'public'}, {'id': '521ce4c611d25728b458725e', 'createdAt': 1377625286, 'prefix': 'https://fastly.4sqi.net/img/general/', 'suffix': '/11845309_76f2wnKJk6rhc6Iq5ptuOcMeXzRUoZa2THc9C8KATCs.jpg', 'width': 612, 'height': 612, 'user': {'id': '11845309', 'firstName': 'Phil', 'lastName': 'N', 'photo': {'prefix': 'https://fastly.4sqi.net/img/user/', 'suffix': '/11845309-CQDF2JJ4SOUY4VLF.jpg'}}, 'visibility': 'public'}, {'id': '51f474b2498ea56faa5d1fca', 'createdAt': 1374975154, 'prefix': 'https://fastly.4sqi.net/img/general/', 'suffix': '/18335360_1FwTGzeBJPAqtplNUeyDjsXjuX2upN-pEypyHogXF5Q.jpg', 'width': 612, 'height': 612, 'user': {'id': '18335360', 'firstName': 'Teddy', 'photo': {'prefix': 'https://fastly.4sqi.net/img/user/', 'suffix': '/AIBJZU5P5M1WWP4R.jpg'}}, 'visibility': 'public'}]}]                                                                                                                                                   \n",
       "11  [{'type': 'venue', 'name': 'Venue photos', 'count': 0, 'items': [{'id': '51c2ea1c498e2bd7fc1cc139', 'createdAt': 1371728412, 'prefix': 'https://fastly.4sqi.net/img/general/', 'suffix': '/6022996_rqxdqsTjMvQnuPlnmO5wyXDiCSDEb_rs66KkqI_zUaY.jpg', 'width': 612, 'height': 612, 'user': {'id': '6022996', 'firstName': 'Kerry', 'lastName': 'C', 'photo': {'prefix': 'https://fastly.4sqi.net/img/user/', 'suffix': '/6022996-BAZTF4XGRA5HQ0NF'}}, 'visibility': 'public'}, {'id': '4fae76b6e4b03b8054f721f5', 'createdAt': 1336833718, 'prefix': 'https://fastly.4sqi.net/img/general/', 'suffix': '/VO0FY2Qfwn8-So0Vp6SXqhmQPOi9-JgikPkhmhn-DoY.jpg', 'width': 612, 'height': 612, 'user': {'id': '5748524', 'firstName': 'Esten', 'lastName': 'H', 'photo': {'prefix': 'https://fastly.4sqi.net/img/user/', 'suffix': '/X43IKJU2GLHFQPYA.jpg'}}, 'visibility': 'public'}, {'id': '4f845571e4b013f8f522e843', 'createdAt': 1334072689, 'prefix': 'https://fastly.4sqi.net/img/general/', 'suffix': '/DWKrlODDsEP7m91U3YGhCcsiJW-delJrZ36whvdczKQ.jpg', 'width': 720, 'height': 538, 'user': {'id': '23138842', 'firstName': 'Michelle', 'lastName': 'K', 'photo': {'prefix': 'https://fastly.4sqi.net/img/user/', 'suffix': '/D3UYL3UZW4FX3HPJ.jpg'}}, 'visibility': 'public'}]}]                                                                                                                                                     \n",
       "12  [{'type': 'venue', 'name': 'Venue photos', 'count': 0, 'items': [{'id': '4e0bdc52a12d7fd3197703ae', 'createdAt': 1309400146, 'prefix': 'https://fastly.4sqi.net/img/general/', 'suffix': '/SMISE5ZB4LTP4G0OH2NYWRNYF5GQ34CV0FUAPD1SHG2BA3CH.jpg', 'width': 537, 'height': 720, 'user': {'id': '238317', 'firstName': 'greenie', 'lastName': 'm', 'photo': {'prefix': 'https://fastly.4sqi.net/img/user/', 'suffix': '/HZRJBUMBM5DYGO22.jpg'}}, 'visibility': 'public'}, {'id': '51c64b85498e16a8bd0fb80e', 'createdAt': 1371949957, 'prefix': 'https://fastly.4sqi.net/img/general/', 'suffix': '/2439138_rV0LCoPwHMmSUiCFtQx5SjYFFmP7ugguGtsIbQu3YGc.jpg', 'width': 717, 'height': 959, 'user': {'id': '2439138', 'firstName': 'Mon', 'lastName': 'F', 'photo': {'prefix': 'https://fastly.4sqi.net/img/user/', 'suffix': '/KJMPOHUHGZTPSLKB.jpg'}}, 'visibility': 'public'}, {'id': '51e57474498eb4224d73cd07', 'createdAt': 1373992052, 'prefix': 'https://fastly.4sqi.net/img/general/', 'suffix': '/46803298_ia3ctuL6xcxunRptB-MHEWCyiGgybZtgigkOrqb_qyU.jpg', 'width': 960, 'height': 540, 'user': {'id': '46803298', 'firstName': 'Violet', 'lastName': 'C', 'photo': {'prefix': 'https://fastly.4sqi.net/img/user/', 'suffix': '/46803298_wESEFT5O_hNIZXMs-OxMRggg-BfMIUaaRu34VBrRvb8j6EBg01HkzjcERc2IHbhJFXmQ7FRxq.jpg'}}, 'visibility': 'public'}]}]                                                                            \n",
       "13  [{'type': 'venue', 'name': 'Venue photos', 'count': 0, 'items': [{'id': '5e52a84d351081000862582e', 'createdAt': 1582475341, 'prefix': 'https://fastly.4sqi.net/img/general/', 'suffix': '/69565_BfzHazcbDFZUNEK6ItHAs4q2pm7Kc-Yagf2b73raZhs.jpg', 'width': 1080, 'height': 1440, 'user': {'id': '69565', 'firstName': 'Grace', 'lastName': 'S', 'photo': {'prefix': 'https://fastly.4sqi.net/img/user/', 'suffix': '/POCYZE4WOP43HHJP.jpg'}}, 'visibility': 'public'}, {'id': '5e20baefc0a0b200081f6151', 'createdAt': 1579203311, 'prefix': 'https://fastly.4sqi.net/img/general/', 'suffix': '/33532119_V1eh5nfmusBNJCG8fja-SE3W1UhGpAN_JaycTvQcN4A.jpg', 'width': 1440, 'height': 1920, 'user': {'id': '33532119', 'firstName': 'Amira', 'lastName': 'K', 'photo': {'prefix': 'https://fastly.4sqi.net/img/user/', 'suffix': '/33532119_6SQJW45e_QTBb8D9fzzrJFyihh1KkWwUi-33IFjApfuIDY63lsU-sv_zLR8XKu6p8D91dIJOP.jpg'}}, 'visibility': 'public'}, {'id': '5e16399c8f89f4000883ea77', 'createdAt': 1578514844, 'prefix': 'https://fastly.4sqi.net/img/general/', 'suffix': '/33532119_Bl1QPND0Bmj3vvmhNeiGTck6Vx8zdrm8_gO7c5RPmqA.jpg', 'width': 1440, 'height': 1920, 'user': {'id': '33532119', 'firstName': 'Amira', 'lastName': 'K', 'photo': {'prefix': 'https://fastly.4sqi.net/img/user/', 'suffix': '/33532119_6SQJW45e_QTBb8D9fzzrJFyihh1KkWwUi-33IFjApfuIDY63lsU-sv_zLR8XKu6p8D91dIJOP.jpg'}}, 'visibility': 'public'}]}]   \n",
       "14  [{'type': 'venue', 'name': 'Venue photos', 'count': 0, 'items': [{'id': '515dd8dee4b0494dbb4fab4c', 'createdAt': 1365104862, 'prefix': 'https://fastly.4sqi.net/img/general/', 'suffix': '/14240789_NGOcixxd9VKU0mqJKxYN2UOitqhT9EkvH0Bw640eobs.jpg', 'width': 717, 'height': 959, 'user': {'id': '14240789', 'firstName': 'Christine', 'lastName': 'P', 'photo': {'prefix': 'https://fastly.4sqi.net/img/user/', 'suffix': '/3K3UOSTX30XMAO1V.jpg'}}, 'visibility': 'public'}, {'id': '50eba354e4b0ef749b91fe64', 'createdAt': 1357620052, 'prefix': 'https://fastly.4sqi.net/img/general/', 'suffix': '/2552_E92NI9sP-evEuyGOi5pu4RUI2s5uyWthRqkdpa55VoQ.jpg', 'width': 434, 'height': 720, 'user': {'id': '2552', 'firstName': 'Bill', 'lastName': 'C', 'photo': {'prefix': 'https://fastly.4sqi.net/img/user/', 'suffix': '/SUHKMEYXD5SK4FAS.jpg'}}, 'visibility': 'public'}, {'id': '5234cfe7498edcc619955995', 'createdAt': 1379192807, 'prefix': 'https://fastly.4sqi.net/img/general/', 'suffix': '/180687_1Luw7J1XOsHwl25iBxufQl3WoXQMFJdrmrnnIGEGihs.jpg', 'width': 612, 'height': 612, 'user': {'id': '180687', 'firstName': 'Sterling', 'lastName': 'R', 'photo': {'prefix': 'https://fastly.4sqi.net/img/user/', 'suffix': '/180687-R2YMSWWSOFQM4ZGH'}}, 'visibility': 'public'}]}]                                                                                                                                          \n",
       "\n",
       "   venue.delivery.id  \\\n",
       "0   NaN                \n",
       "1   NaN                \n",
       "2   297865             \n",
       "3   312894             \n",
       "4   340689             \n",
       "5   22041              \n",
       "6   1739562            \n",
       "7   NaN                \n",
       "8   NaN                \n",
       "9   1739255            \n",
       "10  698289             \n",
       "11  NaN                \n",
       "12  NaN                \n",
       "13  NaN                \n",
       "14  NaN                \n",
       "\n",
       "                                                                                                                                                                                          venue.delivery.url  \\\n",
       "0   NaN                                                                                                                                                                                                        \n",
       "1   NaN                                                                                                                                                                                                        \n",
       "2   https://www.seamless.com/menu/insomnia-cookies-304-w-14th-st-new-york/297865?affiliate=1131&utm_source=foursquare-affiliate-network&utm_medium=affiliate&utm_campaign=1131&utm_content=297865              \n",
       "3   https://www.seamless.com/menu/juice-press-122-greenwich-ave-new-york/312894?affiliate=1131&utm_source=foursquare-affiliate-network&utm_medium=affiliate&utm_campaign=1131&utm_content=312894               \n",
       "4   https://www.seamless.com/menu/the-warren-131-christopher-st-new-york/340689?affiliate=1131&utm_source=foursquare-affiliate-network&utm_medium=affiliate&utm_campaign=1131&utm_content=340689               \n",
       "5   https://www.seamless.com/menu/cowgirl-519-hudson-st-new-york/22041?affiliate=1131&utm_source=foursquare-affiliate-network&utm_medium=affiliate&utm_campaign=1131&utm_content=22041                         \n",
       "6   https://www.seamless.com/menu/juice-generation-broadway-2345-broadway-new-york/1739562?affiliate=1131&utm_source=foursquare-affiliate-network&utm_medium=affiliate&utm_campaign=1131&utm_content=1739562   \n",
       "7   NaN                                                                                                                                                                                                        \n",
       "8   NaN                                                                                                                                                                                                        \n",
       "9   https://www.seamless.com/menu/juice-generation-3rd-ave-1486-3rd-ave-new-york/1739255?affiliate=1131&utm_source=foursquare-affiliate-network&utm_medium=affiliate&utm_campaign=1131&utm_content=1739255     \n",
       "10  https://www.seamless.com/menu/shake-shack-154-e-86th-st-new-york/698289?affiliate=1131&utm_source=foursquare-affiliate-network&utm_medium=affiliate&utm_campaign=1131&utm_content=698289                   \n",
       "11  NaN                                                                                                                                                                                                        \n",
       "12  NaN                                                                                                                                                                                                        \n",
       "13  NaN                                                                                                                                                                                                        \n",
       "14  NaN                                                                                                                                                                                                        \n",
       "\n",
       "   venue.delivery.provider.name       venue.delivery.provider.icon.prefix  \\\n",
       "0   NaN                          NaN                                        \n",
       "1   NaN                          NaN                                        \n",
       "2   seamless                     https://fastly.4sqi.net/img/general/cap/   \n",
       "3   seamless                     https://fastly.4sqi.net/img/general/cap/   \n",
       "4   seamless                     https://fastly.4sqi.net/img/general/cap/   \n",
       "5   seamless                     https://fastly.4sqi.net/img/general/cap/   \n",
       "6   seamless                     https://fastly.4sqi.net/img/general/cap/   \n",
       "7   NaN                          NaN                                        \n",
       "8   NaN                          NaN                                        \n",
       "9   seamless                     https://fastly.4sqi.net/img/general/cap/   \n",
       "10  seamless                     https://fastly.4sqi.net/img/general/cap/   \n",
       "11  NaN                          NaN                                        \n",
       "12  NaN                          NaN                                        \n",
       "13  NaN                          NaN                                        \n",
       "14  NaN                          NaN                                        \n",
       "\n",
       "    venue.delivery.provider.icon.sizes  \\\n",
       "0   NaN                                  \n",
       "1   NaN                                  \n",
       "2   [40, 50]                             \n",
       "3   [40, 50]                             \n",
       "4   [40, 50]                             \n",
       "5   [40, 50]                             \n",
       "6   [40, 50]                             \n",
       "7   NaN                                  \n",
       "8   NaN                                  \n",
       "9   [40, 50]                             \n",
       "10  [40, 50]                             \n",
       "11  NaN                                  \n",
       "12  NaN                                  \n",
       "13  NaN                                  \n",
       "14  NaN                                  \n",
       "\n",
       "           venue.delivery.provider.icon.name venue.venuePage.id  \\\n",
       "0   NaN                                       NaN                 \n",
       "1   NaN                                       NaN                 \n",
       "2   /delivery_provider_seamless_20180129.png  NaN                 \n",
       "3   /delivery_provider_seamless_20180129.png  NaN                 \n",
       "4   /delivery_provider_seamless_20180129.png  NaN                 \n",
       "5   /delivery_provider_seamless_20180129.png  51938614            \n",
       "6   /delivery_provider_seamless_20180129.png  NaN                 \n",
       "7   NaN                                       NaN                 \n",
       "8   NaN                                       NaN                 \n",
       "9   /delivery_provider_seamless_20180129.png  NaN                 \n",
       "10  /delivery_provider_seamless_20180129.png  NaN                 \n",
       "11  NaN                                       NaN                 \n",
       "12  NaN                                       55146944            \n",
       "13  NaN                                       NaN                 \n",
       "14  NaN                                       64251458            \n",
       "\n",
       "   venue.location.neighborhood  \n",
       "0   NaN                         \n",
       "1   NaN                         \n",
       "2   NaN                         \n",
       "3   NaN                         \n",
       "4   NaN                         \n",
       "5   NaN                         \n",
       "6   Upper West Side             \n",
       "7   NaN                         \n",
       "8   NaN                         \n",
       "9   NaN                         \n",
       "10  NaN                         \n",
       "11  NaN                         \n",
       "12  NaN                         \n",
       "13  NaN                         \n",
       "14  Kips Bay                    \n",
       "\n",
       "[15 rows x 36 columns]"
      ]
     },
     "execution_count": 77,
     "metadata": {},
     "output_type": "execute_result"
    }
   ],
   "source": [
    "#pd.set_option('display.max_colwidth', -1)\n",
    "\n",
    "tips_df = pd.json_normalize(tips) # json normalize tips\n",
    "\n",
    "# columns to keep\n",
    "#filtered_columns = ['text', 'agreeCount', 'disagreeCount', 'id', 'user.firstName', 'user.lastName', 'user.gender', 'user.id']\n",
    "#tips_filtered = tips_df.loc[:, filtered_columns]\n",
    "\n",
    "# display tips\n",
    "tips_df=pd.DataFrame({'text':[tips_df['text']],'agreeCount':[tips_df['agreeCount']]})\n",
    "#tips_df\n",
    "tips_df1=pd.DataFrame.from_dict(pd.json_normalize(tips), orient='columns')\n",
    "tips_df1"
   ]
  },
  {
   "cell_type": "code",
   "execution_count": null,
   "metadata": {},
   "outputs": [],
   "source": []
  },
  {
   "cell_type": "markdown",
   "metadata": {
    "button": false,
    "new_sheet": false,
    "run_control": {
     "read_only": false
    }
   },
   "source": [
    "Now remember that because we are using a personal developer account, then we can access only 2 of the restaurant's tips, instead of all 15 tips."
   ]
  },
  {
   "cell_type": "markdown",
   "metadata": {
    "button": false,
    "new_sheet": false,
    "run_control": {
     "read_only": false
    }
   },
   "source": [
    "   "
   ]
  },
  {
   "cell_type": "markdown",
   "metadata": {
    "button": false,
    "new_sheet": false,
    "run_control": {
     "read_only": false
    }
   },
   "source": [
    "<a id=\"item3\"></a>"
   ]
  },
  {
   "cell_type": "markdown",
   "metadata": {
    "button": false,
    "new_sheet": false,
    "run_control": {
     "read_only": false
    }
   },
   "source": [
    "## 3. Search a Foursquare User\n",
    "> `https://api.foursquare.com/v2/users/`**USER_ID**`?client_id=`**CLIENT_ID**`&client_secret=`**CLIENT_SECRET**`&v=`**VERSION**"
   ]
  },
  {
   "cell_type": "markdown",
   "metadata": {
    "button": false,
    "new_sheet": false,
    "run_control": {
     "read_only": false
    }
   },
   "source": [
    "### Define URL, send GET request and display features associated with user"
   ]
  },
  {
   "cell_type": "code",
   "execution_count": 28,
   "metadata": {
    "button": false,
    "new_sheet": false,
    "run_control": {
     "read_only": false
    }
   },
   "outputs": [
    {
     "data": {
      "text/plain": [
       "dict_keys(['id', 'firstName', 'lastName', 'gender', 'canonicalUrl', 'photo', 'friends', 'tips', 'homeCity', 'bio', 'contact', 'photos', 'checkinPings', 'pings', 'type', 'mayorships', 'checkins', 'lists', 'blockedStatus', 'lenses'])"
      ]
     },
     "execution_count": 28,
     "metadata": {},
     "output_type": "execute_result"
    }
   ],
   "source": [
    "user_id = '484542633' # user ID with most agree counts and complete profile\n",
    "ACCESS_TOKEN = 'UXHP3RLZ45AXB1FDZS0LAP1002XNT43ZTQEIAZVFDUU0ZB3U'\n",
    "\n",
    "url = 'https://api.foursquare.com/v2/users/{}?client_id={}&client_secret={}&oauth_token={}&v={}'.format(user_id, CLIENT_ID, CLIENT_SECRET, ACCESS_TOKEN, VERSION) # define URL\n",
    "\n",
    "# send GET request\n",
    "results = requests.get(url).json()\n",
    "user_data = results['response']['user']\n",
    "\n",
    "# display features associated with user\n",
    "user_data.keys()"
   ]
  },
  {
   "cell_type": "code",
   "execution_count": null,
   "metadata": {},
   "outputs": [],
   "source": []
  },
  {
   "cell_type": "code",
   "execution_count": null,
   "metadata": {},
   "outputs": [],
   "source": []
  },
  {
   "cell_type": "code",
   "execution_count": null,
   "metadata": {},
   "outputs": [],
   "source": []
  },
  {
   "cell_type": "code",
   "execution_count": 29,
   "metadata": {
    "button": false,
    "new_sheet": false,
    "run_control": {
     "read_only": false
    }
   },
   "outputs": [
    {
     "name": "stdout",
     "output_type": "stream",
     "text": [
      "First Name: Nick\n",
      "Last Name: El-Tawil\n",
      "Home City: New York, NY\n"
     ]
    }
   ],
   "source": [
    "print('First Name: ' + user_data['firstName'])\n",
    "print('Last Name: ' + user_data['lastName'])\n",
    "print('Home City: ' + user_data['homeCity'])"
   ]
  },
  {
   "cell_type": "code",
   "execution_count": null,
   "metadata": {},
   "outputs": [],
   "source": []
  },
  {
   "cell_type": "markdown",
   "metadata": {
    "button": false,
    "new_sheet": false,
    "run_control": {
     "read_only": false
    }
   },
   "source": [
    "#### How many tips has this user submitted?"
   ]
  },
  {
   "cell_type": "code",
   "execution_count": 30,
   "metadata": {
    "button": false,
    "new_sheet": false,
    "run_control": {
     "read_only": false
    }
   },
   "outputs": [
    {
     "data": {
      "text/plain": [
       "{'count': 98}"
      ]
     },
     "execution_count": 30,
     "metadata": {},
     "output_type": "execute_result"
    }
   ],
   "source": [
    "user_data['tips']"
   ]
  },
  {
   "cell_type": "code",
   "execution_count": null,
   "metadata": {},
   "outputs": [],
   "source": []
  },
  {
   "cell_type": "markdown",
   "metadata": {
    "button": false,
    "new_sheet": false,
    "run_control": {
     "read_only": false
    }
   },
   "source": [
    "Wow! So it turns out that Nick is a very active Foursquare user, with more than 250 tips."
   ]
  },
  {
   "cell_type": "markdown",
   "metadata": {
    "button": false,
    "new_sheet": false,
    "run_control": {
     "read_only": false
    }
   },
   "source": [
    "### Get User's tips"
   ]
  },
  {
   "cell_type": "code",
   "execution_count": 31,
   "metadata": {
    "button": false,
    "new_sheet": false,
    "run_control": {
     "read_only": false
    },
    "scrolled": false
   },
   "outputs": [
    {
     "name": "stderr",
     "output_type": "stream",
     "text": [
      "/Users/andy/opt/anaconda3/lib/python3.7/site-packages/ipykernel_launcher.py:9: FutureWarning: Passing a negative integer is deprecated in version 1.0 and will not be supported in future version. Instead, use None to not limit the column width.\n",
      "  if __name__ == '__main__':\n",
      "/Users/andy/opt/anaconda3/lib/python3.7/site-packages/ipykernel_launcher.py:11: FutureWarning: pandas.io.json.json_normalize is deprecated, use pandas.json_normalize instead\n",
      "  # This is added back by InteractiveShellApp.init_path()\n"
     ]
    },
    {
     "data": {
      "text/html": [
       "<div>\n",
       "<style scoped>\n",
       "    .dataframe tbody tr th:only-of-type {\n",
       "        vertical-align: middle;\n",
       "    }\n",
       "\n",
       "    .dataframe tbody tr th {\n",
       "        vertical-align: top;\n",
       "    }\n",
       "\n",
       "    .dataframe thead th {\n",
       "        text-align: right;\n",
       "    }\n",
       "</style>\n",
       "<table border=\"1\" class=\"dataframe\">\n",
       "  <thead>\n",
       "    <tr style=\"text-align: right;\">\n",
       "      <th></th>\n",
       "      <th>text</th>\n",
       "      <th>agreeCount</th>\n",
       "      <th>disagreeCount</th>\n",
       "      <th>id</th>\n",
       "    </tr>\n",
       "  </thead>\n",
       "  <tbody>\n",
       "    <tr>\n",
       "      <th>0</th>\n",
       "      <td>They serve coffee!!!!!!</td>\n",
       "      <td>1</td>\n",
       "      <td>0</td>\n",
       "      <td>5accc98c0313204c9d7ec157</td>\n",
       "    </tr>\n",
       "    <tr>\n",
       "      <th>1</th>\n",
       "      <td>Quick, cheap lunch that tastes good! Way shorter line than Chipotle, too.</td>\n",
       "      <td>2</td>\n",
       "      <td>0</td>\n",
       "      <td>5acbec70a0215b732e264fe8</td>\n",
       "    </tr>\n",
       "    <tr>\n",
       "      <th>2</th>\n",
       "      <td>You’re not a real New Yorker until you’ve shame-ordered Insomnia Cookies for delivery at 3am</td>\n",
       "      <td>1</td>\n",
       "      <td>0</td>\n",
       "      <td>5acbbd4eb1538e45373b07f5</td>\n",
       "    </tr>\n",
       "    <tr>\n",
       "      <th>3</th>\n",
       "      <td>Good for you yet still tasty! Clean green protein is my go-to after I hit the gym 💪</td>\n",
       "      <td>2</td>\n",
       "      <td>0</td>\n",
       "      <td>5acbbcda01235808d5d6dc75</td>\n",
       "    </tr>\n",
       "    <tr>\n",
       "      <th>4</th>\n",
       "      <td>Burger game strong 💪</td>\n",
       "      <td>1</td>\n",
       "      <td>0</td>\n",
       "      <td>5ab575fb6bdee65f759da8c1</td>\n",
       "    </tr>\n",
       "    <tr>\n",
       "      <th>5</th>\n",
       "      <td>Great burgers &amp; fries! Also, this place is exactly what it’s like when you go to a bar in the Southwest. Source: I’m from Arizona.</td>\n",
       "      <td>2</td>\n",
       "      <td>0</td>\n",
       "      <td>5ab5575d73fe2516ad8f363b</td>\n",
       "    </tr>\n",
       "    <tr>\n",
       "      <th>6</th>\n",
       "      <td>Açaí bowl + peanut butter + whey protein = 💪💪💪</td>\n",
       "      <td>1</td>\n",
       "      <td>0</td>\n",
       "      <td>5ab42db53c858d64af2688a4</td>\n",
       "    </tr>\n",
       "    <tr>\n",
       "      <th>7</th>\n",
       "      <td>Highly underrated and way less crowded than Central Park!</td>\n",
       "      <td>3</td>\n",
       "      <td>0</td>\n",
       "      <td>5ab42c396f706a29f53ad1a8</td>\n",
       "    </tr>\n",
       "    <tr>\n",
       "      <th>8</th>\n",
       "      <td>Way easier to navigate than the Met proper, plus the Met Breuer focuses on modern art. If I only have a limited amount of time to spend in a museum, I would rather go here than anywhere else!</td>\n",
       "      <td>6</td>\n",
       "      <td>0</td>\n",
       "      <td>5ab42b987dc9e17930e5ff5b</td>\n",
       "    </tr>\n",
       "    <tr>\n",
       "      <th>9</th>\n",
       "      <td>Get the açaí bowl with peanut butter after your work out and thank me later 👌</td>\n",
       "      <td>1</td>\n",
       "      <td>0</td>\n",
       "      <td>5ab42aca2a7ab6333652b266</td>\n",
       "    </tr>\n",
       "    <tr>\n",
       "      <th>10</th>\n",
       "      <td>When you want a burger, this should be the first thing that comes to mind. A+!</td>\n",
       "      <td>1</td>\n",
       "      <td>0</td>\n",
       "      <td>5ab42a28da5e5617d18e3a6a</td>\n",
       "    </tr>\n",
       "    <tr>\n",
       "      <th>11</th>\n",
       "      <td>Way less crowded than Central Park! People who live in the neighborhood rave about Carl Schurz Park.</td>\n",
       "      <td>3</td>\n",
       "      <td>0</td>\n",
       "      <td>5ab429db1ffe971b060083f5</td>\n",
       "    </tr>\n",
       "    <tr>\n",
       "      <th>12</th>\n",
       "      <td>The best Mexican food in the Murray Hill / Kips Bay area!</td>\n",
       "      <td>1</td>\n",
       "      <td>0</td>\n",
       "      <td>5ab3f53f8496ca57542d5549</td>\n",
       "    </tr>\n",
       "    <tr>\n",
       "      <th>13</th>\n",
       "      <td>Best coffee shop in the neighborhood!</td>\n",
       "      <td>1</td>\n",
       "      <td>0</td>\n",
       "      <td>5ab3f428da5e5617d17d1475</td>\n",
       "    </tr>\n",
       "    <tr>\n",
       "      <th>14</th>\n",
       "      <td>When there’s nice weather, the rooftop at Tonic East is the best place to watch the game. Perfect for March Madness &amp; NBA finals!</td>\n",
       "      <td>2</td>\n",
       "      <td>0</td>\n",
       "      <td>5ab3f3fedd70c572de886c9d</td>\n",
       "    </tr>\n",
       "  </tbody>\n",
       "</table>\n",
       "</div>"
      ],
      "text/plain": [
       "                                                                                                                                                                                               text  \\\n",
       "0   They serve coffee!!!!!!                                                                                                                                                                           \n",
       "1   Quick, cheap lunch that tastes good! Way shorter line than Chipotle, too.                                                                                                                         \n",
       "2   You’re not a real New Yorker until you’ve shame-ordered Insomnia Cookies for delivery at 3am                                                                                                      \n",
       "3   Good for you yet still tasty! Clean green protein is my go-to after I hit the gym 💪                                                                                                               \n",
       "4   Burger game strong 💪                                                                                                                                                                              \n",
       "5   Great burgers & fries! Also, this place is exactly what it’s like when you go to a bar in the Southwest. Source: I’m from Arizona.                                                                \n",
       "6   Açaí bowl + peanut butter + whey protein = 💪💪💪                                                                                                                                                    \n",
       "7   Highly underrated and way less crowded than Central Park!                                                                                                                                         \n",
       "8   Way easier to navigate than the Met proper, plus the Met Breuer focuses on modern art. If I only have a limited amount of time to spend in a museum, I would rather go here than anywhere else!   \n",
       "9   Get the açaí bowl with peanut butter after your work out and thank me later 👌                                                                                                                     \n",
       "10  When you want a burger, this should be the first thing that comes to mind. A+!                                                                                                                    \n",
       "11  Way less crowded than Central Park! People who live in the neighborhood rave about Carl Schurz Park.                                                                                              \n",
       "12  The best Mexican food in the Murray Hill / Kips Bay area!                                                                                                                                         \n",
       "13  Best coffee shop in the neighborhood!                                                                                                                                                             \n",
       "14  When there’s nice weather, the rooftop at Tonic East is the best place to watch the game. Perfect for March Madness & NBA finals!                                                                 \n",
       "\n",
       "    agreeCount  disagreeCount                        id  \n",
       "0   1           0              5accc98c0313204c9d7ec157  \n",
       "1   2           0              5acbec70a0215b732e264fe8  \n",
       "2   1           0              5acbbd4eb1538e45373b07f5  \n",
       "3   2           0              5acbbcda01235808d5d6dc75  \n",
       "4   1           0              5ab575fb6bdee65f759da8c1  \n",
       "5   2           0              5ab5575d73fe2516ad8f363b  \n",
       "6   1           0              5ab42db53c858d64af2688a4  \n",
       "7   3           0              5ab42c396f706a29f53ad1a8  \n",
       "8   6           0              5ab42b987dc9e17930e5ff5b  \n",
       "9   1           0              5ab42aca2a7ab6333652b266  \n",
       "10  1           0              5ab42a28da5e5617d18e3a6a  \n",
       "11  3           0              5ab429db1ffe971b060083f5  \n",
       "12  1           0              5ab3f53f8496ca57542d5549  \n",
       "13  1           0              5ab3f428da5e5617d17d1475  \n",
       "14  2           0              5ab3f3fedd70c572de886c9d  "
      ]
     },
     "execution_count": 31,
     "metadata": {},
     "output_type": "execute_result"
    }
   ],
   "source": [
    "# define tips URL\n",
    "url = 'https://api.foursquare.com/v2/users/{}/tips?client_id={}&client_secret={}&v={}&limit={}'.format(user_id, CLIENT_ID, CLIENT_SECRET, VERSION, limit)\n",
    "\n",
    "# send GET request and get user's tips\n",
    "results = requests.get(url).json()\n",
    "tips = results['response']['tips']['items']\n",
    "\n",
    "# format column width\n",
    "pd.set_option('display.max_colwidth', -1)\n",
    "\n",
    "tips_df = json_normalize(tips)\n",
    "\n",
    "# filter columns\n",
    "filtered_columns = ['text', 'agreeCount', 'disagreeCount', 'id']\n",
    "tips_filtered = tips_df.loc[:, filtered_columns]\n",
    "\n",
    "# display user's tips\n",
    "tips_filtered"
   ]
  },
  {
   "cell_type": "code",
   "execution_count": null,
   "metadata": {},
   "outputs": [],
   "source": []
  },
  {
   "cell_type": "markdown",
   "metadata": {
    "button": false,
    "new_sheet": false,
    "run_control": {
     "read_only": false
    }
   },
   "source": [
    "#### Let's get the venue for the tip with the greatest number of agree counts"
   ]
  },
  {
   "cell_type": "code",
   "execution_count": 32,
   "metadata": {
    "button": false,
    "new_sheet": false,
    "run_control": {
     "read_only": false
    }
   },
   "outputs": [
    {
     "name": "stdout",
     "output_type": "stream",
     "text": [
      "Cowgirl\n",
      "{'address': '519 Hudson St', 'crossStreet': 'at W 10th St', 'lat': 40.73373338282062, 'lng': -74.0062998849649, 'labeledLatLngs': [{'label': 'display', 'lat': 40.73373338282062, 'lng': -74.0062998849649}], 'postalCode': '10014', 'cc': 'US', 'city': 'New York', 'state': 'NY', 'country': 'United States', 'formattedAddress': ['519 Hudson St (at W 10th St)', 'New York, NY 10014', 'United States']}\n"
     ]
    }
   ],
   "source": [
    "tip_id = '5ab5575d73fe2516ad8f363b' # tip id\n",
    "\n",
    "# define URL\n",
    "url = 'http://api.foursquare.com/v2/tips/{}?client_id={}&client_secret={}&v={}'.format(tip_id, CLIENT_ID, CLIENT_SECRET, VERSION)\n",
    "\n",
    "# send GET Request and examine results\n",
    "result = requests.get(url).json()\n",
    "print(result['response']['tip']['venue']['name'])\n",
    "print(result['response']['tip']['venue']['location'])"
   ]
  },
  {
   "cell_type": "code",
   "execution_count": null,
   "metadata": {},
   "outputs": [],
   "source": []
  },
  {
   "cell_type": "markdown",
   "metadata": {
    "button": false,
    "new_sheet": false,
    "run_control": {
     "read_only": false
    }
   },
   "source": [
    "### Get User's friends"
   ]
  },
  {
   "cell_type": "code",
   "execution_count": 34,
   "metadata": {
    "button": false,
    "new_sheet": false,
    "run_control": {
     "read_only": false
    },
    "scrolled": false
   },
   "outputs": [
    {
     "data": {
      "text/html": [
       "<div>\n",
       "<style scoped>\n",
       "    .dataframe tbody tr th:only-of-type {\n",
       "        vertical-align: middle;\n",
       "    }\n",
       "\n",
       "    .dataframe tbody tr th {\n",
       "        vertical-align: top;\n",
       "    }\n",
       "\n",
       "    .dataframe thead th {\n",
       "        text-align: right;\n",
       "    }\n",
       "</style>\n",
       "<table border=\"1\" class=\"dataframe\">\n",
       "  <thead>\n",
       "    <tr style=\"text-align: right;\">\n",
       "      <th></th>\n",
       "    </tr>\n",
       "  </thead>\n",
       "  <tbody>\n",
       "  </tbody>\n",
       "</table>\n",
       "</div>"
      ],
      "text/plain": [
       "Empty DataFrame\n",
       "Columns: []\n",
       "Index: []"
      ]
     },
     "execution_count": 34,
     "metadata": {},
     "output_type": "execute_result"
    }
   ],
   "source": [
    "user_friends = pd.json_normalize(user_data['friends']['groups'][0]['items'])\n",
    "user_friends"
   ]
  },
  {
   "cell_type": "code",
   "execution_count": null,
   "metadata": {},
   "outputs": [],
   "source": []
  },
  {
   "cell_type": "code",
   "execution_count": null,
   "metadata": {},
   "outputs": [],
   "source": []
  },
  {
   "cell_type": "markdown",
   "metadata": {
    "button": false,
    "new_sheet": false,
    "run_control": {
     "read_only": false
    }
   },
   "source": [
    "Interesting. Despite being very active, it turns out that Nick does not have any friends on Foursquare. This might definitely change in the future."
   ]
  },
  {
   "cell_type": "markdown",
   "metadata": {
    "button": false,
    "new_sheet": false,
    "run_control": {
     "read_only": false
    }
   },
   "source": [
    "### Retrieve the User's Profile Image"
   ]
  },
  {
   "cell_type": "code",
   "execution_count": 35,
   "metadata": {
    "button": false,
    "new_sheet": false,
    "run_control": {
     "read_only": false
    },
    "scrolled": true
   },
   "outputs": [
    {
     "data": {
      "text/plain": [
       "{'id': '484542633',\n",
       " 'firstName': 'Nick',\n",
       " 'lastName': 'El-Tawil',\n",
       " 'gender': 'male',\n",
       " 'canonicalUrl': 'https://foursquare.com/user/484542633',\n",
       " 'photo': {'prefix': 'https://fastly.4sqi.net/img/user/',\n",
       "  'suffix': '/484542633_unymNUmw_FdPs3GjXHujmHcYnN4hf8kEPADlOZuIrdcdm97VX3tFqL7fFNMNA_8Gl9NlU1GYg.jpg'},\n",
       " 'friends': {'count': 0,\n",
       "  'groups': [{'type': 'friends',\n",
       "    'name': 'Mutual friends',\n",
       "    'count': 0,\n",
       "    'items': []},\n",
       "   {'type': 'others', 'name': 'Other friends', 'count': 0, 'items': []}]},\n",
       " 'tips': {'count': 98},\n",
       " 'homeCity': 'New York, NY',\n",
       " 'bio': 'https://www.tawil.team/nick-el-tawil/',\n",
       " 'contact': {'twitter': 'nickeltawil'},\n",
       " 'photos': {'count': 2,\n",
       "  'items': [{'id': '5e41a7ce346b7c00085b0f70',\n",
       "    'createdAt': 1581361102,\n",
       "    'source': {'name': 'Foursquare for iOS',\n",
       "     'url': 'https://foursquare.com/download/#/iphone'},\n",
       "    'prefix': 'https://fastly.4sqi.net/img/general/',\n",
       "    'suffix': '/484542633_cF12vc8JQJTd-hyznst-CsHHTdSoi4XwCGKhTuQXNfo.jpg',\n",
       "    'width': 1440,\n",
       "    'height': 1440,\n",
       "    'visibility': 'public',\n",
       "    'venue': {'id': '5ab194451ffed736e329b365',\n",
       "     'name': 'Tawil & Team',\n",
       "     'location': {'address': '413 W 14th St # 200',\n",
       "      'crossStreet': '9th Avenue',\n",
       "      'lat': 40.74175262451172,\n",
       "      'lng': -74.006103515625,\n",
       "      'labeledLatLngs': [{'label': 'display',\n",
       "        'lat': 40.74175262451172,\n",
       "        'lng': -74.006103515625}],\n",
       "      'postalCode': '10014',\n",
       "      'cc': 'US',\n",
       "      'city': 'New York',\n",
       "      'state': 'NY',\n",
       "      'country': 'United States',\n",
       "      'formattedAddress': ['413 W 14th St # 200 (9th Avenue)',\n",
       "       'New York, NY 10014',\n",
       "       'United States']},\n",
       "     'categories': [{'id': '5032885091d4c4b30a586d66',\n",
       "       'name': 'Real Estate Office',\n",
       "       'pluralName': 'Real Estate Offices',\n",
       "       'shortName': 'Real Estate',\n",
       "       'icon': {'prefix': 'https://ss3.4sqi.net/img/categories_v2/shops/realestate_',\n",
       "        'suffix': '.png'},\n",
       "       'primary': True}],\n",
       "     'like': False}}]},\n",
       " 'checkinPings': 'off',\n",
       " 'pings': False,\n",
       " 'type': 'user',\n",
       " 'mayorships': {'count': 0, 'items': []},\n",
       " 'checkins': {'count': 1, 'items': []},\n",
       " 'lists': {'count': 2,\n",
       "  'groups': [{'type': 'created', 'count': 0, 'items': []},\n",
       "   {'type': 'followed', 'count': 0, 'items': []},\n",
       "   {'type': 'yours',\n",
       "    'count': 2,\n",
       "    'items': [{'id': '484542633/todos',\n",
       "      'name': \"Nick's Saved Places\",\n",
       "      'description': '',\n",
       "      'type': 'todos',\n",
       "      'editable': False,\n",
       "      'public': True,\n",
       "      'collaborative': False,\n",
       "      'url': '/nickeltawil/list/todos',\n",
       "      'canonicalUrl': 'https://foursquare.com/nickeltawil/list/todos',\n",
       "      'listItems': {'count': 1}},\n",
       "     {'id': '484542633/venuelikes',\n",
       "      'name': 'Nick’s Liked Places',\n",
       "      'description': '',\n",
       "      'type': 'likes',\n",
       "      'editable': False,\n",
       "      'public': True,\n",
       "      'collaborative': False,\n",
       "      'url': '/nickeltawil/list/venuelikes',\n",
       "      'canonicalUrl': 'https://foursquare.com/nickeltawil/list/venuelikes',\n",
       "      'listItems': {'count': 0}}]}]},\n",
       " 'blockedStatus': 'none',\n",
       " 'lenses': []}"
      ]
     },
     "execution_count": 35,
     "metadata": {},
     "output_type": "execute_result"
    }
   ],
   "source": [
    "user_data"
   ]
  },
  {
   "cell_type": "code",
   "execution_count": null,
   "metadata": {},
   "outputs": [],
   "source": []
  },
  {
   "cell_type": "code",
   "execution_count": 41,
   "metadata": {
    "button": false,
    "new_sheet": false,
    "run_control": {
     "read_only": false
    }
   },
   "outputs": [
    {
     "data": {
      "text/html": [
       "<img src=\"https://fastly.4sqi.net/img/user/300x300/484542633_unymNUmw_FdPs3GjXHujmHcYnN4hf8kEPADlOZuIrdcdm97VX3tFqL7fFNMNA_8Gl9NlU1GYg.jpg\"/>"
      ],
      "text/plain": [
       "<IPython.core.display.Image object>"
      ]
     },
     "execution_count": 41,
     "metadata": {},
     "output_type": "execute_result"
    }
   ],
   "source": [
    "# 1. grab prefix of photo\n",
    "# 2. grab suffix of photo\n",
    "# 3. concatenate them using the image size  \n",
    "Image(url='https://fastly.4sqi.net/img/user/300x300/484542633_unymNUmw_FdPs3GjXHujmHcYnN4hf8kEPADlOZuIrdcdm97VX3tFqL7fFNMNA_8Gl9NlU1GYg.jpg')"
   ]
  },
  {
   "cell_type": "code",
   "execution_count": null,
   "metadata": {},
   "outputs": [],
   "source": []
  },
  {
   "cell_type": "code",
   "execution_count": null,
   "metadata": {},
   "outputs": [],
   "source": []
  },
  {
   "cell_type": "markdown",
   "metadata": {
    "button": false,
    "new_sheet": false,
    "run_control": {
     "read_only": false
    }
   },
   "source": [
    "  "
   ]
  },
  {
   "cell_type": "markdown",
   "metadata": {
    "button": false,
    "new_sheet": false,
    "run_control": {
     "read_only": false
    }
   },
   "source": [
    "<a id=\"item4\"></a>"
   ]
  },
  {
   "cell_type": "markdown",
   "metadata": {
    "button": false,
    "new_sheet": false,
    "run_control": {
     "read_only": false
    }
   },
   "source": [
    "## 4. Explore a location\n",
    "> `https://api.foursquare.com/v2/venues/`**explore**`?client_id=`**CLIENT_ID**`&client_secret=`**CLIENT_SECRET**`&ll=`**LATITUDE**`,`**LONGITUDE**`&v=`**VERSION**`&limit=`**LIMIT**"
   ]
  },
  {
   "cell_type": "markdown",
   "metadata": {
    "button": false,
    "new_sheet": false,
    "run_control": {
     "read_only": false
    }
   },
   "source": [
    "#### So, you just finished your gourmet dish at Ecco, and are just curious about the popular spots around the restaurant. In order to explore the area, let's start by getting the latitude and longitude values of Ecco Restaurant."
   ]
  },
  {
   "cell_type": "code",
   "execution_count": 37,
   "metadata": {
    "button": false,
    "new_sheet": false,
    "run_control": {
     "read_only": false
    }
   },
   "outputs": [],
   "source": [
    "latitude = 40.715337\n",
    "longitude = -74.008848"
   ]
  },
  {
   "cell_type": "code",
   "execution_count": null,
   "metadata": {},
   "outputs": [],
   "source": []
  },
  {
   "cell_type": "markdown",
   "metadata": {
    "button": false,
    "new_sheet": false,
    "run_control": {
     "read_only": false
    }
   },
   "source": [
    "#### Define URL"
   ]
  },
  {
   "cell_type": "code",
   "execution_count": 53,
   "metadata": {
    "button": false,
    "new_sheet": false,
    "run_control": {
     "read_only": false
    }
   },
   "outputs": [
    {
     "data": {
      "text/plain": [
       "'https://api.foursquare.com/v2/venues/explore?client_id=MAANLALQ0AREGRVQSVSVQPSZZRLCRXOODYCM3SB3MXXAZYS5&client_secret=KIJZGG4BXA3P2XYVJQFYPO4LH51KUEBMEH3MADNDSCZOELHH&ll=40.715337,-74.008848&v=20180604&radius=500&limit=30'"
      ]
     },
     "execution_count": 53,
     "metadata": {},
     "output_type": "execute_result"
    }
   ],
   "source": [
    "url = 'https://api.foursquare.com/v2/venues/explore?client_id={}&client_secret={}&ll={},{}&v={}&radius={}&limit={}'.format(CLIENT_ID, CLIENT_SECRET, latitude, longitude, VERSION, radius, LIMIT)\n",
    "url"
   ]
  },
  {
   "cell_type": "code",
   "execution_count": null,
   "metadata": {},
   "outputs": [],
   "source": []
  },
  {
   "cell_type": "markdown",
   "metadata": {
    "button": false,
    "new_sheet": false,
    "run_control": {
     "read_only": false
    }
   },
   "source": [
    "#### Send GET request and examine results"
   ]
  },
  {
   "cell_type": "code",
   "execution_count": 54,
   "metadata": {
    "button": false,
    "new_sheet": false,
    "run_control": {
     "read_only": false
    }
   },
   "outputs": [],
   "source": [
    "import requests"
   ]
  },
  {
   "cell_type": "code",
   "execution_count": null,
   "metadata": {},
   "outputs": [],
   "source": []
  },
  {
   "cell_type": "code",
   "execution_count": null,
   "metadata": {},
   "outputs": [],
   "source": []
  },
  {
   "cell_type": "code",
   "execution_count": 55,
   "metadata": {
    "button": false,
    "new_sheet": false,
    "run_control": {
     "read_only": false
    }
   },
   "outputs": [
    {
     "data": {
      "text/plain": [
       "'There are 30 around Ecco restaurant.'"
      ]
     },
     "execution_count": 55,
     "metadata": {},
     "output_type": "execute_result"
    }
   ],
   "source": [
    "results = requests.get(url).json()\n",
    "'There are {} around Ecco restaurant.'.format(len(results['response']['groups'][0]['items']))"
   ]
  },
  {
   "cell_type": "code",
   "execution_count": 57,
   "metadata": {},
   "outputs": [
    {
     "data": {
      "text/plain": [
       "{'meta': {'code': 200, 'requestId': '5f0d818a889e093619907ad5'},\n",
       " 'response': {'suggestedFilters': {'header': 'Tap to show:',\n",
       "   'filters': [{'name': 'Open now', 'key': 'openNow'},\n",
       "    {'name': '$-$$$$', 'key': 'price'}]},\n",
       "  'headerLocation': 'Tribeca',\n",
       "  'headerFullLocation': 'Tribeca, New York',\n",
       "  'headerLocationGranularity': 'neighborhood',\n",
       "  'totalResults': 116,\n",
       "  'suggestedBounds': {'ne': {'lat': 40.7198370045, 'lng': -74.00292208843348},\n",
       "   'sw': {'lat': 40.710836995499996, 'lng': -74.01477391156652}},\n",
       "  'groups': [{'type': 'Recommended Places',\n",
       "    'name': 'recommended',\n",
       "    'items': [{'reasons': {'count': 0,\n",
       "       'items': [{'summary': 'This spot is popular',\n",
       "         'type': 'general',\n",
       "         'reasonName': 'globalInteractionReason'}]},\n",
       "      'venue': {'id': '5d5f24ec09484500079aee00',\n",
       "       'name': 'Los Tacos No. 1',\n",
       "       'location': {'address': '136 Church St',\n",
       "        'lat': 40.714267,\n",
       "        'lng': -74.008756,\n",
       "        'labeledLatLngs': [{'label': 'display',\n",
       "          'lat': 40.714267,\n",
       "          'lng': -74.008756}],\n",
       "        'distance': 119,\n",
       "        'postalCode': '10007',\n",
       "        'cc': 'US',\n",
       "        'city': 'New York',\n",
       "        'state': 'NY',\n",
       "        'country': 'United States',\n",
       "        'formattedAddress': ['136 Church St',\n",
       "         'New York, NY 10007',\n",
       "         'United States']},\n",
       "       'categories': [{'id': '4bf58dd8d48988d151941735',\n",
       "         'name': 'Taco Place',\n",
       "         'pluralName': 'Taco Places',\n",
       "         'shortName': 'Tacos',\n",
       "         'icon': {'prefix': 'https://ss3.4sqi.net/img/categories_v2/food/taco_',\n",
       "          'suffix': '.png'},\n",
       "         'primary': True}],\n",
       "       'photos': {'count': 0, 'groups': []}},\n",
       "      'referralId': 'e-0-5d5f24ec09484500079aee00-0'},\n",
       "     {'reasons': {'count': 0,\n",
       "       'items': [{'summary': 'This spot is popular',\n",
       "         'type': 'general',\n",
       "         'reasonName': 'globalInteractionReason'}]},\n",
       "      'venue': {'id': '4af5d65ff964a52091fd21e3',\n",
       "       'name': 'Korin',\n",
       "       'location': {'address': '57 Warren St',\n",
       "        'crossStreet': 'Church St',\n",
       "        'lat': 40.71482437714839,\n",
       "        'lng': -74.00940425461492,\n",
       "        'labeledLatLngs': [{'label': 'display',\n",
       "          'lat': 40.71482437714839,\n",
       "          'lng': -74.00940425461492},\n",
       "         {'label': 'entrance', 'lat': 40.714727, 'lng': -74.009399}],\n",
       "        'distance': 73,\n",
       "        'postalCode': '10007',\n",
       "        'cc': 'US',\n",
       "        'neighborhood': 'Tribeca',\n",
       "        'city': 'New York',\n",
       "        'state': 'NY',\n",
       "        'country': 'United States',\n",
       "        'formattedAddress': ['57 Warren St (Church St)',\n",
       "         'New York, NY 10007',\n",
       "         'United States']},\n",
       "       'categories': [{'id': '4bf58dd8d48988d1f8941735',\n",
       "         'name': 'Furniture / Home Store',\n",
       "         'pluralName': 'Furniture / Home Stores',\n",
       "         'shortName': 'Furniture / Home',\n",
       "         'icon': {'prefix': 'https://ss3.4sqi.net/img/categories_v2/shops/furniture_',\n",
       "          'suffix': '.png'},\n",
       "         'primary': True}],\n",
       "       'photos': {'count': 0, 'groups': []},\n",
       "       'venuePage': {'id': '33104775'}},\n",
       "      'referralId': 'e-0-4af5d65ff964a52091fd21e3-1'},\n",
       "     {'reasons': {'count': 0,\n",
       "       'items': [{'summary': 'This spot is popular',\n",
       "         'type': 'general',\n",
       "         'reasonName': 'globalInteractionReason'}]},\n",
       "      'venue': {'id': '54148bc6498ea7bb8c05b70a',\n",
       "       'name': 'Juice Press',\n",
       "       'location': {'address': '83 Murray St',\n",
       "        'crossStreet': 'btwn Greenwich St & W Broadway',\n",
       "        'lat': 40.71478769908051,\n",
       "        'lng': -74.0111317502157,\n",
       "        'labeledLatLngs': [{'label': 'display',\n",
       "          'lat': 40.71478769908051,\n",
       "          'lng': -74.0111317502157}],\n",
       "        'distance': 202,\n",
       "        'postalCode': '10007',\n",
       "        'cc': 'US',\n",
       "        'city': 'New York',\n",
       "        'state': 'NY',\n",
       "        'country': 'United States',\n",
       "        'formattedAddress': ['83 Murray St (btwn Greenwich St & W Broadway)',\n",
       "         'New York, NY 10007',\n",
       "         'United States']},\n",
       "       'categories': [{'id': '4bf58dd8d48988d1d3941735',\n",
       "         'name': 'Vegetarian / Vegan Restaurant',\n",
       "         'pluralName': 'Vegetarian / Vegan Restaurants',\n",
       "         'shortName': 'Vegetarian / Vegan',\n",
       "         'icon': {'prefix': 'https://ss3.4sqi.net/img/categories_v2/food/vegetarian_',\n",
       "          'suffix': '.png'},\n",
       "         'primary': True}],\n",
       "       'photos': {'count': 0, 'groups': []}},\n",
       "      'referralId': 'e-0-54148bc6498ea7bb8c05b70a-2'},\n",
       "     {'reasons': {'count': 0,\n",
       "       'items': [{'summary': 'This spot is popular',\n",
       "         'type': 'general',\n",
       "         'reasonName': 'globalInteractionReason'}]},\n",
       "      'venue': {'id': '4c154c9a77cea593c401d260',\n",
       "       'name': 'Takahachi Bakery',\n",
       "       'location': {'address': '25 Murray St',\n",
       "        'crossStreet': 'at Church St',\n",
       "        'lat': 40.713652845301894,\n",
       "        'lng': -74.0088038953017,\n",
       "        'labeledLatLngs': [{'label': 'display',\n",
       "          'lat': 40.713652845301894,\n",
       "          'lng': -74.0088038953017},\n",
       "         {'label': 'entrance', 'lat': 40.713716, 'lng': -74.008443}],\n",
       "        'distance': 187,\n",
       "        'postalCode': '10007',\n",
       "        'cc': 'US',\n",
       "        'city': 'New York',\n",
       "        'state': 'NY',\n",
       "        'country': 'United States',\n",
       "        'formattedAddress': ['25 Murray St (at Church St)',\n",
       "         'New York, NY 10007',\n",
       "         'United States']},\n",
       "       'categories': [{'id': '4bf58dd8d48988d16a941735',\n",
       "         'name': 'Bakery',\n",
       "         'pluralName': 'Bakeries',\n",
       "         'shortName': 'Bakery',\n",
       "         'icon': {'prefix': 'https://ss3.4sqi.net/img/categories_v2/food/bakery_',\n",
       "          'suffix': '.png'},\n",
       "         'primary': True}],\n",
       "       'photos': {'count': 0, 'groups': []},\n",
       "       'venuePage': {'id': '85495566'}},\n",
       "      'referralId': 'e-0-4c154c9a77cea593c401d260-3'},\n",
       "     {'reasons': {'count': 0,\n",
       "       'items': [{'summary': 'This spot is popular',\n",
       "         'type': 'general',\n",
       "         'reasonName': 'globalInteractionReason'}]},\n",
       "      'venue': {'id': '4adcf23cf964a520cc6221e3',\n",
       "       'name': 'Chambers Street Wines',\n",
       "       'location': {'address': '148 Chambers St',\n",
       "        'crossStreet': 'btwn West Broadway & Hudson St',\n",
       "        'lat': 40.715773063928374,\n",
       "        'lng': -74.00971823312332,\n",
       "        'labeledLatLngs': [{'label': 'display',\n",
       "          'lat': 40.715773063928374,\n",
       "          'lng': -74.00971823312332},\n",
       "         {'label': 'entrance', 'lat': 40.715696, 'lng': -74.00988}],\n",
       "        'distance': 88,\n",
       "        'postalCode': '10007',\n",
       "        'cc': 'US',\n",
       "        'city': 'New York',\n",
       "        'state': 'NY',\n",
       "        'country': 'United States',\n",
       "        'formattedAddress': ['148 Chambers St (btwn West Broadway & Hudson St)',\n",
       "         'New York, NY 10007',\n",
       "         'United States']},\n",
       "       'categories': [{'id': '4bf58dd8d48988d119951735',\n",
       "         'name': 'Wine Shop',\n",
       "         'pluralName': 'Wine Shops',\n",
       "         'shortName': 'Wine Shop',\n",
       "         'icon': {'prefix': 'https://ss3.4sqi.net/img/categories_v2/shops/food_wineshop_',\n",
       "          'suffix': '.png'},\n",
       "         'primary': True}],\n",
       "       'photos': {'count': 0, 'groups': []}},\n",
       "      'referralId': 'e-0-4adcf23cf964a520cc6221e3-4'},\n",
       "     {'reasons': {'count': 0,\n",
       "       'items': [{'summary': 'This spot is popular',\n",
       "         'type': 'general',\n",
       "         'reasonName': 'globalInteractionReason'}]},\n",
       "      'venue': {'id': '4a8f2f39f964a520471420e3',\n",
       "       'name': 'Takahachi',\n",
       "       'location': {'address': '145 Duane St',\n",
       "        'crossStreet': 'btwn W Broadway & Church St',\n",
       "        'lat': 40.71652647412374,\n",
       "        'lng': -74.00810108466207,\n",
       "        'labeledLatLngs': [{'label': 'display',\n",
       "          'lat': 40.71652647412374,\n",
       "          'lng': -74.00810108466207},\n",
       "         {'label': 'entrance', 'lat': 40.716508, 'lng': -74.007989}],\n",
       "        'distance': 146,\n",
       "        'postalCode': '10013',\n",
       "        'cc': 'US',\n",
       "        'city': 'New York',\n",
       "        'state': 'NY',\n",
       "        'country': 'United States',\n",
       "        'formattedAddress': ['145 Duane St (btwn W Broadway & Church St)',\n",
       "         'New York, NY 10013',\n",
       "         'United States']},\n",
       "       'categories': [{'id': '4bf58dd8d48988d1d2941735',\n",
       "         'name': 'Sushi Restaurant',\n",
       "         'pluralName': 'Sushi Restaurants',\n",
       "         'shortName': 'Sushi',\n",
       "         'icon': {'prefix': 'https://ss3.4sqi.net/img/categories_v2/food/sushi_',\n",
       "          'suffix': '.png'},\n",
       "         'primary': True}],\n",
       "       'photos': {'count': 0, 'groups': []}},\n",
       "      'referralId': 'e-0-4a8f2f39f964a520471420e3-5'},\n",
       "     {'reasons': {'count': 0,\n",
       "       'items': [{'summary': 'This spot is popular',\n",
       "         'type': 'general',\n",
       "         'reasonName': 'globalInteractionReason'}]},\n",
       "      'venue': {'id': '48510cf9f964a520a5501fe3',\n",
       "       'name': 'Restaurant Marc Forgione',\n",
       "       'location': {'address': '134 Reade St',\n",
       "        'crossStreet': 'btwn Hudson and Greenwich St',\n",
       "        'lat': 40.71637984317071,\n",
       "        'lng': -74.00962933453428,\n",
       "        'labeledLatLngs': [{'label': 'display',\n",
       "          'lat': 40.71637984317071,\n",
       "          'lng': -74.00962933453428}],\n",
       "        'distance': 133,\n",
       "        'postalCode': '10013',\n",
       "        'cc': 'US',\n",
       "        'city': 'New York',\n",
       "        'state': 'NY',\n",
       "        'country': 'United States',\n",
       "        'formattedAddress': ['134 Reade St (btwn Hudson and Greenwich St)',\n",
       "         'New York, NY 10013',\n",
       "         'United States']},\n",
       "       'categories': [{'id': '4bf58dd8d48988d157941735',\n",
       "         'name': 'New American Restaurant',\n",
       "         'pluralName': 'New American Restaurants',\n",
       "         'shortName': 'New American',\n",
       "         'icon': {'prefix': 'https://ss3.4sqi.net/img/categories_v2/food/newamerican_',\n",
       "          'suffix': '.png'},\n",
       "         'primary': True}],\n",
       "       'delivery': {'id': '2218939',\n",
       "        'url': 'https://www.seamless.com/menu/restaurant-marc-forgione-134-reade-st-new-york/2218939?affiliate=1131&utm_source=foursquare-affiliate-network&utm_medium=affiliate&utm_campaign=1131&utm_content=2218939',\n",
       "        'provider': {'name': 'seamless',\n",
       "         'icon': {'prefix': 'https://fastly.4sqi.net/img/general/cap/',\n",
       "          'sizes': [40, 50],\n",
       "          'name': '/delivery_provider_seamless_20180129.png'}}},\n",
       "       'photos': {'count': 0, 'groups': []}},\n",
       "      'referralId': 'e-0-48510cf9f964a520a5501fe3-6'},\n",
       "     {'reasons': {'count': 0,\n",
       "       'items': [{'summary': 'This spot is popular',\n",
       "         'type': 'general',\n",
       "         'reasonName': 'globalInteractionReason'}]},\n",
       "      'venue': {'id': '53910ac3498e57a5dc0eb160',\n",
       "       'name': 'Exceed Physical Culture',\n",
       "       'location': {'address': '97 Reade St',\n",
       "        'crossStreet': 'bet W Broadway & Church St',\n",
       "        'lat': 40.7156286200256,\n",
       "        'lng': -74.0079922583853,\n",
       "        'labeledLatLngs': [{'label': 'display',\n",
       "          'lat': 40.7156286200256,\n",
       "          'lng': -74.0079922583853},\n",
       "         {'label': 'entrance', 'lat': 40.715589, 'lng': -74.008105}],\n",
       "        'distance': 79,\n",
       "        'postalCode': '10013',\n",
       "        'cc': 'US',\n",
       "        'neighborhood': 'Tribeca',\n",
       "        'city': 'New York',\n",
       "        'state': 'NY',\n",
       "        'country': 'United States',\n",
       "        'formattedAddress': ['97 Reade St (bet W Broadway & Church St)',\n",
       "         'New York, NY 10013',\n",
       "         'United States']},\n",
       "       'categories': [{'id': '4bf58dd8d48988d175941735',\n",
       "         'name': 'Gym / Fitness Center',\n",
       "         'pluralName': 'Gyms or Fitness Centers',\n",
       "         'shortName': 'Gym / Fitness',\n",
       "         'icon': {'prefix': 'https://ss3.4sqi.net/img/categories_v2/building/gym_',\n",
       "          'suffix': '.png'},\n",
       "         'primary': True}],\n",
       "       'photos': {'count': 0, 'groups': []}},\n",
       "      'referralId': 'e-0-53910ac3498e57a5dc0eb160-7'},\n",
       "     {'reasons': {'count': 0,\n",
       "       'items': [{'summary': 'This spot is popular',\n",
       "         'type': 'general',\n",
       "         'reasonName': 'globalInteractionReason'}]},\n",
       "      'venue': {'id': '5dc6f6a5ea8dfb00080f6faa',\n",
       "       'name': 'Lekka Burger',\n",
       "       'location': {'address': '81 Warren St',\n",
       "        'crossStreet': 'btw Greenwich & West Broadway',\n",
       "        'lat': 40.715246,\n",
       "        'lng': -74.010559,\n",
       "        'labeledLatLngs': [{'label': 'display',\n",
       "          'lat': 40.715246,\n",
       "          'lng': -74.010559}],\n",
       "        'distance': 144,\n",
       "        'postalCode': '10007',\n",
       "        'cc': 'US',\n",
       "        'city': 'New York',\n",
       "        'state': 'NY',\n",
       "        'country': 'United States',\n",
       "        'formattedAddress': ['81 Warren St (btw Greenwich & West Broadway)',\n",
       "         'New York, NY 10007',\n",
       "         'United States']},\n",
       "       'categories': [{'id': '4bf58dd8d48988d16c941735',\n",
       "         'name': 'Burger Joint',\n",
       "         'pluralName': 'Burger Joints',\n",
       "         'shortName': 'Burgers',\n",
       "         'icon': {'prefix': 'https://ss3.4sqi.net/img/categories_v2/food/burger_',\n",
       "          'suffix': '.png'},\n",
       "         'primary': True}],\n",
       "       'photos': {'count': 0, 'groups': []}},\n",
       "      'referralId': 'e-0-5dc6f6a5ea8dfb00080f6faa-8'},\n",
       "     {'reasons': {'count': 0,\n",
       "       'items': [{'summary': 'This spot is popular',\n",
       "         'type': 'general',\n",
       "         'reasonName': 'globalInteractionReason'}]},\n",
       "      'venue': {'id': '50ba9119e4b071a4bae6dc10',\n",
       "       'name': 'Nish Nūsh',\n",
       "       'location': {'address': '88 Reade St',\n",
       "        'crossStreet': 'at Church St',\n",
       "        'lat': 40.71553710116416,\n",
       "        'lng': -74.00772452925565,\n",
       "        'labeledLatLngs': [{'label': 'display',\n",
       "          'lat': 40.71553710116416,\n",
       "          'lng': -74.00772452925565},\n",
       "         {'label': 'entrance', 'lat': 40.715615, 'lng': -74.00773}],\n",
       "        'distance': 97,\n",
       "        'postalCode': '10013',\n",
       "        'cc': 'US',\n",
       "        'city': 'New York',\n",
       "        'state': 'NY',\n",
       "        'country': 'United States',\n",
       "        'formattedAddress': ['88 Reade St (at Church St)',\n",
       "         'New York, NY 10013',\n",
       "         'United States']},\n",
       "       'categories': [{'id': '4bf58dd8d48988d10b941735',\n",
       "         'name': 'Falafel Restaurant',\n",
       "         'pluralName': 'Falafel Restaurants',\n",
       "         'shortName': 'Falafel',\n",
       "         'icon': {'prefix': 'https://ss3.4sqi.net/img/categories_v2/food/falafel_',\n",
       "          'suffix': '.png'},\n",
       "         'primary': True}],\n",
       "       'photos': {'count': 0, 'groups': []},\n",
       "       'venuePage': {'id': '93083181'}},\n",
       "      'referralId': 'e-0-50ba9119e4b071a4bae6dc10-9'},\n",
       "     {'reasons': {'count': 0,\n",
       "       'items': [{'summary': 'This spot is popular',\n",
       "         'type': 'general',\n",
       "         'reasonName': 'globalInteractionReason'}]},\n",
       "      'venue': {'id': '4cd89eeb6e8b5941660c64d2',\n",
       "       'name': 'Weather Up',\n",
       "       'location': {'address': '159 Duane St',\n",
       "        'crossStreet': 'btwn Hudson St. & W Broadway',\n",
       "        'lat': 40.71674084163369,\n",
       "        'lng': -74.0086664438893,\n",
       "        'labeledLatLngs': [{'label': 'display',\n",
       "          'lat': 40.71674084163369,\n",
       "          'lng': -74.0086664438893},\n",
       "         {'label': 'entrance', 'lat': 40.71685, 'lng': -74.008729}],\n",
       "        'distance': 157,\n",
       "        'postalCode': '10013',\n",
       "        'cc': 'US',\n",
       "        'city': 'New York',\n",
       "        'state': 'NY',\n",
       "        'country': 'United States',\n",
       "        'formattedAddress': ['159 Duane St (btwn Hudson St. & W Broadway)',\n",
       "         'New York, NY 10013',\n",
       "         'United States']},\n",
       "       'categories': [{'id': '4bf58dd8d48988d11e941735',\n",
       "         'name': 'Cocktail Bar',\n",
       "         'pluralName': 'Cocktail Bars',\n",
       "         'shortName': 'Cocktail',\n",
       "         'icon': {'prefix': 'https://ss3.4sqi.net/img/categories_v2/nightlife/cocktails_',\n",
       "          'suffix': '.png'},\n",
       "         'primary': True}],\n",
       "       'photos': {'count': 0, 'groups': []}},\n",
       "      'referralId': 'e-0-4cd89eeb6e8b5941660c64d2-10'},\n",
       "     {'reasons': {'count': 0,\n",
       "       'items': [{'summary': 'This spot is popular',\n",
       "         'type': 'general',\n",
       "         'reasonName': 'globalInteractionReason'}]},\n",
       "      'venue': {'id': '49bc3b0af964a52020541fe3',\n",
       "       'name': 'Whole Foods Market',\n",
       "       'location': {'address': '270 Greenwich Street',\n",
       "        'crossStreet': 'at Warren St',\n",
       "        'lat': 40.715579155420606,\n",
       "        'lng': -74.01136823958119,\n",
       "        'labeledLatLngs': [{'label': 'display',\n",
       "          'lat': 40.715579155420606,\n",
       "          'lng': -74.01136823958119}],\n",
       "        'distance': 214,\n",
       "        'postalCode': '10007',\n",
       "        'cc': 'US',\n",
       "        'neighborhood': 'Tribeca',\n",
       "        'city': 'New York',\n",
       "        'state': 'NY',\n",
       "        'country': 'United States',\n",
       "        'formattedAddress': ['270 Greenwich Street (at Warren St)',\n",
       "         'New York, NY 10007',\n",
       "         'United States']},\n",
       "       'categories': [{'id': '4bf58dd8d48988d118951735',\n",
       "         'name': 'Grocery Store',\n",
       "         'pluralName': 'Grocery Stores',\n",
       "         'shortName': 'Grocery Store',\n",
       "         'icon': {'prefix': 'https://ss3.4sqi.net/img/categories_v2/shops/food_grocery_',\n",
       "          'suffix': '.png'},\n",
       "         'primary': True}],\n",
       "       'photos': {'count': 0, 'groups': []}},\n",
       "      'referralId': 'e-0-49bc3b0af964a52020541fe3-11'},\n",
       "     {'reasons': {'count': 0,\n",
       "       'items': [{'summary': 'This spot is popular',\n",
       "         'type': 'general',\n",
       "         'reasonName': 'globalInteractionReason'}]},\n",
       "      'venue': {'id': '51df85c9498edb5ea3ad2e2a',\n",
       "       'name': 'Khe-Yo',\n",
       "       'location': {'address': '157 Duane Street',\n",
       "        'crossStreet': 'btwn Hudson St & W Broadway',\n",
       "        'lat': 40.716752816876635,\n",
       "        'lng': -74.00858376295221,\n",
       "        'labeledLatLngs': [{'label': 'display',\n",
       "          'lat': 40.716752816876635,\n",
       "          'lng': -74.00858376295221}],\n",
       "        'distance': 159,\n",
       "        'postalCode': '10013',\n",
       "        'cc': 'US',\n",
       "        'city': 'New York',\n",
       "        'state': 'NY',\n",
       "        'country': 'United States',\n",
       "        'formattedAddress': ['157 Duane Street (btwn Hudson St & W Broadway)',\n",
       "         'New York, NY 10013',\n",
       "         'United States']},\n",
       "       'categories': [{'id': '4bf58dd8d48988d142941735',\n",
       "         'name': 'Asian Restaurant',\n",
       "         'pluralName': 'Asian Restaurants',\n",
       "         'shortName': 'Asian',\n",
       "         'icon': {'prefix': 'https://ss3.4sqi.net/img/categories_v2/food/asian_',\n",
       "          'suffix': '.png'},\n",
       "         'primary': True}],\n",
       "       'delivery': {'id': '1983382',\n",
       "        'url': 'https://www.seamless.com/menu/khe-yo-157-duane-st-new-york/1983382?affiliate=1131&utm_source=foursquare-affiliate-network&utm_medium=affiliate&utm_campaign=1131&utm_content=1983382',\n",
       "        'provider': {'name': 'seamless',\n",
       "         'icon': {'prefix': 'https://fastly.4sqi.net/img/general/cap/',\n",
       "          'sizes': [40, 50],\n",
       "          'name': '/delivery_provider_seamless_20180129.png'}}},\n",
       "       'photos': {'count': 0, 'groups': []},\n",
       "       'venuePage': {'id': '350356912'}},\n",
       "      'referralId': 'e-0-51df85c9498edb5ea3ad2e2a-12'},\n",
       "     {'reasons': {'count': 0,\n",
       "       'items': [{'summary': 'This spot is popular',\n",
       "         'type': 'general',\n",
       "         'reasonName': 'globalInteractionReason'}]},\n",
       "      'venue': {'id': '4dadcb124df0522cc5622202',\n",
       "       'name': \"Tiny's and the Bar Upstairs\",\n",
       "       'location': {'address': '135 W Broadway',\n",
       "        'crossStreet': 'between Duane St & Thomas St',\n",
       "        'lat': 40.71679304855808,\n",
       "        'lng': -74.00821998878457,\n",
       "        'labeledLatLngs': [{'label': 'display',\n",
       "          'lat': 40.71679304855808,\n",
       "          'lng': -74.00821998878457}],\n",
       "        'distance': 170,\n",
       "        'postalCode': '10013',\n",
       "        'cc': 'US',\n",
       "        'city': 'New York',\n",
       "        'state': 'NY',\n",
       "        'country': 'United States',\n",
       "        'formattedAddress': ['135 W Broadway (between Duane St & Thomas St)',\n",
       "         'New York, NY 10013',\n",
       "         'United States']},\n",
       "       'categories': [{'id': '4bf58dd8d48988d14e941735',\n",
       "         'name': 'American Restaurant',\n",
       "         'pluralName': 'American Restaurants',\n",
       "         'shortName': 'American',\n",
       "         'icon': {'prefix': 'https://ss3.4sqi.net/img/categories_v2/food/default_',\n",
       "          'suffix': '.png'},\n",
       "         'primary': True}],\n",
       "       'photos': {'count': 0, 'groups': []},\n",
       "       'venuePage': {'id': '84453413'}},\n",
       "      'referralId': 'e-0-4dadcb124df0522cc5622202-13'},\n",
       "     {'reasons': {'count': 0,\n",
       "       'items': [{'summary': 'This spot is popular',\n",
       "         'type': 'general',\n",
       "         'reasonName': 'globalInteractionReason'}]},\n",
       "      'venue': {'id': '4a6e331af964a52031d41fe3',\n",
       "       'name': 'Equinox Tribeca',\n",
       "       'location': {'address': '54 Murray St',\n",
       "        'crossStreet': 'at W Broadway',\n",
       "        'lat': 40.71409860726041,\n",
       "        'lng': -74.0096857179283,\n",
       "        'labeledLatLngs': [{'label': 'display',\n",
       "          'lat': 40.71409860726041,\n",
       "          'lng': -74.0096857179283}],\n",
       "        'distance': 154,\n",
       "        'postalCode': '10007',\n",
       "        'cc': 'US',\n",
       "        'city': 'New York',\n",
       "        'state': 'NY',\n",
       "        'country': 'United States',\n",
       "        'formattedAddress': ['54 Murray St (at W Broadway)',\n",
       "         'New York, NY 10007',\n",
       "         'United States']},\n",
       "       'categories': [{'id': '4bf58dd8d48988d176941735',\n",
       "         'name': 'Gym',\n",
       "         'pluralName': 'Gyms',\n",
       "         'shortName': 'Gym',\n",
       "         'icon': {'prefix': 'https://ss3.4sqi.net/img/categories_v2/building/gym_',\n",
       "          'suffix': '.png'},\n",
       "         'primary': True}],\n",
       "       'photos': {'count': 0, 'groups': []}},\n",
       "      'referralId': 'e-0-4a6e331af964a52031d41fe3-14'},\n",
       "     {'reasons': {'count': 0,\n",
       "       'items': [{'summary': 'This spot is popular',\n",
       "         'type': 'general',\n",
       "         'reasonName': 'globalInteractionReason'}]},\n",
       "      'venue': {'id': '3fd66200f964a52083e61ee3',\n",
       "       'name': 'The Odeon',\n",
       "       'location': {'address': '145 W Broadway',\n",
       "        'crossStreet': 'at Thomas St',\n",
       "        'lat': 40.71701011409906,\n",
       "        'lng': -74.00804244562225,\n",
       "        'labeledLatLngs': [{'label': 'display',\n",
       "          'lat': 40.71701011409906,\n",
       "          'lng': -74.00804244562225}],\n",
       "        'distance': 198,\n",
       "        'postalCode': '10013',\n",
       "        'cc': 'US',\n",
       "        'city': 'New York',\n",
       "        'state': 'NY',\n",
       "        'country': 'United States',\n",
       "        'formattedAddress': ['145 W Broadway (at Thomas St)',\n",
       "         'New York, NY 10013',\n",
       "         'United States']},\n",
       "       'categories': [{'id': '4bf58dd8d48988d10c941735',\n",
       "         'name': 'French Restaurant',\n",
       "         'pluralName': 'French Restaurants',\n",
       "         'shortName': 'French',\n",
       "         'icon': {'prefix': 'https://ss3.4sqi.net/img/categories_v2/food/french_',\n",
       "          'suffix': '.png'},\n",
       "         'primary': True}],\n",
       "       'delivery': {'id': '296531',\n",
       "        'url': 'https://www.seamless.com/menu/odeon-delivery-145-w-broadway-ave-new-york/296531?affiliate=1131&utm_source=foursquare-affiliate-network&utm_medium=affiliate&utm_campaign=1131&utm_content=296531',\n",
       "        'provider': {'name': 'seamless',\n",
       "         'icon': {'prefix': 'https://fastly.4sqi.net/img/general/cap/',\n",
       "          'sizes': [40, 50],\n",
       "          'name': '/delivery_provider_seamless_20180129.png'}}},\n",
       "       'photos': {'count': 0, 'groups': []},\n",
       "       'venuePage': {'id': '97281190'}},\n",
       "      'referralId': 'e-0-3fd66200f964a52083e61ee3-15'},\n",
       "     {'reasons': {'count': 0,\n",
       "       'items': [{'summary': 'This spot is popular',\n",
       "         'type': 'general',\n",
       "         'reasonName': 'globalInteractionReason'}]},\n",
       "      'venue': {'id': '4ce2a27cd58c60fc0fa1a76f',\n",
       "       'name': 'Ten Over Ten',\n",
       "       'location': {'address': '112 Reade St',\n",
       "        'lat': 40.71594125566931,\n",
       "        'lng': -74.00872053564494,\n",
       "        'labeledLatLngs': [{'label': 'display',\n",
       "          'lat': 40.71594125566931,\n",
       "          'lng': -74.00872053564494}],\n",
       "        'distance': 68,\n",
       "        'postalCode': '10013',\n",
       "        'cc': 'US',\n",
       "        'city': 'New York',\n",
       "        'state': 'NY',\n",
       "        'country': 'United States',\n",
       "        'formattedAddress': ['112 Reade St',\n",
       "         'New York, NY 10013',\n",
       "         'United States']},\n",
       "       'categories': [{'id': '4f04aa0c2fb6e1c99f3db0b8',\n",
       "         'name': 'Nail Salon',\n",
       "         'pluralName': 'Nail Salons',\n",
       "         'shortName': 'Nail Salon',\n",
       "         'icon': {'prefix': 'https://ss3.4sqi.net/img/categories_v2/shops/nailsalon_',\n",
       "          'suffix': '.png'},\n",
       "         'primary': True}],\n",
       "       'photos': {'count': 0, 'groups': []},\n",
       "       'venuePage': {'id': '80843792'}},\n",
       "      'referralId': 'e-0-4ce2a27cd58c60fc0fa1a76f-16'},\n",
       "     {'reasons': {'count': 0,\n",
       "       'items': [{'summary': 'This spot is popular',\n",
       "         'type': 'general',\n",
       "         'reasonName': 'globalInteractionReason'}]},\n",
       "      'venue': {'id': '545c0436498e798e22ce4b2a',\n",
       "       'name': 'Little Park',\n",
       "       'location': {'address': '85 W Broadway',\n",
       "        'crossStreet': 'at Chambers St',\n",
       "        'lat': 40.715486585249735,\n",
       "        'lng': -74.00913313510836,\n",
       "        'labeledLatLngs': [{'label': 'display',\n",
       "          'lat': 40.715486585249735,\n",
       "          'lng': -74.00913313510836},\n",
       "         {'label': 'entrance', 'lat': 40.715227, 'lng': -74.009263}],\n",
       "        'distance': 29,\n",
       "        'postalCode': '10007',\n",
       "        'cc': 'US',\n",
       "        'city': 'New York',\n",
       "        'state': 'NY',\n",
       "        'country': 'United States',\n",
       "        'formattedAddress': ['85 W Broadway (at Chambers St)',\n",
       "         'New York, NY 10007',\n",
       "         'United States']},\n",
       "       'categories': [{'id': '4bf58dd8d48988d14e941735',\n",
       "         'name': 'American Restaurant',\n",
       "         'pluralName': 'American Restaurants',\n",
       "         'shortName': 'American',\n",
       "         'icon': {'prefix': 'https://ss3.4sqi.net/img/categories_v2/food/default_',\n",
       "          'suffix': '.png'},\n",
       "         'primary': True}],\n",
       "       'photos': {'count': 0, 'groups': []},\n",
       "       'venuePage': {'id': '102902274'}},\n",
       "      'referralId': 'e-0-545c0436498e798e22ce4b2a-17'},\n",
       "     {'reasons': {'count': 0,\n",
       "       'items': [{'summary': 'This spot is popular',\n",
       "         'type': 'general',\n",
       "         'reasonName': 'globalInteractionReason'}]},\n",
       "      'venue': {'id': '5ae28a7b15173e002cef3271',\n",
       "       'name': 'Primo’s',\n",
       "       'location': {'address': '129 Chambers St.',\n",
       "        'crossStreet': 'West Broadway',\n",
       "        'lat': 40.71550092965859,\n",
       "        'lng': -74.00897677392395,\n",
       "        'labeledLatLngs': [{'label': 'display',\n",
       "          'lat': 40.71550092965859,\n",
       "          'lng': -74.00897677392395}],\n",
       "        'distance': 21,\n",
       "        'postalCode': '10007',\n",
       "        'cc': 'US',\n",
       "        'neighborhood': 'Tribeca',\n",
       "        'city': 'New York',\n",
       "        'state': 'NY',\n",
       "        'country': 'United States',\n",
       "        'formattedAddress': ['129 Chambers St. (West Broadway)',\n",
       "         'New York, NY 10007',\n",
       "         'United States']},\n",
       "       'categories': [{'id': '4bf58dd8d48988d11e941735',\n",
       "         'name': 'Cocktail Bar',\n",
       "         'pluralName': 'Cocktail Bars',\n",
       "         'shortName': 'Cocktail',\n",
       "         'icon': {'prefix': 'https://ss3.4sqi.net/img/categories_v2/nightlife/cocktails_',\n",
       "          'suffix': '.png'},\n",
       "         'primary': True}],\n",
       "       'photos': {'count': 0, 'groups': []}},\n",
       "      'referralId': 'e-0-5ae28a7b15173e002cef3271-18'},\n",
       "     {'reasons': {'count': 0,\n",
       "       'items': [{'summary': 'This spot is popular',\n",
       "         'type': 'general',\n",
       "         'reasonName': 'globalInteractionReason'}]},\n",
       "      'venue': {'id': '437bc800f964a520a52a1fe3',\n",
       "       'name': 'Scalini Fedeli',\n",
       "       'location': {'address': '165 Duane St',\n",
       "        'crossStreet': 'at Hudson',\n",
       "        'lat': 40.71722617263501,\n",
       "        'lng': -74.00943297013102,\n",
       "        'labeledLatLngs': [{'label': 'display',\n",
       "          'lat': 40.71722617263501,\n",
       "          'lng': -74.00943297013102}],\n",
       "        'distance': 216,\n",
       "        'postalCode': '10013',\n",
       "        'cc': 'US',\n",
       "        'city': 'New York',\n",
       "        'state': 'NY',\n",
       "        'country': 'United States',\n",
       "        'formattedAddress': ['165 Duane St (at Hudson)',\n",
       "         'New York, NY 10013',\n",
       "         'United States']},\n",
       "       'categories': [{'id': '4bf58dd8d48988d110941735',\n",
       "         'name': 'Italian Restaurant',\n",
       "         'pluralName': 'Italian Restaurants',\n",
       "         'shortName': 'Italian',\n",
       "         'icon': {'prefix': 'https://ss3.4sqi.net/img/categories_v2/food/italian_',\n",
       "          'suffix': '.png'},\n",
       "         'primary': True}],\n",
       "       'photos': {'count': 0, 'groups': []}},\n",
       "      'referralId': 'e-0-437bc800f964a520a52a1fe3-19'},\n",
       "     {'reasons': {'count': 0,\n",
       "       'items': [{'summary': 'This spot is popular',\n",
       "         'type': 'general',\n",
       "         'reasonName': 'globalInteractionReason'}]},\n",
       "      'venue': {'id': '4c3cb549b36ac9285d7a0486',\n",
       "       'name': 'Duane Park',\n",
       "       'location': {'address': 'Duane St',\n",
       "        'crossStreet': 'at Hudson St',\n",
       "        'lat': 40.71717275801168,\n",
       "        'lng': -74.00932869125117,\n",
       "        'labeledLatLngs': [{'label': 'display',\n",
       "          'lat': 40.71717275801168,\n",
       "          'lng': -74.00932869125117}],\n",
       "        'distance': 208,\n",
       "        'cc': 'US',\n",
       "        'city': 'New York',\n",
       "        'state': 'NY',\n",
       "        'country': 'United States',\n",
       "        'formattedAddress': ['Duane St (at Hudson St)',\n",
       "         'New York, NY',\n",
       "         'United States']},\n",
       "       'categories': [{'id': '4bf58dd8d48988d163941735',\n",
       "         'name': 'Park',\n",
       "         'pluralName': 'Parks',\n",
       "         'shortName': 'Park',\n",
       "         'icon': {'prefix': 'https://ss3.4sqi.net/img/categories_v2/parks_outdoors/park_',\n",
       "          'suffix': '.png'},\n",
       "         'primary': True}],\n",
       "       'photos': {'count': 0, 'groups': []}},\n",
       "      'referralId': 'e-0-4c3cb549b36ac9285d7a0486-20'},\n",
       "     {'reasons': {'count': 0,\n",
       "       'items': [{'summary': 'This spot is popular',\n",
       "         'type': 'general',\n",
       "         'reasonName': 'globalInteractionReason'}]},\n",
       "      'venue': {'id': '4a4baaf8f964a52091ac1fe3',\n",
       "       'name': \"Zucker's Bagels & Smoked Fish\",\n",
       "       'location': {'address': '146 Chambers St',\n",
       "        'crossStreet': 'btwn W. Broadway & Greenwich St',\n",
       "        'lat': 40.71558,\n",
       "        'lng': -74.00985,\n",
       "        'labeledLatLngs': [{'label': 'display',\n",
       "          'lat': 40.71558,\n",
       "          'lng': -74.00985}],\n",
       "        'distance': 88,\n",
       "        'postalCode': '10007',\n",
       "        'cc': 'US',\n",
       "        'city': 'New York',\n",
       "        'state': 'NY',\n",
       "        'country': 'United States',\n",
       "        'formattedAddress': ['146 Chambers St (btwn W. Broadway & Greenwich St)',\n",
       "         'New York, NY 10007',\n",
       "         'United States']},\n",
       "       'categories': [{'id': '4bf58dd8d48988d179941735',\n",
       "         'name': 'Bagel Shop',\n",
       "         'pluralName': 'Bagel Shops',\n",
       "         'shortName': 'Bagels',\n",
       "         'icon': {'prefix': 'https://ss3.4sqi.net/img/categories_v2/food/bagels_',\n",
       "          'suffix': '.png'},\n",
       "         'primary': True}],\n",
       "       'delivery': {'id': '277435',\n",
       "        'url': 'https://www.seamless.com/menu/zuckers-bagels--smoked-fish-146-chambers-st-new-york/277435?affiliate=1131&utm_source=foursquare-affiliate-network&utm_medium=affiliate&utm_campaign=1131&utm_content=277435',\n",
       "        'provider': {'name': 'seamless',\n",
       "         'icon': {'prefix': 'https://fastly.4sqi.net/img/general/cap/',\n",
       "          'sizes': [40, 50],\n",
       "          'name': '/delivery_provider_seamless_20180129.png'}}},\n",
       "       'photos': {'count': 0, 'groups': []}},\n",
       "      'referralId': 'e-0-4a4baaf8f964a52091ac1fe3-21'},\n",
       "     {'reasons': {'count': 0,\n",
       "       'items': [{'summary': 'This spot is popular',\n",
       "         'type': 'general',\n",
       "         'reasonName': 'globalInteractionReason'}]},\n",
       "      'venue': {'id': '4ea0afbf9adf1e334e4cc0e6',\n",
       "       'name': 'Laughing Man Coffee & Tea',\n",
       "       'location': {'address': '184 Duane St',\n",
       "        'crossStreet': 'btwn Greenwich & Hudson St.',\n",
       "        'lat': 40.7173944529165,\n",
       "        'lng': -74.01010324607125,\n",
       "        'labeledLatLngs': [{'label': 'display',\n",
       "          'lat': 40.7173944529165,\n",
       "          'lng': -74.01010324607125}],\n",
       "        'distance': 252,\n",
       "        'postalCode': '10013',\n",
       "        'cc': 'US',\n",
       "        'neighborhood': 'Tribeca',\n",
       "        'city': 'New York',\n",
       "        'state': 'NY',\n",
       "        'country': 'United States',\n",
       "        'formattedAddress': ['184 Duane St (btwn Greenwich & Hudson St.)',\n",
       "         'New York, NY 10013',\n",
       "         'United States']},\n",
       "       'categories': [{'id': '4bf58dd8d48988d1e0931735',\n",
       "         'name': 'Coffee Shop',\n",
       "         'pluralName': 'Coffee Shops',\n",
       "         'shortName': 'Coffee Shop',\n",
       "         'icon': {'prefix': 'https://ss3.4sqi.net/img/categories_v2/food/coffeeshop_',\n",
       "          'suffix': '.png'},\n",
       "         'primary': True}],\n",
       "       'photos': {'count': 0, 'groups': []},\n",
       "       'venuePage': {'id': '73541580'}},\n",
       "      'referralId': 'e-0-4ea0afbf9adf1e334e4cc0e6-22'},\n",
       "     {'reasons': {'count': 0,\n",
       "       'items': [{'summary': 'This spot is popular',\n",
       "         'type': 'general',\n",
       "         'reasonName': 'globalInteractionReason'}]},\n",
       "      'venue': {'id': '4a9bcc2ff964a5203b3520e3',\n",
       "       'name': 'Washington Market Park',\n",
       "       'location': {'address': 'Greenwich St',\n",
       "        'crossStreet': 'at Reade St',\n",
       "        'lat': 40.71704598853704,\n",
       "        'lng': -74.01109457015991,\n",
       "        'labeledLatLngs': [{'label': 'display',\n",
       "          'lat': 40.71704598853704,\n",
       "          'lng': -74.01109457015991}],\n",
       "        'distance': 268,\n",
       "        'cc': 'US',\n",
       "        'city': 'New York',\n",
       "        'state': 'NY',\n",
       "        'country': 'United States',\n",
       "        'formattedAddress': ['Greenwich St (at Reade St)',\n",
       "         'New York, NY',\n",
       "         'United States']},\n",
       "       'categories': [{'id': '4bf58dd8d48988d1e7941735',\n",
       "         'name': 'Playground',\n",
       "         'pluralName': 'Playgrounds',\n",
       "         'shortName': 'Playground',\n",
       "         'icon': {'prefix': 'https://ss3.4sqi.net/img/categories_v2/parks_outdoors/playground_',\n",
       "          'suffix': '.png'},\n",
       "         'primary': True}],\n",
       "       'photos': {'count': 0, 'groups': []}},\n",
       "      'referralId': 'e-0-4a9bcc2ff964a5203b3520e3-23'},\n",
       "     {'reasons': {'count': 0,\n",
       "       'items': [{'summary': 'This spot is popular',\n",
       "         'type': 'general',\n",
       "         'reasonName': 'globalInteractionReason'}]},\n",
       "      'venue': {'id': '49efcc88f964a52006691fe3',\n",
       "       'name': 'Smyth Hotel',\n",
       "       'location': {'address': '85 W Broadway',\n",
       "        'crossStreet': 'Chambers St',\n",
       "        'lat': 40.7151439,\n",
       "        'lng': -74.0091826,\n",
       "        'labeledLatLngs': [{'label': 'display',\n",
       "          'lat': 40.7151439,\n",
       "          'lng': -74.0091826}],\n",
       "        'distance': 35,\n",
       "        'postalCode': '10007',\n",
       "        'cc': 'US',\n",
       "        'city': 'New York',\n",
       "        'state': 'NY',\n",
       "        'country': 'United States',\n",
       "        'formattedAddress': ['85 W Broadway (Chambers St)',\n",
       "         'New York, NY 10007',\n",
       "         'United States']},\n",
       "       'categories': [{'id': '4bf58dd8d48988d1fa931735',\n",
       "         'name': 'Hotel',\n",
       "         'pluralName': 'Hotels',\n",
       "         'shortName': 'Hotel',\n",
       "         'icon': {'prefix': 'https://ss3.4sqi.net/img/categories_v2/travel/hotel_',\n",
       "          'suffix': '.png'},\n",
       "         'primary': True}],\n",
       "       'photos': {'count': 0, 'groups': []}},\n",
       "      'referralId': 'e-0-49efcc88f964a52006691fe3-24'},\n",
       "     {'reasons': {'count': 0,\n",
       "       'items': [{'summary': 'This spot is popular',\n",
       "         'type': 'general',\n",
       "         'reasonName': 'globalInteractionReason'}]},\n",
       "      'venue': {'id': '49ccd495f964a52091591fe3',\n",
       "       'name': 'Kaffe 1668',\n",
       "       'location': {'address': '275 Greenwich St',\n",
       "        'crossStreet': 'at Murray St',\n",
       "        'lat': 40.71504512558996,\n",
       "        'lng': -74.0115087102821,\n",
       "        'labeledLatLngs': [{'label': 'display',\n",
       "          'lat': 40.71504512558996,\n",
       "          'lng': -74.0115087102821}],\n",
       "        'distance': 226,\n",
       "        'postalCode': '10007',\n",
       "        'cc': 'US',\n",
       "        'city': 'New York',\n",
       "        'state': 'NY',\n",
       "        'country': 'United States',\n",
       "        'formattedAddress': ['275 Greenwich St (at Murray St)',\n",
       "         'New York, NY 10007',\n",
       "         'United States']},\n",
       "       'categories': [{'id': '4bf58dd8d48988d1e0931735',\n",
       "         'name': 'Coffee Shop',\n",
       "         'pluralName': 'Coffee Shops',\n",
       "         'shortName': 'Coffee Shop',\n",
       "         'icon': {'prefix': 'https://ss3.4sqi.net/img/categories_v2/food/coffeeshop_',\n",
       "          'suffix': '.png'},\n",
       "         'primary': True}],\n",
       "       'photos': {'count': 0, 'groups': []},\n",
       "       'venuePage': {'id': '43231093'}},\n",
       "      'referralId': 'e-0-49ccd495f964a52091591fe3-25'},\n",
       "     {'reasons': {'count': 0,\n",
       "       'items': [{'summary': 'This spot is popular',\n",
       "         'type': 'general',\n",
       "         'reasonName': 'globalInteractionReason'}]},\n",
       "      'venue': {'id': '4a8c4baef964a520960d20e3',\n",
       "       'name': 'Tribeca Greenmarket',\n",
       "       'location': {'address': 'Greenwich St',\n",
       "        'crossStreet': 'btw Chambers St & Duane St',\n",
       "        'lat': 40.716802033574126,\n",
       "        'lng': -74.01087999343872,\n",
       "        'labeledLatLngs': [{'label': 'display',\n",
       "          'lat': 40.716802033574126,\n",
       "          'lng': -74.01087999343872}],\n",
       "        'distance': 236,\n",
       "        'postalCode': '10013',\n",
       "        'cc': 'US',\n",
       "        'city': 'New York',\n",
       "        'state': 'NY',\n",
       "        'country': 'United States',\n",
       "        'formattedAddress': ['Greenwich St (btw Chambers St & Duane St)',\n",
       "         'New York, NY 10013',\n",
       "         'United States']},\n",
       "       'categories': [{'id': '4bf58dd8d48988d1fa941735',\n",
       "         'name': 'Farmers Market',\n",
       "         'pluralName': 'Farmers Markets',\n",
       "         'shortName': \"Farmer's Market\",\n",
       "         'icon': {'prefix': 'https://ss3.4sqi.net/img/categories_v2/shops/food_farmersmarket_',\n",
       "          'suffix': '.png'},\n",
       "         'primary': True}],\n",
       "       'photos': {'count': 0, 'groups': []}},\n",
       "      'referralId': 'e-0-4a8c4baef964a520960d20e3-26'},\n",
       "     {'reasons': {'count': 0,\n",
       "       'items': [{'summary': 'This spot is popular',\n",
       "         'type': 'general',\n",
       "         'reasonName': 'globalInteractionReason'}]},\n",
       "      'venue': {'id': '58a253c830ecc66c9e5b40a0',\n",
       "       'name': 'The Class by Taryn Toomey',\n",
       "       'location': {'address': '22 Park Pl',\n",
       "        'lat': 40.71275251771485,\n",
       "        'lng': -74.00873355601571,\n",
       "        'labeledLatLngs': [{'label': 'display',\n",
       "          'lat': 40.71275251771485,\n",
       "          'lng': -74.00873355601571},\n",
       "         {'label': 'entrance', 'lat': 40.712781, 'lng': -74.008548}],\n",
       "        'distance': 287,\n",
       "        'postalCode': '10007',\n",
       "        'cc': 'US',\n",
       "        'city': 'New York',\n",
       "        'state': 'NY',\n",
       "        'country': 'United States',\n",
       "        'formattedAddress': ['22 Park Pl',\n",
       "         'New York, NY 10007',\n",
       "         'United States']},\n",
       "       'categories': [{'id': '4bf58dd8d48988d175941735',\n",
       "         'name': 'Gym / Fitness Center',\n",
       "         'pluralName': 'Gyms or Fitness Centers',\n",
       "         'shortName': 'Gym / Fitness',\n",
       "         'icon': {'prefix': 'https://ss3.4sqi.net/img/categories_v2/building/gym_',\n",
       "          'suffix': '.png'},\n",
       "         'primary': True}],\n",
       "       'photos': {'count': 0, 'groups': []}},\n",
       "      'referralId': 'e-0-58a253c830ecc66c9e5b40a0-27'},\n",
       "     {'reasons': {'count': 0,\n",
       "       'items': [{'summary': 'This spot is popular',\n",
       "         'type': 'general',\n",
       "         'reasonName': 'globalInteractionReason'}]},\n",
       "      'venue': {'id': '4a31891bf964a520ed991fe3',\n",
       "       'name': 'Max',\n",
       "       'location': {'address': '134 W Broadway',\n",
       "        'crossStreet': 'at Greenwich St',\n",
       "        'lat': 40.716832,\n",
       "        'lng': -74.008469,\n",
       "        'labeledLatLngs': [{'label': 'display',\n",
       "          'lat': 40.716832,\n",
       "          'lng': -74.008469}],\n",
       "        'distance': 169,\n",
       "        'postalCode': '10013',\n",
       "        'cc': 'US',\n",
       "        'neighborhood': 'Tribeca',\n",
       "        'city': 'New York',\n",
       "        'state': 'NY',\n",
       "        'country': 'United States',\n",
       "        'formattedAddress': ['134 W Broadway (at Greenwich St)',\n",
       "         'New York, NY 10013',\n",
       "         'United States']},\n",
       "       'categories': [{'id': '4bf58dd8d48988d110941735',\n",
       "         'name': 'Italian Restaurant',\n",
       "         'pluralName': 'Italian Restaurants',\n",
       "         'shortName': 'Italian',\n",
       "         'icon': {'prefix': 'https://ss3.4sqi.net/img/categories_v2/food/italian_',\n",
       "          'suffix': '.png'},\n",
       "         'primary': True}],\n",
       "       'delivery': {'id': '1113051',\n",
       "        'url': 'https://www.seamless.com/menu/max-restaurant-134-w-broadway-new-york/1113051?affiliate=1131&utm_source=foursquare-affiliate-network&utm_medium=affiliate&utm_campaign=1131&utm_content=1113051',\n",
       "        'provider': {'name': 'seamless',\n",
       "         'icon': {'prefix': 'https://fastly.4sqi.net/img/general/cap/',\n",
       "          'sizes': [40, 50],\n",
       "          'name': '/delivery_provider_seamless_20180129.png'}}},\n",
       "       'photos': {'count': 0, 'groups': []}},\n",
       "      'referralId': 'e-0-4a31891bf964a520ed991fe3-28'},\n",
       "     {'reasons': {'count': 0,\n",
       "       'items': [{'summary': 'This spot is popular',\n",
       "         'type': 'general',\n",
       "         'reasonName': 'globalInteractionReason'}]},\n",
       "      'venue': {'id': '52001eed498e9ac16ca5e20b',\n",
       "       'name': 'CrossFit 212 TriBeCa',\n",
       "       'location': {'address': '281 Broadway',\n",
       "        'lat': 40.714537431170484,\n",
       "        'lng': -74.00599852611592,\n",
       "        'labeledLatLngs': [{'label': 'display',\n",
       "          'lat': 40.714537431170484,\n",
       "          'lng': -74.00599852611592}],\n",
       "        'distance': 256,\n",
       "        'postalCode': '10007',\n",
       "        'cc': 'US',\n",
       "        'city': 'New York',\n",
       "        'state': 'NY',\n",
       "        'country': 'United States',\n",
       "        'formattedAddress': ['281 Broadway',\n",
       "         'New York, NY 10007',\n",
       "         'United States']},\n",
       "       'categories': [{'id': '4bf58dd8d48988d176941735',\n",
       "         'name': 'Gym',\n",
       "         'pluralName': 'Gyms',\n",
       "         'shortName': 'Gym',\n",
       "         'icon': {'prefix': 'https://ss3.4sqi.net/img/categories_v2/building/gym_',\n",
       "          'suffix': '.png'},\n",
       "         'primary': True}],\n",
       "       'photos': {'count': 0, 'groups': []}},\n",
       "      'referralId': 'e-0-52001eed498e9ac16ca5e20b-29'}]}]}}"
      ]
     },
     "execution_count": 57,
     "metadata": {},
     "output_type": "execute_result"
    }
   ],
   "source": [
    "results"
   ]
  },
  {
   "cell_type": "code",
   "execution_count": null,
   "metadata": {},
   "outputs": [],
   "source": []
  },
  {
   "cell_type": "code",
   "execution_count": null,
   "metadata": {},
   "outputs": [],
   "source": []
  },
  {
   "cell_type": "code",
   "execution_count": null,
   "metadata": {},
   "outputs": [],
   "source": []
  },
  {
   "cell_type": "markdown",
   "metadata": {
    "button": false,
    "new_sheet": false,
    "run_control": {
     "read_only": false
    }
   },
   "source": [
    "#### Get relevant part of JSON"
   ]
  },
  {
   "cell_type": "code",
   "execution_count": 56,
   "metadata": {
    "button": false,
    "new_sheet": false,
    "run_control": {
     "read_only": false
    }
   },
   "outputs": [
    {
     "data": {
      "text/plain": [
       "{'reasons': {'count': 0,\n",
       "  'items': [{'summary': 'This spot is popular',\n",
       "    'type': 'general',\n",
       "    'reasonName': 'globalInteractionReason'}]},\n",
       " 'venue': {'id': '5d5f24ec09484500079aee00',\n",
       "  'name': 'Los Tacos No. 1',\n",
       "  'location': {'address': '136 Church St',\n",
       "   'lat': 40.714267,\n",
       "   'lng': -74.008756,\n",
       "   'labeledLatLngs': [{'label': 'display',\n",
       "     'lat': 40.714267,\n",
       "     'lng': -74.008756}],\n",
       "   'distance': 119,\n",
       "   'postalCode': '10007',\n",
       "   'cc': 'US',\n",
       "   'city': 'New York',\n",
       "   'state': 'NY',\n",
       "   'country': 'United States',\n",
       "   'formattedAddress': ['136 Church St',\n",
       "    'New York, NY 10007',\n",
       "    'United States']},\n",
       "  'categories': [{'id': '4bf58dd8d48988d151941735',\n",
       "    'name': 'Taco Place',\n",
       "    'pluralName': 'Taco Places',\n",
       "    'shortName': 'Tacos',\n",
       "    'icon': {'prefix': 'https://ss3.4sqi.net/img/categories_v2/food/taco_',\n",
       "     'suffix': '.png'},\n",
       "    'primary': True}],\n",
       "  'photos': {'count': 0, 'groups': []}},\n",
       " 'referralId': 'e-0-5d5f24ec09484500079aee00-0'}"
      ]
     },
     "execution_count": 56,
     "metadata": {},
     "output_type": "execute_result"
    }
   ],
   "source": [
    "items = results['response']['groups'][0]['items']\n",
    "items[0]"
   ]
  },
  {
   "cell_type": "code",
   "execution_count": null,
   "metadata": {},
   "outputs": [],
   "source": []
  },
  {
   "cell_type": "code",
   "execution_count": null,
   "metadata": {},
   "outputs": [],
   "source": []
  },
  {
   "cell_type": "markdown",
   "metadata": {
    "button": false,
    "new_sheet": false,
    "run_control": {
     "read_only": false
    }
   },
   "source": [
    "#### Process JSON and convert it to a clean dataframe"
   ]
  },
  {
   "cell_type": "code",
   "execution_count": 59,
   "metadata": {
    "button": false,
    "new_sheet": false,
    "run_control": {
     "read_only": false
    },
    "scrolled": false
   },
   "outputs": [
    {
     "data": {
      "text/html": [
       "<div>\n",
       "<style scoped>\n",
       "    .dataframe tbody tr th:only-of-type {\n",
       "        vertical-align: middle;\n",
       "    }\n",
       "\n",
       "    .dataframe tbody tr th {\n",
       "        vertical-align: top;\n",
       "    }\n",
       "\n",
       "    .dataframe thead th {\n",
       "        text-align: right;\n",
       "    }\n",
       "</style>\n",
       "<table border=\"1\" class=\"dataframe\">\n",
       "  <thead>\n",
       "    <tr style=\"text-align: right;\">\n",
       "      <th></th>\n",
       "      <th>name</th>\n",
       "      <th>categories</th>\n",
       "      <th>address</th>\n",
       "      <th>lat</th>\n",
       "      <th>lng</th>\n",
       "      <th>labeledLatLngs</th>\n",
       "      <th>distance</th>\n",
       "      <th>postalCode</th>\n",
       "      <th>cc</th>\n",
       "      <th>city</th>\n",
       "      <th>state</th>\n",
       "      <th>country</th>\n",
       "      <th>formattedAddress</th>\n",
       "      <th>crossStreet</th>\n",
       "      <th>neighborhood</th>\n",
       "      <th>id</th>\n",
       "    </tr>\n",
       "  </thead>\n",
       "  <tbody>\n",
       "    <tr>\n",
       "      <th>0</th>\n",
       "      <td>Los Tacos No. 1</td>\n",
       "      <td>Taco Place</td>\n",
       "      <td>136 Church St</td>\n",
       "      <td>40.714267</td>\n",
       "      <td>-74.008756</td>\n",
       "      <td>[{'label': 'display', 'lat': 40.714267, 'lng': -74.008756}]</td>\n",
       "      <td>119</td>\n",
       "      <td>10007</td>\n",
       "      <td>US</td>\n",
       "      <td>New York</td>\n",
       "      <td>NY</td>\n",
       "      <td>United States</td>\n",
       "      <td>[136 Church St, New York, NY 10007, United States]</td>\n",
       "      <td>NaN</td>\n",
       "      <td>NaN</td>\n",
       "      <td>5d5f24ec09484500079aee00</td>\n",
       "    </tr>\n",
       "    <tr>\n",
       "      <th>1</th>\n",
       "      <td>Korin</td>\n",
       "      <td>Furniture / Home Store</td>\n",
       "      <td>57 Warren St</td>\n",
       "      <td>40.714824</td>\n",
       "      <td>-74.009404</td>\n",
       "      <td>[{'label': 'display', 'lat': 40.71482437714839, 'lng': -74.00940425461492}, {'label': 'entrance', 'lat': 40.714727, 'lng': -74.009399}]</td>\n",
       "      <td>73</td>\n",
       "      <td>10007</td>\n",
       "      <td>US</td>\n",
       "      <td>New York</td>\n",
       "      <td>NY</td>\n",
       "      <td>United States</td>\n",
       "      <td>[57 Warren St (Church St), New York, NY 10007, United States]</td>\n",
       "      <td>Church St</td>\n",
       "      <td>Tribeca</td>\n",
       "      <td>4af5d65ff964a52091fd21e3</td>\n",
       "    </tr>\n",
       "    <tr>\n",
       "      <th>2</th>\n",
       "      <td>Juice Press</td>\n",
       "      <td>Vegetarian / Vegan Restaurant</td>\n",
       "      <td>83 Murray St</td>\n",
       "      <td>40.714788</td>\n",
       "      <td>-74.011132</td>\n",
       "      <td>[{'label': 'display', 'lat': 40.71478769908051, 'lng': -74.0111317502157}]</td>\n",
       "      <td>202</td>\n",
       "      <td>10007</td>\n",
       "      <td>US</td>\n",
       "      <td>New York</td>\n",
       "      <td>NY</td>\n",
       "      <td>United States</td>\n",
       "      <td>[83 Murray St (btwn Greenwich St &amp; W Broadway), New York, NY 10007, United States]</td>\n",
       "      <td>btwn Greenwich St &amp; W Broadway</td>\n",
       "      <td>NaN</td>\n",
       "      <td>54148bc6498ea7bb8c05b70a</td>\n",
       "    </tr>\n",
       "    <tr>\n",
       "      <th>3</th>\n",
       "      <td>Takahachi Bakery</td>\n",
       "      <td>Bakery</td>\n",
       "      <td>25 Murray St</td>\n",
       "      <td>40.713653</td>\n",
       "      <td>-74.008804</td>\n",
       "      <td>[{'label': 'display', 'lat': 40.713652845301894, 'lng': -74.0088038953017}, {'label': 'entrance', 'lat': 40.713716, 'lng': -74.008443}]</td>\n",
       "      <td>187</td>\n",
       "      <td>10007</td>\n",
       "      <td>US</td>\n",
       "      <td>New York</td>\n",
       "      <td>NY</td>\n",
       "      <td>United States</td>\n",
       "      <td>[25 Murray St (at Church St), New York, NY 10007, United States]</td>\n",
       "      <td>at Church St</td>\n",
       "      <td>NaN</td>\n",
       "      <td>4c154c9a77cea593c401d260</td>\n",
       "    </tr>\n",
       "    <tr>\n",
       "      <th>4</th>\n",
       "      <td>Chambers Street Wines</td>\n",
       "      <td>Wine Shop</td>\n",
       "      <td>148 Chambers St</td>\n",
       "      <td>40.715773</td>\n",
       "      <td>-74.009718</td>\n",
       "      <td>[{'label': 'display', 'lat': 40.715773063928374, 'lng': -74.00971823312332}, {'label': 'entrance', 'lat': 40.715696, 'lng': -74.00988}]</td>\n",
       "      <td>88</td>\n",
       "      <td>10007</td>\n",
       "      <td>US</td>\n",
       "      <td>New York</td>\n",
       "      <td>NY</td>\n",
       "      <td>United States</td>\n",
       "      <td>[148 Chambers St (btwn West Broadway &amp; Hudson St), New York, NY 10007, United States]</td>\n",
       "      <td>btwn West Broadway &amp; Hudson St</td>\n",
       "      <td>NaN</td>\n",
       "      <td>4adcf23cf964a520cc6221e3</td>\n",
       "    </tr>\n",
       "    <tr>\n",
       "      <th>5</th>\n",
       "      <td>Takahachi</td>\n",
       "      <td>Sushi Restaurant</td>\n",
       "      <td>145 Duane St</td>\n",
       "      <td>40.716526</td>\n",
       "      <td>-74.008101</td>\n",
       "      <td>[{'label': 'display', 'lat': 40.71652647412374, 'lng': -74.00810108466207}, {'label': 'entrance', 'lat': 40.716508, 'lng': -74.007989}]</td>\n",
       "      <td>146</td>\n",
       "      <td>10013</td>\n",
       "      <td>US</td>\n",
       "      <td>New York</td>\n",
       "      <td>NY</td>\n",
       "      <td>United States</td>\n",
       "      <td>[145 Duane St (btwn W Broadway &amp; Church St), New York, NY 10013, United States]</td>\n",
       "      <td>btwn W Broadway &amp; Church St</td>\n",
       "      <td>NaN</td>\n",
       "      <td>4a8f2f39f964a520471420e3</td>\n",
       "    </tr>\n",
       "    <tr>\n",
       "      <th>6</th>\n",
       "      <td>Restaurant Marc Forgione</td>\n",
       "      <td>New American Restaurant</td>\n",
       "      <td>134 Reade St</td>\n",
       "      <td>40.716380</td>\n",
       "      <td>-74.009629</td>\n",
       "      <td>[{'label': 'display', 'lat': 40.71637984317071, 'lng': -74.00962933453428}]</td>\n",
       "      <td>133</td>\n",
       "      <td>10013</td>\n",
       "      <td>US</td>\n",
       "      <td>New York</td>\n",
       "      <td>NY</td>\n",
       "      <td>United States</td>\n",
       "      <td>[134 Reade St (btwn Hudson and Greenwich St), New York, NY 10013, United States]</td>\n",
       "      <td>btwn Hudson and Greenwich St</td>\n",
       "      <td>NaN</td>\n",
       "      <td>48510cf9f964a520a5501fe3</td>\n",
       "    </tr>\n",
       "    <tr>\n",
       "      <th>7</th>\n",
       "      <td>Exceed Physical Culture</td>\n",
       "      <td>Gym / Fitness Center</td>\n",
       "      <td>97 Reade St</td>\n",
       "      <td>40.715629</td>\n",
       "      <td>-74.007992</td>\n",
       "      <td>[{'label': 'display', 'lat': 40.7156286200256, 'lng': -74.0079922583853}, {'label': 'entrance', 'lat': 40.715589, 'lng': -74.008105}]</td>\n",
       "      <td>79</td>\n",
       "      <td>10013</td>\n",
       "      <td>US</td>\n",
       "      <td>New York</td>\n",
       "      <td>NY</td>\n",
       "      <td>United States</td>\n",
       "      <td>[97 Reade St (bet W Broadway &amp; Church St), New York, NY 10013, United States]</td>\n",
       "      <td>bet W Broadway &amp; Church St</td>\n",
       "      <td>Tribeca</td>\n",
       "      <td>53910ac3498e57a5dc0eb160</td>\n",
       "    </tr>\n",
       "    <tr>\n",
       "      <th>8</th>\n",
       "      <td>Lekka Burger</td>\n",
       "      <td>Burger Joint</td>\n",
       "      <td>81 Warren St</td>\n",
       "      <td>40.715246</td>\n",
       "      <td>-74.010559</td>\n",
       "      <td>[{'label': 'display', 'lat': 40.715246, 'lng': -74.010559}]</td>\n",
       "      <td>144</td>\n",
       "      <td>10007</td>\n",
       "      <td>US</td>\n",
       "      <td>New York</td>\n",
       "      <td>NY</td>\n",
       "      <td>United States</td>\n",
       "      <td>[81 Warren St (btw Greenwich &amp; West Broadway), New York, NY 10007, United States]</td>\n",
       "      <td>btw Greenwich &amp; West Broadway</td>\n",
       "      <td>NaN</td>\n",
       "      <td>5dc6f6a5ea8dfb00080f6faa</td>\n",
       "    </tr>\n",
       "    <tr>\n",
       "      <th>9</th>\n",
       "      <td>Nish Nūsh</td>\n",
       "      <td>Falafel Restaurant</td>\n",
       "      <td>88 Reade St</td>\n",
       "      <td>40.715537</td>\n",
       "      <td>-74.007725</td>\n",
       "      <td>[{'label': 'display', 'lat': 40.71553710116416, 'lng': -74.00772452925565}, {'label': 'entrance', 'lat': 40.715615, 'lng': -74.00773}]</td>\n",
       "      <td>97</td>\n",
       "      <td>10013</td>\n",
       "      <td>US</td>\n",
       "      <td>New York</td>\n",
       "      <td>NY</td>\n",
       "      <td>United States</td>\n",
       "      <td>[88 Reade St (at Church St), New York, NY 10013, United States]</td>\n",
       "      <td>at Church St</td>\n",
       "      <td>NaN</td>\n",
       "      <td>50ba9119e4b071a4bae6dc10</td>\n",
       "    </tr>\n",
       "  </tbody>\n",
       "</table>\n",
       "</div>"
      ],
      "text/plain": [
       "                       name                     categories          address  \\\n",
       "0  Los Tacos No. 1           Taco Place                     136 Church St     \n",
       "1  Korin                     Furniture / Home Store         57 Warren St      \n",
       "2  Juice Press               Vegetarian / Vegan Restaurant  83 Murray St      \n",
       "3  Takahachi Bakery          Bakery                         25 Murray St      \n",
       "4  Chambers Street Wines     Wine Shop                      148 Chambers St   \n",
       "5  Takahachi                 Sushi Restaurant               145 Duane St      \n",
       "6  Restaurant Marc Forgione  New American Restaurant        134 Reade St      \n",
       "7  Exceed Physical Culture   Gym / Fitness Center           97 Reade St       \n",
       "8  Lekka Burger              Burger Joint                   81 Warren St      \n",
       "9  Nish Nūsh                 Falafel Restaurant             88 Reade St       \n",
       "\n",
       "         lat        lng  \\\n",
       "0  40.714267 -74.008756   \n",
       "1  40.714824 -74.009404   \n",
       "2  40.714788 -74.011132   \n",
       "3  40.713653 -74.008804   \n",
       "4  40.715773 -74.009718   \n",
       "5  40.716526 -74.008101   \n",
       "6  40.716380 -74.009629   \n",
       "7  40.715629 -74.007992   \n",
       "8  40.715246 -74.010559   \n",
       "9  40.715537 -74.007725   \n",
       "\n",
       "                                                                                                                            labeledLatLngs  \\\n",
       "0  [{'label': 'display', 'lat': 40.714267, 'lng': -74.008756}]                                                                               \n",
       "1  [{'label': 'display', 'lat': 40.71482437714839, 'lng': -74.00940425461492}, {'label': 'entrance', 'lat': 40.714727, 'lng': -74.009399}]   \n",
       "2  [{'label': 'display', 'lat': 40.71478769908051, 'lng': -74.0111317502157}]                                                                \n",
       "3  [{'label': 'display', 'lat': 40.713652845301894, 'lng': -74.0088038953017}, {'label': 'entrance', 'lat': 40.713716, 'lng': -74.008443}]   \n",
       "4  [{'label': 'display', 'lat': 40.715773063928374, 'lng': -74.00971823312332}, {'label': 'entrance', 'lat': 40.715696, 'lng': -74.00988}]   \n",
       "5  [{'label': 'display', 'lat': 40.71652647412374, 'lng': -74.00810108466207}, {'label': 'entrance', 'lat': 40.716508, 'lng': -74.007989}]   \n",
       "6  [{'label': 'display', 'lat': 40.71637984317071, 'lng': -74.00962933453428}]                                                               \n",
       "7  [{'label': 'display', 'lat': 40.7156286200256, 'lng': -74.0079922583853}, {'label': 'entrance', 'lat': 40.715589, 'lng': -74.008105}]     \n",
       "8  [{'label': 'display', 'lat': 40.715246, 'lng': -74.010559}]                                                                               \n",
       "9  [{'label': 'display', 'lat': 40.71553710116416, 'lng': -74.00772452925565}, {'label': 'entrance', 'lat': 40.715615, 'lng': -74.00773}]    \n",
       "\n",
       "   distance postalCode  cc      city state        country  \\\n",
       "0  119       10007      US  New York  NY    United States   \n",
       "1  73        10007      US  New York  NY    United States   \n",
       "2  202       10007      US  New York  NY    United States   \n",
       "3  187       10007      US  New York  NY    United States   \n",
       "4  88        10007      US  New York  NY    United States   \n",
       "5  146       10013      US  New York  NY    United States   \n",
       "6  133       10013      US  New York  NY    United States   \n",
       "7  79        10013      US  New York  NY    United States   \n",
       "8  144       10007      US  New York  NY    United States   \n",
       "9  97        10013      US  New York  NY    United States   \n",
       "\n",
       "                                                                        formattedAddress  \\\n",
       "0  [136 Church St, New York, NY 10007, United States]                                      \n",
       "1  [57 Warren St (Church St), New York, NY 10007, United States]                           \n",
       "2  [83 Murray St (btwn Greenwich St & W Broadway), New York, NY 10007, United States]      \n",
       "3  [25 Murray St (at Church St), New York, NY 10007, United States]                        \n",
       "4  [148 Chambers St (btwn West Broadway & Hudson St), New York, NY 10007, United States]   \n",
       "5  [145 Duane St (btwn W Broadway & Church St), New York, NY 10013, United States]         \n",
       "6  [134 Reade St (btwn Hudson and Greenwich St), New York, NY 10013, United States]        \n",
       "7  [97 Reade St (bet W Broadway & Church St), New York, NY 10013, United States]           \n",
       "8  [81 Warren St (btw Greenwich & West Broadway), New York, NY 10007, United States]       \n",
       "9  [88 Reade St (at Church St), New York, NY 10013, United States]                         \n",
       "\n",
       "                      crossStreet neighborhood                        id  \n",
       "0  NaN                             NaN          5d5f24ec09484500079aee00  \n",
       "1  Church St                       Tribeca      4af5d65ff964a52091fd21e3  \n",
       "2  btwn Greenwich St & W Broadway  NaN          54148bc6498ea7bb8c05b70a  \n",
       "3  at Church St                    NaN          4c154c9a77cea593c401d260  \n",
       "4  btwn West Broadway & Hudson St  NaN          4adcf23cf964a520cc6221e3  \n",
       "5  btwn W Broadway & Church St     NaN          4a8f2f39f964a520471420e3  \n",
       "6  btwn Hudson and Greenwich St    NaN          48510cf9f964a520a5501fe3  \n",
       "7  bet W Broadway & Church St      Tribeca      53910ac3498e57a5dc0eb160  \n",
       "8  btw Greenwich & West Broadway   NaN          5dc6f6a5ea8dfb00080f6faa  \n",
       "9  at Church St                    NaN          50ba9119e4b071a4bae6dc10  "
      ]
     },
     "execution_count": 59,
     "metadata": {},
     "output_type": "execute_result"
    }
   ],
   "source": [
    "dataframe = pd.json_normalize(items) # flatten JSON\n",
    "\n",
    "# filter columns\n",
    "filtered_columns = ['venue.name', 'venue.categories'] + [col for col in dataframe.columns if col.startswith('venue.location.')] + ['venue.id']\n",
    "dataframe_filtered = dataframe.loc[:, filtered_columns]\n",
    "\n",
    "# filter the category for each row\n",
    "dataframe_filtered['venue.categories'] = dataframe_filtered.apply(get_category_type, axis=1)\n",
    "\n",
    "# clean columns\n",
    "dataframe_filtered.columns = [col.split('.')[-1] for col in dataframe_filtered.columns]\n",
    "\n",
    "dataframe_filtered.head(10)"
   ]
  },
  {
   "cell_type": "code",
   "execution_count": null,
   "metadata": {},
   "outputs": [],
   "source": []
  },
  {
   "cell_type": "code",
   "execution_count": null,
   "metadata": {},
   "outputs": [],
   "source": []
  },
  {
   "cell_type": "markdown",
   "metadata": {
    "button": false,
    "new_sheet": false,
    "run_control": {
     "read_only": false
    }
   },
   "source": [
    "#### Let's visualize these items on the map around our location"
   ]
  },
  {
   "cell_type": "code",
   "execution_count": 60,
   "metadata": {
    "button": false,
    "new_sheet": false,
    "run_control": {
     "read_only": false
    }
   },
   "outputs": [
    {
     "data": {
      "text/html": [
       "<div style=\"width:100%;\"><div style=\"position:relative;width:100%;height:0;padding-bottom:60%;\"><span style=\"color:#565656\">Make this Notebook Trusted to load map: File -> Trust Notebook</span><iframe src=\"about:blank\" style=\"position:absolute;width:100%;height:100%;left:0;top:0;border:none !important;\" data-html=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 onload=\"this.contentDocument.open();this.contentDocument.write(atob(this.getAttribute('data-html')));this.contentDocument.close();\" allowfullscreen webkitallowfullscreen mozallowfullscreen></iframe></div></div>"
      ],
      "text/plain": [
       "<folium.folium.Map at 0x11be62150>"
      ]
     },
     "execution_count": 60,
     "metadata": {},
     "output_type": "execute_result"
    }
   ],
   "source": [
    "venues_map = folium.Map(location=[latitude, longitude], zoom_start=15) # generate map centred around Ecco\n",
    "\n",
    "\n",
    "# add Ecco as a red circle mark\n",
    "folium.features.CircleMarker(\n",
    "    [latitude, longitude],\n",
    "    radius=10,\n",
    "    popup='Ecco',\n",
    "    fill=True,\n",
    "    color='red',\n",
    "    fill_color='red',\n",
    "    fill_opacity=0.6\n",
    "    ).add_to(venues_map)\n",
    "\n",
    "\n",
    "# add popular spots to the map as blue circle markers\n",
    "for lat, lng, label in zip(dataframe_filtered.lat, dataframe_filtered.lng, dataframe_filtered.categories):\n",
    "    folium.features.CircleMarker(\n",
    "        [lat, lng],\n",
    "        radius=5,\n",
    "        popup=label,\n",
    "        fill=True,\n",
    "        color='blue',\n",
    "        fill_color='blue',\n",
    "        fill_opacity=0.6\n",
    "        ).add_to(venues_map)\n",
    "\n",
    "# display map\n",
    "venues_map"
   ]
  },
  {
   "cell_type": "code",
   "execution_count": null,
   "metadata": {},
   "outputs": [],
   "source": []
  },
  {
   "cell_type": "markdown",
   "metadata": {
    "button": false,
    "new_sheet": false,
    "run_control": {
     "read_only": false
    }
   },
   "source": [
    "   "
   ]
  },
  {
   "cell_type": "markdown",
   "metadata": {
    "button": false,
    "new_sheet": false,
    "run_control": {
     "read_only": false
    }
   },
   "source": [
    "<a id=\"item5\"></a>"
   ]
  },
  {
   "cell_type": "markdown",
   "metadata": {
    "button": false,
    "new_sheet": false,
    "run_control": {
     "read_only": false
    }
   },
   "source": [
    "## 5. Explore Trending Venues\n",
    "> `https://api.foursquare.com/v2/venues/`**trending**`?client_id=`**CLIENT_ID**`&client_secret=`**CLIENT_SECRET**`&ll=`**LATITUDE**`,`**LONGITUDE**`&v=`**VERSION**"
   ]
  },
  {
   "cell_type": "markdown",
   "metadata": {
    "button": false,
    "new_sheet": false,
    "run_control": {
     "read_only": false
    }
   },
   "source": [
    "#### Now, instead of simply exploring the area around Ecco, you are interested in knowing the venues that are trending at the time you are done with your lunch, meaning the places with the highest foot traffic. So let's do that and get the trending venues around Ecco."
   ]
  },
  {
   "cell_type": "code",
   "execution_count": 61,
   "metadata": {
    "button": false,
    "new_sheet": false,
    "run_control": {
     "read_only": false
    }
   },
   "outputs": [
    {
     "data": {
      "text/plain": [
       "{'meta': {'code': 200, 'requestId': '5f0d801295079052bc3cb10c'},\n",
       " 'response': {'venues': []}}"
      ]
     },
     "execution_count": 61,
     "metadata": {},
     "output_type": "execute_result"
    }
   ],
   "source": [
    "# define URL\n",
    "url = 'https://api.foursquare.com/v2/venues/trending?client_id={}&client_secret={}&ll={},{}&v={}'.format(CLIENT_ID, CLIENT_SECRET, latitude, longitude, VERSION)\n",
    "\n",
    "# send GET request and get trending venues\n",
    "results = requests.get(url).json()\n",
    "results"
   ]
  },
  {
   "cell_type": "code",
   "execution_count": null,
   "metadata": {},
   "outputs": [],
   "source": []
  },
  {
   "cell_type": "markdown",
   "metadata": {
    "button": false,
    "new_sheet": false,
    "run_control": {
     "read_only": false
    }
   },
   "source": [
    "### Check if any venues are trending at this time"
   ]
  },
  {
   "cell_type": "code",
   "execution_count": 62,
   "metadata": {
    "button": false,
    "new_sheet": false,
    "run_control": {
     "read_only": false
    }
   },
   "outputs": [],
   "source": [
    "if len(results['response']['venues']) == 0:\n",
    "    trending_venues_df = 'No trending venues are available at the moment!'\n",
    "    \n",
    "else:\n",
    "    trending_venues = results['response']['venues']\n",
    "    trending_venues_df = json_normalize(trending_venues)\n",
    "\n",
    "    # filter columns\n",
    "    columns_filtered = ['name', 'categories'] + ['location.distance', 'location.city', 'location.postalCode', 'location.state', 'location.country', 'location.lat', 'location.lng']\n",
    "    trending_venues_df = trending_venues_df.loc[:, columns_filtered]\n",
    "\n",
    "    # filter the category for each row\n",
    "    trending_venues_df['categories'] = trending_venues_df.apply(get_category_type, axis=1)"
   ]
  },
  {
   "cell_type": "code",
   "execution_count": null,
   "metadata": {},
   "outputs": [],
   "source": []
  },
  {
   "cell_type": "code",
   "execution_count": 63,
   "metadata": {
    "button": false,
    "new_sheet": false,
    "run_control": {
     "read_only": false
    }
   },
   "outputs": [
    {
     "data": {
      "text/plain": [
       "'No trending venues are available at the moment!'"
      ]
     },
     "execution_count": 63,
     "metadata": {},
     "output_type": "execute_result"
    }
   ],
   "source": [
    "# display trending venues\n",
    "trending_venues_df"
   ]
  },
  {
   "cell_type": "code",
   "execution_count": null,
   "metadata": {},
   "outputs": [],
   "source": []
  },
  {
   "cell_type": "markdown",
   "metadata": {
    "button": false,
    "new_sheet": false,
    "run_control": {
     "read_only": false
    }
   },
   "source": [
    "Now, depending on when you run the above code, you might get different venues since the venues with the highest foot traffic are fetched live. "
   ]
  },
  {
   "cell_type": "markdown",
   "metadata": {
    "button": false,
    "new_sheet": false,
    "run_control": {
     "read_only": false
    }
   },
   "source": [
    "### Visualize trending venues"
   ]
  },
  {
   "cell_type": "code",
   "execution_count": 64,
   "metadata": {
    "button": false,
    "new_sheet": false,
    "run_control": {
     "read_only": false
    }
   },
   "outputs": [],
   "source": [
    "if len(results['response']['venues']) == 0:\n",
    "    venues_map = 'Cannot generate visual as no trending venues are available at the moment!'\n",
    "\n",
    "else:\n",
    "    venues_map = folium.Map(location=[latitude, longitude], zoom_start=15) # generate map centred around Ecco\n",
    "\n",
    "\n",
    "    # add Ecco as a red circle mark\n",
    "    folium.features.CircleMarker(\n",
    "        [latitude, longitude],\n",
    "        radius=10,\n",
    "        popup='Ecco',\n",
    "        fill=True,\n",
    "        color='red',\n",
    "        fill_color='red',\n",
    "        fill_opacity=0.6\n",
    "    ).add_to(venues_map)\n",
    "\n",
    "\n",
    "    # add the trending venues as blue circle markers\n",
    "    for lat, lng, label in zip(trending_venues_df['location.lat'], trending_venues_df['location.lng'], trending_venues_df['name']):\n",
    "        folium.features.CircleMarker(\n",
    "            [lat, lng],\n",
    "            radius=5,\n",
    "            poup=label,\n",
    "            fill=True,\n",
    "            color='blue',\n",
    "            fill_color='blue',\n",
    "            fill_opacity=0.6\n",
    "        ).add_to(venues_map)"
   ]
  },
  {
   "cell_type": "code",
   "execution_count": null,
   "metadata": {},
   "outputs": [],
   "source": []
  },
  {
   "cell_type": "code",
   "execution_count": 65,
   "metadata": {
    "button": false,
    "new_sheet": false,
    "run_control": {
     "read_only": false
    },
    "scrolled": false
   },
   "outputs": [
    {
     "data": {
      "text/plain": [
       "'Cannot generate visual as no trending venues are available at the moment!'"
      ]
     },
     "execution_count": 65,
     "metadata": {},
     "output_type": "execute_result"
    }
   ],
   "source": [
    "# display map\n",
    "venues_map"
   ]
  },
  {
   "cell_type": "code",
   "execution_count": null,
   "metadata": {},
   "outputs": [],
   "source": []
  },
  {
   "cell_type": "markdown",
   "metadata": {
    "button": false,
    "new_sheet": false,
    "run_control": {
     "read_only": false
    }
   },
   "source": [
    "<a id=\"item6\"></a>"
   ]
  },
  {
   "cell_type": "markdown",
   "metadata": {
    "button": false,
    "new_sheet": false,
    "run_control": {
     "read_only": false
    }
   },
   "source": [
    "   "
   ]
  },
  {
   "cell_type": "markdown",
   "metadata": {
    "button": false,
    "new_sheet": false,
    "run_control": {
     "read_only": false
    }
   },
   "source": [
    "### Thank you for completing this lab!\n",
    "\n",
    "This notebook was created by [Alex Aklson](https://www.linkedin.com/in/aklson/). I hope you found this lab interesting and educational. Feel free to contact me if you have any questions!"
   ]
  },
  {
   "cell_type": "markdown",
   "metadata": {
    "button": false,
    "new_sheet": false,
    "run_control": {
     "read_only": false
    }
   },
   "source": [
    "This notebook is part of a course on **Coursera** called *Applied Data Science Capstone*. If you accessed this notebook outside the course, you can take this course online by clicking [here](http://cocl.us/DP0701EN_Coursera_Week2_LAB1)."
   ]
  },
  {
   "cell_type": "markdown",
   "metadata": {
    "button": false,
    "new_sheet": false,
    "run_control": {
     "read_only": false
    }
   },
   "source": [
    "<hr>\n",
    "Copyright &copy; 2018 [Cognitive Class](https://cognitiveclass.ai/?utm_source=bducopyrightlink&utm_medium=dswb&utm_campaign=bdu). This notebook and its source code are released under the terms of the [MIT License](https://bigdatauniversity.com/mit-license/)."
   ]
  }
 ],
 "metadata": {
  "kernelspec": {
   "display_name": "Python 3",
   "language": "python",
   "name": "python3"
  },
  "language_info": {
   "codemirror_mode": {
    "name": "ipython",
    "version": 3
   },
   "file_extension": ".py",
   "mimetype": "text/x-python",
   "name": "python",
   "nbconvert_exporter": "python",
   "pygments_lexer": "ipython3",
   "version": "3.7.6"
  },
  "widgets": {
   "state": {},
   "version": "1.1.2"
  }
 },
 "nbformat": 4,
 "nbformat_minor": 2
}
